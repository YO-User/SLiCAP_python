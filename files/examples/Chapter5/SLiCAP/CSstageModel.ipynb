{
 "cells": [
  {
   "cell_type": "code",
   "execution_count": 1,
   "id": "cb32638d-a3d2-4ae3-9149-33dd6dd821e8",
   "metadata": {},
   "outputs": [
    {
     "name": "stdout",
     "output_type": "stream",
     "text": [
      "Succesfully self-tested the Maxima command.\n",
      "\n",
      " HTTPSConnectionPool(host='api.github.com', port=443): Max retries exceeded with url: /repos/Lenty/SLiCAP_python/releases/latest (Caused by NewConnectionError('<urllib3.connection.HTTPSConnection object at 0x000001F7EB191B50>: Failed to establish a new connection: [Errno 11001] getaddrinfo failed'))\n",
      "Could not access github to check the latest available version of SLiCAP.\n",
      "SLiCAP Version matches with the latest release of SLiCAP on github.\n",
      "Running from an Ipython enviroment, importing SLiCAPnotebook.\n",
      "Sarting Maxima client on port 53118\n",
      "Maxima CAS client is active and functions have been uploaded.\n",
      "Compiling library: SLiCAP.lib.\n",
      "Compiling library: SLiCAPmodels.lib.\n"
     ]
    },
    {
     "data": {
      "text/plain": [
       "<SLiCAP.SLiCAP.SLiCAPproject at 0x1f7e551cd00>"
      ]
     },
     "execution_count": 1,
     "metadata": {},
     "output_type": "execute_result"
    }
   ],
   "source": [
    "from SLiCAP import *\n",
    "initProject(\"CSstage small-signal dynamic behavior\")"
   ]
  },
  {
   "cell_type": "code",
   "execution_count": 3,
   "id": "58e3e32e-f9a3-40e4-b68f-6b117eca4fe9",
   "metadata": {},
   "outputs": [
    {
     "ename": "ValueError",
     "evalue": "keyword grid_b is not recognized; valid keywords are ['size', 'width', 'color', 'tickdir', 'pad', 'labelsize', 'labelcolor', 'labelfontfamily', 'zorder', 'gridOn', 'tick1On', 'tick2On', 'label1On', 'label2On', 'length', 'direction', 'left', 'bottom', 'right', 'top', 'labelleft', 'labelbottom', 'labelright', 'labeltop', 'labelrotation', 'grid_agg_filter', 'grid_alpha', 'grid_animated', 'grid_antialiased', 'grid_clip_box', 'grid_clip_on', 'grid_clip_path', 'grid_color', 'grid_dash_capstyle', 'grid_dash_joinstyle', 'grid_dashes', 'grid_data', 'grid_drawstyle', 'grid_figure', 'grid_fillstyle', 'grid_gapcolor', 'grid_gid', 'grid_in_layout', 'grid_label', 'grid_linestyle', 'grid_linewidth', 'grid_marker', 'grid_markeredgecolor', 'grid_markeredgewidth', 'grid_markerfacecolor', 'grid_markerfacecoloralt', 'grid_markersize', 'grid_markevery', 'grid_mouseover', 'grid_path_effects', 'grid_picker', 'grid_pickradius', 'grid_rasterized', 'grid_sketch_params', 'grid_snap', 'grid_solid_capstyle', 'grid_solid_joinstyle', 'grid_transform', 'grid_url', 'grid_visible', 'grid_xdata', 'grid_ydata', 'grid_zorder', 'grid_aa', 'grid_c', 'grid_ds', 'grid_ls', 'grid_lw', 'grid_mec', 'grid_mew', 'grid_mfc', 'grid_mfcalt', 'grid_ms']",
     "output_type": "error",
     "traceback": [
      "\u001b[1;31m---------------------------------------------------------------------------\u001b[0m",
      "\u001b[1;31mValueError\u001b[0m                                Traceback (most recent call last)",
      "Cell \u001b[1;32mIn[3], line 1\u001b[0m\n\u001b[1;32m----> 1\u001b[0m \u001b[38;5;28;01mfrom\u001b[39;00m \u001b[38;5;21;01mCSstageLTspice\u001b[39;00m \u001b[38;5;28;01mimport\u001b[39;00m LTmag, LTphase\n\u001b[0;32m      2\u001b[0m \u001b[38;5;28;01mfrom\u001b[39;00m \u001b[38;5;21;01mCSstageEKV\u001b[39;00m \u001b[38;5;28;01mimport\u001b[39;00m gm, go, cgs, cgb, cdg, cdb\n",
      "File \u001b[1;32m~\\OneDrive\\Documents\\GitHub\\SLiCAP_python\\files\\examples\\Chapter5\\SLiCAP\\CSstageLTspice.py:87\u001b[0m\n\u001b[0;32m     84\u001b[0m head2html(\u001b[38;5;124m'\u001b[39m\u001b[38;5;124mLTspice operating point and AC analysis\u001b[39m\u001b[38;5;124m'\u001b[39m)\n\u001b[0;32m     85\u001b[0m img2html(\u001b[38;5;124m'\u001b[39m\u001b[38;5;124mLTspiceCSstage.svg\u001b[39m\u001b[38;5;124m'\u001b[39m, \u001b[38;5;241m800\u001b[39m)\n\u001b[1;32m---> 87\u001b[0m figLTmag \u001b[38;5;241m=\u001b[39m \u001b[43mplot\u001b[49m\u001b[43m(\u001b[49m\u001b[38;5;124;43m'\u001b[39;49m\u001b[38;5;124;43mLTmag\u001b[39;49m\u001b[38;5;124;43m'\u001b[39;49m\u001b[43m,\u001b[49m\u001b[43m \u001b[49m\u001b[38;5;124;43m'\u001b[39;49m\u001b[38;5;124;43mAC simulation magnitude charactersitics\u001b[39;49m\u001b[38;5;124;43m'\u001b[39;49m\u001b[43m,\u001b[49m\u001b[43m \u001b[49m\n\u001b[0;32m     88\u001b[0m \u001b[43m                \u001b[49m\u001b[38;5;124;43m'\u001b[39;49m\u001b[38;5;124;43mlog\u001b[39;49m\u001b[38;5;124;43m'\u001b[39;49m\u001b[43m,\u001b[49m\u001b[43m \u001b[49m\u001b[43mLTmag\u001b[49m\u001b[43m,\u001b[49m\u001b[43m \u001b[49m\u001b[43mxName\u001b[49m\u001b[38;5;241;43m=\u001b[39;49m\u001b[38;5;124;43m'\u001b[39;49m\u001b[38;5;124;43mfrequency\u001b[39;49m\u001b[38;5;124;43m'\u001b[39;49m\u001b[43m,\u001b[49m\u001b[43m \u001b[49m\u001b[43mxUnits\u001b[49m\u001b[38;5;241;43m=\u001b[39;49m\u001b[38;5;124;43m'\u001b[39;49m\u001b[38;5;124;43mHz\u001b[39;49m\u001b[38;5;124;43m'\u001b[39;49m\u001b[43m,\u001b[49m\n\u001b[0;32m     89\u001b[0m \u001b[43m                \u001b[49m\u001b[43myName\u001b[49m\u001b[38;5;241;43m=\u001b[39;49m\u001b[38;5;124;43m'\u001b[39;49m\u001b[38;5;124;43m$V_\u001b[39;49m\u001b[38;5;132;43;01m{out}\u001b[39;49;00m\u001b[38;5;124;43m$\u001b[39;49m\u001b[38;5;124;43m'\u001b[39;49m\u001b[43m,\u001b[49m\u001b[43m \u001b[49m\u001b[43myUnits\u001b[49m\u001b[43m \u001b[49m\u001b[38;5;241;43m=\u001b[39;49m\u001b[43m \u001b[49m\u001b[38;5;124;43m'\u001b[39;49m\u001b[38;5;124;43m$\u001b[39;49m\u001b[38;5;130;43;01m\\\\\u001b[39;49;00m\u001b[38;5;124;43mOmega$\u001b[39;49m\u001b[38;5;124;43m'\u001b[39;49m\u001b[43m,\u001b[49m\u001b[43m \u001b[49m\u001b[43mshow\u001b[49m\u001b[38;5;241;43m=\u001b[39;49m\u001b[38;5;28;43;01mTrue\u001b[39;49;00m\u001b[43m)\u001b[49m\n\u001b[0;32m     91\u001b[0m figLTphase \u001b[38;5;241m=\u001b[39m plot(\u001b[38;5;124m'\u001b[39m\u001b[38;5;124mLTphase\u001b[39m\u001b[38;5;124m'\u001b[39m, \u001b[38;5;124m'\u001b[39m\u001b[38;5;124mAC simulation phase charactersitics\u001b[39m\u001b[38;5;124m'\u001b[39m, \n\u001b[0;32m     92\u001b[0m                 \u001b[38;5;124m'\u001b[39m\u001b[38;5;124msemilogx\u001b[39m\u001b[38;5;124m'\u001b[39m, LTphase, xName\u001b[38;5;241m=\u001b[39m\u001b[38;5;124m'\u001b[39m\u001b[38;5;124mfrequency\u001b[39m\u001b[38;5;124m'\u001b[39m, xUnits\u001b[38;5;241m=\u001b[39m\u001b[38;5;124m'\u001b[39m\u001b[38;5;124mHz\u001b[39m\u001b[38;5;124m'\u001b[39m,\n\u001b[0;32m     93\u001b[0m                 yName\u001b[38;5;241m=\u001b[39m\u001b[38;5;124m'\u001b[39m\u001b[38;5;124m$arg(V_\u001b[39m\u001b[38;5;132;01m{out}\u001b[39;00m\u001b[38;5;124m)$\u001b[39m\u001b[38;5;124m'\u001b[39m, yUnits \u001b[38;5;241m=\u001b[39m \u001b[38;5;124m'\u001b[39m\u001b[38;5;124mdeg\u001b[39m\u001b[38;5;124m'\u001b[39m, show\u001b[38;5;241m=\u001b[39m\u001b[38;5;28;01mTrue\u001b[39;00m)\n\u001b[0;32m     95\u001b[0m \u001b[38;5;66;03m# Place the plots on the HTML active page\u001b[39;00m\n",
      "File \u001b[1;32m~\\AppData\\Roaming\\Python\\Python39\\site-packages\\SLiCAP\\SLiCAPplots\\SLiCAPplots.py:1240\u001b[0m, in \u001b[0;36mplot\u001b[1;34m(fileName, title, axisType, plotData, xName, xScale, xUnits, yName, yScale, yUnits, xLim, yLim, show)\u001b[0m\n\u001b[0;32m   1238\u001b[0m     ax\u001b[38;5;241m.\u001b[39mtraces\u001b[38;5;241m.\u001b[39mappend(newTrace)\n\u001b[0;32m   1239\u001b[0m fig\u001b[38;5;241m.\u001b[39maxes \u001b[38;5;241m=\u001b[39m [[ax]]\n\u001b[1;32m-> 1240\u001b[0m \u001b[43mfig\u001b[49m\u001b[38;5;241;43m.\u001b[39;49m\u001b[43mplot\u001b[49m\u001b[43m(\u001b[49m\u001b[43m)\u001b[49m\n\u001b[0;32m   1241\u001b[0m \u001b[38;5;28;01mreturn\u001b[39;00m fig\n",
      "File \u001b[1;32m~\\AppData\\Roaming\\Python\\Python39\\site-packages\\SLiCAP\\SLiCAPplots\\SLiCAPplots.py:353\u001b[0m, in \u001b[0;36mfigure.plot\u001b[1;34m(self)\u001b[0m\n\u001b[0;32m    351\u001b[0m                 plt\u001b[38;5;241m.\u001b[39mtext(X, Y, txt, fontsize \u001b[38;5;241m=\u001b[39m ini\u001b[38;5;241m.\u001b[39mplotFontSize)\n\u001b[0;32m    352\u001b[0m             \u001b[38;5;66;03m# Set default font sizes and grid\u001b[39;00m\n\u001b[1;32m--> 353\u001b[0m             \u001b[43mdefaultsPlot\u001b[49m\u001b[43m(\u001b[49m\u001b[43m)\u001b[49m\n\u001b[0;32m    354\u001b[0m \u001b[38;5;66;03m# Save the figure\"\u001b[39;00m\n\u001b[0;32m    355\u001b[0m plt\u001b[38;5;241m.\u001b[39msavefig(ini\u001b[38;5;241m.\u001b[39mimgPath \u001b[38;5;241m+\u001b[39m \u001b[38;5;28mself\u001b[39m\u001b[38;5;241m.\u001b[39mfileName)\n",
      "File \u001b[1;32m~\\AppData\\Roaming\\Python\\Python39\\site-packages\\SLiCAP\\SLiCAPplots\\SLiCAPplots.py:370\u001b[0m, in \u001b[0;36mdefaultsPlot\u001b[1;34m()\u001b[0m\n\u001b[0;32m    368\u001b[0m \u001b[38;5;28;01mfor\u001b[39;00m i \u001b[38;5;129;01min\u001b[39;00m \u001b[38;5;28mrange\u001b[39m(\u001b[38;5;28mlen\u001b[39m(fig\u001b[38;5;241m.\u001b[39maxes)):\n\u001b[0;32m    369\u001b[0m     fig\u001b[38;5;241m.\u001b[39maxes[i]\u001b[38;5;241m.\u001b[39mtitle\u001b[38;5;241m.\u001b[39mset_fontsize(ini\u001b[38;5;241m.\u001b[39mplotFontSize)\n\u001b[1;32m--> 370\u001b[0m     \u001b[43mfig\u001b[49m\u001b[38;5;241;43m.\u001b[39;49m\u001b[43maxes\u001b[49m\u001b[43m[\u001b[49m\u001b[43mi\u001b[49m\u001b[43m]\u001b[49m\u001b[38;5;241;43m.\u001b[39;49m\u001b[43mgrid\u001b[49m\u001b[43m(\u001b[49m\u001b[43mb\u001b[49m\u001b[38;5;241;43m=\u001b[39;49m\u001b[38;5;28;43;01mTrue\u001b[39;49;00m\u001b[43m,\u001b[49m\u001b[43m \u001b[49m\u001b[43mwhich\u001b[49m\u001b[38;5;241;43m=\u001b[39;49m\u001b[38;5;124;43m'\u001b[39;49m\u001b[38;5;124;43mmajor\u001b[39;49m\u001b[38;5;124;43m'\u001b[39;49m\u001b[43m,\u001b[49m\u001b[43m \u001b[49m\u001b[43mcolor\u001b[49m\u001b[38;5;241;43m=\u001b[39;49m\u001b[38;5;124;43m'\u001b[39;49m\u001b[38;5;124;43m0.5\u001b[39;49m\u001b[38;5;124;43m'\u001b[39;49m\u001b[43m,\u001b[49m\u001b[43mlinestyle\u001b[49m\u001b[38;5;241;43m=\u001b[39;49m\u001b[38;5;124;43m'\u001b[39;49m\u001b[38;5;124;43m-\u001b[39;49m\u001b[38;5;124;43m'\u001b[39;49m\u001b[43m)\u001b[49m\n\u001b[0;32m    371\u001b[0m     fig\u001b[38;5;241m.\u001b[39maxes[i]\u001b[38;5;241m.\u001b[39mgrid(b\u001b[38;5;241m=\u001b[39m\u001b[38;5;28;01mTrue\u001b[39;00m, which\u001b[38;5;241m=\u001b[39m\u001b[38;5;124m'\u001b[39m\u001b[38;5;124mminor\u001b[39m\u001b[38;5;124m'\u001b[39m, color\u001b[38;5;241m=\u001b[39m\u001b[38;5;124m'\u001b[39m\u001b[38;5;124m0.5\u001b[39m\u001b[38;5;124m'\u001b[39m,linestyle\u001b[38;5;241m=\u001b[39m\u001b[38;5;124m'\u001b[39m\u001b[38;5;124m:\u001b[39m\u001b[38;5;124m'\u001b[39m)\n\u001b[0;32m    372\u001b[0m     t \u001b[38;5;241m=\u001b[39m fig\u001b[38;5;241m.\u001b[39maxes[i]\u001b[38;5;241m.\u001b[39mxaxis\u001b[38;5;241m.\u001b[39mget_offset_text()\n",
      "File \u001b[1;32mC:\\ProgramData\\Anaconda3\\lib\\site-packages\\matplotlib\\axes\\_base.py:3196\u001b[0m, in \u001b[0;36m_AxesBase.grid\u001b[1;34m(self, visible, which, axis, **kwargs)\u001b[0m\n\u001b[0;32m   3194\u001b[0m _api\u001b[38;5;241m.\u001b[39mcheck_in_list([\u001b[38;5;124m'\u001b[39m\u001b[38;5;124mx\u001b[39m\u001b[38;5;124m'\u001b[39m, \u001b[38;5;124m'\u001b[39m\u001b[38;5;124my\u001b[39m\u001b[38;5;124m'\u001b[39m, \u001b[38;5;124m'\u001b[39m\u001b[38;5;124mboth\u001b[39m\u001b[38;5;124m'\u001b[39m], axis\u001b[38;5;241m=\u001b[39maxis)\n\u001b[0;32m   3195\u001b[0m \u001b[38;5;28;01mif\u001b[39;00m axis \u001b[38;5;129;01min\u001b[39;00m [\u001b[38;5;124m'\u001b[39m\u001b[38;5;124mx\u001b[39m\u001b[38;5;124m'\u001b[39m, \u001b[38;5;124m'\u001b[39m\u001b[38;5;124mboth\u001b[39m\u001b[38;5;124m'\u001b[39m]:\n\u001b[1;32m-> 3196\u001b[0m     \u001b[38;5;28mself\u001b[39m\u001b[38;5;241m.\u001b[39mxaxis\u001b[38;5;241m.\u001b[39mgrid(visible, which\u001b[38;5;241m=\u001b[39mwhich, \u001b[38;5;241m*\u001b[39m\u001b[38;5;241m*\u001b[39mkwargs)\n\u001b[0;32m   3197\u001b[0m \u001b[38;5;28;01mif\u001b[39;00m axis \u001b[38;5;129;01min\u001b[39;00m [\u001b[38;5;124m'\u001b[39m\u001b[38;5;124my\u001b[39m\u001b[38;5;124m'\u001b[39m, \u001b[38;5;124m'\u001b[39m\u001b[38;5;124mboth\u001b[39m\u001b[38;5;124m'\u001b[39m]:\n\u001b[0;32m   3198\u001b[0m     \u001b[38;5;28mself\u001b[39m\u001b[38;5;241m.\u001b[39myaxis\u001b[38;5;241m.\u001b[39mgrid(visible, which\u001b[38;5;241m=\u001b[39mwhich, \u001b[38;5;241m*\u001b[39m\u001b[38;5;241m*\u001b[39mkwargs)\n",
      "File \u001b[1;32mC:\\ProgramData\\Anaconda3\\lib\\site-packages\\matplotlib\\axis.py:1697\u001b[0m, in \u001b[0;36mAxis.grid\u001b[1;34m(self, visible, which, **kwargs)\u001b[0m\n\u001b[0;32m   1694\u001b[0m \u001b[38;5;28;01mif\u001b[39;00m which \u001b[38;5;129;01min\u001b[39;00m [\u001b[38;5;124m'\u001b[39m\u001b[38;5;124mmajor\u001b[39m\u001b[38;5;124m'\u001b[39m, \u001b[38;5;124m'\u001b[39m\u001b[38;5;124mboth\u001b[39m\u001b[38;5;124m'\u001b[39m]:\n\u001b[0;32m   1695\u001b[0m     gridkw[\u001b[38;5;124m'\u001b[39m\u001b[38;5;124mgridOn\u001b[39m\u001b[38;5;124m'\u001b[39m] \u001b[38;5;241m=\u001b[39m (\u001b[38;5;129;01mnot\u001b[39;00m \u001b[38;5;28mself\u001b[39m\u001b[38;5;241m.\u001b[39m_major_tick_kw[\u001b[38;5;124m'\u001b[39m\u001b[38;5;124mgridOn\u001b[39m\u001b[38;5;124m'\u001b[39m]\n\u001b[0;32m   1696\u001b[0m                         \u001b[38;5;28;01mif\u001b[39;00m visible \u001b[38;5;129;01mis\u001b[39;00m \u001b[38;5;28;01mNone\u001b[39;00m \u001b[38;5;28;01melse\u001b[39;00m visible)\n\u001b[1;32m-> 1697\u001b[0m     \u001b[38;5;28mself\u001b[39m\u001b[38;5;241m.\u001b[39mset_tick_params(which\u001b[38;5;241m=\u001b[39m\u001b[38;5;124m'\u001b[39m\u001b[38;5;124mmajor\u001b[39m\u001b[38;5;124m'\u001b[39m, \u001b[38;5;241m*\u001b[39m\u001b[38;5;241m*\u001b[39mgridkw)\n\u001b[0;32m   1698\u001b[0m \u001b[38;5;28mself\u001b[39m\u001b[38;5;241m.\u001b[39mstale \u001b[38;5;241m=\u001b[39m \u001b[38;5;28;01mTrue\u001b[39;00m\n",
      "File \u001b[1;32mC:\\ProgramData\\Anaconda3\\lib\\site-packages\\matplotlib\\axis.py:958\u001b[0m, in \u001b[0;36mAxis.set_tick_params\u001b[1;34m(self, which, reset, **kwargs)\u001b[0m\n\u001b[0;32m    945\u001b[0m \u001b[38;5;250m\u001b[39m\u001b[38;5;124;03m\"\"\"\u001b[39;00m\n\u001b[0;32m    946\u001b[0m \u001b[38;5;124;03mSet appearance parameters for ticks, ticklabels, and gridlines.\u001b[39;00m\n\u001b[0;32m    947\u001b[0m \n\u001b[1;32m   (...)\u001b[0m\n\u001b[0;32m    955\u001b[0m \u001b[38;5;124;03m    gridlines.\u001b[39;00m\n\u001b[0;32m    956\u001b[0m \u001b[38;5;124;03m\"\"\"\u001b[39;00m\n\u001b[0;32m    957\u001b[0m _api\u001b[38;5;241m.\u001b[39mcheck_in_list([\u001b[38;5;124m'\u001b[39m\u001b[38;5;124mmajor\u001b[39m\u001b[38;5;124m'\u001b[39m, \u001b[38;5;124m'\u001b[39m\u001b[38;5;124mminor\u001b[39m\u001b[38;5;124m'\u001b[39m, \u001b[38;5;124m'\u001b[39m\u001b[38;5;124mboth\u001b[39m\u001b[38;5;124m'\u001b[39m], which\u001b[38;5;241m=\u001b[39mwhich)\n\u001b[1;32m--> 958\u001b[0m kwtrans \u001b[38;5;241m=\u001b[39m \u001b[38;5;28;43mself\u001b[39;49m\u001b[38;5;241;43m.\u001b[39;49m\u001b[43m_translate_tick_params\u001b[49m\u001b[43m(\u001b[49m\u001b[43mkwargs\u001b[49m\u001b[43m)\u001b[49m\n\u001b[0;32m    960\u001b[0m \u001b[38;5;66;03m# the kwargs are stored in self._major/minor_tick_kw so that any\u001b[39;00m\n\u001b[0;32m    961\u001b[0m \u001b[38;5;66;03m# future new ticks will automatically get them\u001b[39;00m\n\u001b[0;32m    962\u001b[0m \u001b[38;5;28;01mif\u001b[39;00m reset:\n",
      "File \u001b[1;32mC:\\ProgramData\\Anaconda3\\lib\\site-packages\\matplotlib\\axis.py:1102\u001b[0m, in \u001b[0;36mAxis._translate_tick_params\u001b[1;34m(kw, reverse)\u001b[0m\n\u001b[0;32m   1100\u001b[0m \u001b[38;5;28;01mfor\u001b[39;00m key \u001b[38;5;129;01min\u001b[39;00m kw_:\n\u001b[0;32m   1101\u001b[0m     \u001b[38;5;28;01mif\u001b[39;00m key \u001b[38;5;129;01mnot\u001b[39;00m \u001b[38;5;129;01min\u001b[39;00m allowed_keys:\n\u001b[1;32m-> 1102\u001b[0m         \u001b[38;5;28;01mraise\u001b[39;00m \u001b[38;5;167;01mValueError\u001b[39;00m(\n\u001b[0;32m   1103\u001b[0m             \u001b[38;5;124m\"\u001b[39m\u001b[38;5;124mkeyword \u001b[39m\u001b[38;5;132;01m%s\u001b[39;00m\u001b[38;5;124m is not recognized; valid keywords are \u001b[39m\u001b[38;5;132;01m%s\u001b[39;00m\u001b[38;5;124m\"\u001b[39m\n\u001b[0;32m   1104\u001b[0m             \u001b[38;5;241m%\u001b[39m (key, allowed_keys))\n\u001b[0;32m   1105\u001b[0m kwtrans\u001b[38;5;241m.\u001b[39mupdate(kw_)\n\u001b[0;32m   1106\u001b[0m \u001b[38;5;28;01mreturn\u001b[39;00m kwtrans\n",
      "\u001b[1;31mValueError\u001b[0m: keyword grid_b is not recognized; valid keywords are ['size', 'width', 'color', 'tickdir', 'pad', 'labelsize', 'labelcolor', 'labelfontfamily', 'zorder', 'gridOn', 'tick1On', 'tick2On', 'label1On', 'label2On', 'length', 'direction', 'left', 'bottom', 'right', 'top', 'labelleft', 'labelbottom', 'labelright', 'labeltop', 'labelrotation', 'grid_agg_filter', 'grid_alpha', 'grid_animated', 'grid_antialiased', 'grid_clip_box', 'grid_clip_on', 'grid_clip_path', 'grid_color', 'grid_dash_capstyle', 'grid_dash_joinstyle', 'grid_dashes', 'grid_data', 'grid_drawstyle', 'grid_figure', 'grid_fillstyle', 'grid_gapcolor', 'grid_gid', 'grid_in_layout', 'grid_label', 'grid_linestyle', 'grid_linewidth', 'grid_marker', 'grid_markeredgecolor', 'grid_markeredgewidth', 'grid_markerfacecolor', 'grid_markerfacecoloralt', 'grid_markersize', 'grid_markevery', 'grid_mouseover', 'grid_path_effects', 'grid_picker', 'grid_pickradius', 'grid_rasterized', 'grid_sketch_params', 'grid_snap', 'grid_solid_capstyle', 'grid_solid_joinstyle', 'grid_transform', 'grid_url', 'grid_visible', 'grid_xdata', 'grid_ydata', 'grid_zorder', 'grid_aa', 'grid_c', 'grid_ds', 'grid_ls', 'grid_lw', 'grid_mec', 'grid_mew', 'grid_mfc', 'grid_mfcalt', 'grid_ms']"
     ]
    },
    {
     "data": {
      "image/png": "[encoded data removed]",
      "text/plain": [
       "<Figure size 700x500 with 1 Axes>"
      ]
     },
     "metadata": {},
     "output_type": "display_data"
    }
   ],
   "source": [
    "from CSstageLTspice import LTmag, LTphase\n",
    "from CSstageEKV import gm, go, cgs, cgb, cdg, cdb\n"
   ]
  },
  {
   "cell_type": "code",
   "execution_count": 4,
   "id": "6315a604-0fe7-422c-9dae-f26ffc48ae1c",
   "metadata": {},
   "outputs": [
    {
     "name": "stdout",
     "output_type": "stream",
     "text": [
      "Checking netlist: C:\\Users\\User\\OneDrive\\Documents\\GitHub\\SLiCAP_python\\files\\examples\\Chapter5\\SLiCAP/cir/CSstageModel.cir\n"
     ]
    },
    {
     "ename": "NameError",
     "evalue": "name 'gm' is not defined",
     "output_type": "error",
     "traceback": [
      "\u001b[1;31m---------------------------------------------------------------------------\u001b[0m",
      "\u001b[1;31mNameError\u001b[0m                                 Traceback (most recent call last)",
      "Cell \u001b[1;32mIn[4], line 11\u001b[0m\n\u001b[0;32m      8\u001b[0m i1\u001b[38;5;241m.\u001b[39msetCircuit(\u001b[38;5;124m'\u001b[39m\u001b[38;5;124mCSstageModel.cir\u001b[39m\u001b[38;5;124m'\u001b[39m)\n\u001b[0;32m      9\u001b[0m \u001b[38;5;66;03m# This creates an new index page in the html report and links to new pages\u001b[39;00m\n\u001b[0;32m     10\u001b[0m \u001b[38;5;66;03m# will now be placed on this index page\u001b[39;00m\n\u001b[1;32m---> 11\u001b[0m i1\u001b[38;5;241m.\u001b[39mdefPar(\u001b[38;5;124m'\u001b[39m\u001b[38;5;124mg_m\u001b[39m\u001b[38;5;124m'\u001b[39m, \u001b[43mgm\u001b[49m)\n\u001b[0;32m     12\u001b[0m i1\u001b[38;5;241m.\u001b[39mdefPar(\u001b[38;5;124m'\u001b[39m\u001b[38;5;124mg_o\u001b[39m\u001b[38;5;124m'\u001b[39m, go)\n\u001b[0;32m     13\u001b[0m i1\u001b[38;5;241m.\u001b[39mdefPar(\u001b[38;5;124m'\u001b[39m\u001b[38;5;124mc_gs\u001b[39m\u001b[38;5;124m'\u001b[39m, cgs)\n",
      "\u001b[1;31mNameError\u001b[0m: name 'gm' is not defined"
     ]
    }
   ],
   "source": [
    "\n",
    "# Uncomment the next line if you want to overwrite the main html index page\n",
    "#prj = initProject('CSstageSmallSignal');\n",
    "\n",
    "# Generate netlist\n",
    "#makeNetlist('CSstageModel.asc', 'CS stage MOS small-signal model');\n",
    "\n",
    "i1 = instruction()\n",
    "i1.setCircuit('CSstageModel.cir')\n",
    "# This creates an new index page in the html report and links to new pages\n",
    "# will now be placed on this index page\n",
    "i1.defPar('g_m', gm)\n",
    "i1.defPar('g_o', go)\n",
    "i1.defPar('c_gs', cgs)\n",
    "i1.defPar('c_gb', cgb)\n",
    "i1.defPar('c_dg', cdg)\n",
    "i1.defPar('c_db', cdb)\n",
    "\n",
    "#i1.defPar('g_mp', gmp)\n",
    "#i1.defPar('g_op', gop)\n",
    "#i1.defPar('c_gsp', cgsp)\n",
    "#i1.defPar('c_gbp', cgbp)\n",
    "#i1.defPar('c_dgp', cdgp)\n",
    "#i1.defPar('c_dbp', cdbp)"
   ]
  },
  {
   "cell_type": "code",
   "execution_count": 5,
   "id": "c5bfd6ef-25bf-4829-90f6-159adf215bcd",
   "metadata": {
    "tags": []
   },
   "outputs": [
    {
     "data": {
      "text/plain": [
       "'<table><caption>Table: Parameter definitions in \\'CS stage MOS small-signal model\\'.</caption>\\n<tr><th class=\"left\">Name</th><th class=\"left\">Symbolic</th><th class=\"left\">Numeric</th></tr>\\n<tr><td class=\"left\">$$R_{L}$$</td><td class=\"left\">$$1.0 \\\\cdot 10^{4}$$</td><td class=\"left\">$$1.0 \\\\cdot 10^{4}$$</td></tr>\\n<tr><td class=\"left\">$$R_{s}$$</td><td class=\"left\">$$1.0 \\\\cdot 10^{10}$$</td><td class=\"left\">$$1.0 \\\\cdot 10^{10}$$</td></tr>\\n</table>\\n<table><caption>Table: Parameters without definition in \\'CS stage MOS small-signal model.</caption>\\n\\n<tr><th class=\"left\">Name</th></tr>\\n<tr><td class=\"left\">$$c_{db}$$</td></tr>\\n<tr><td class=\"left\">$$g_{o}$$</td></tr>\\n<tr><td class=\"left\">$$c_{gb}$$</td></tr>\\n<tr><td class=\"left\">$$c_{dg}$$</td></tr>\\n<tr><td class=\"left\">$$g_{m}$$</td></tr>\\n<tr><td class=\"left\">$$c_{gs}$$</td></tr>\\n</table>\\n'"
      ]
     },
     "execution_count": 5,
     "metadata": {},
     "output_type": "execute_result"
    }
   ],
   "source": [
    "htmlPage('Circuit data')\n",
    "head2html('Circuit diagram')\n",
    "img2html('CSstageModel.svg', 600)\n",
    "netlist2html('CSstageModel.cir')\n",
    "elementData2html(i1.circuit)\n",
    "params2html(i1.circuit)"
   ]
  },
  {
   "cell_type": "code",
   "execution_count": 6,
   "id": "68342c55-7952-4605-97c1-2ac1f9dce23c",
   "metadata": {},
   "outputs": [
    {
     "name": "stdout",
     "output_type": "stream",
     "text": [
      "Error in plot data of 'magZtModel.svg'.\n"
     ]
    },
    {
     "ename": "ValueError",
     "evalue": "keyword grid_b is not recognized; valid keywords are ['size', 'width', 'color', 'tickdir', 'pad', 'labelsize', 'labelcolor', 'labelfontfamily', 'zorder', 'gridOn', 'tick1On', 'tick2On', 'label1On', 'label2On', 'length', 'direction', 'left', 'bottom', 'right', 'top', 'labelleft', 'labelbottom', 'labelright', 'labeltop', 'labelrotation', 'grid_agg_filter', 'grid_alpha', 'grid_animated', 'grid_antialiased', 'grid_clip_box', 'grid_clip_on', 'grid_clip_path', 'grid_color', 'grid_dash_capstyle', 'grid_dash_joinstyle', 'grid_dashes', 'grid_data', 'grid_drawstyle', 'grid_figure', 'grid_fillstyle', 'grid_gapcolor', 'grid_gid', 'grid_in_layout', 'grid_label', 'grid_linestyle', 'grid_linewidth', 'grid_marker', 'grid_markeredgecolor', 'grid_markeredgewidth', 'grid_markerfacecolor', 'grid_markerfacecoloralt', 'grid_markersize', 'grid_markevery', 'grid_mouseover', 'grid_path_effects', 'grid_picker', 'grid_pickradius', 'grid_rasterized', 'grid_sketch_params', 'grid_snap', 'grid_solid_capstyle', 'grid_solid_joinstyle', 'grid_transform', 'grid_url', 'grid_visible', 'grid_xdata', 'grid_ydata', 'grid_zorder', 'grid_aa', 'grid_c', 'grid_ds', 'grid_ls', 'grid_lw', 'grid_mec', 'grid_mew', 'grid_mfc', 'grid_mfcalt', 'grid_ms']",
     "output_type": "error",
     "traceback": [
      "\u001b[1;31m---------------------------------------------------------------------------\u001b[0m",
      "\u001b[1;31mValueError\u001b[0m                                Traceback (most recent call last)",
      "Cell \u001b[1;32mIn[6], line 13\u001b[0m\n\u001b[0;32m     10\u001b[0m eqn2html(\u001b[38;5;124m'\u001b[39m\u001b[38;5;124mZ_t\u001b[39m\u001b[38;5;124m'\u001b[39m, normalizeRational(gainModel\u001b[38;5;241m.\u001b[39mlaplace))\n\u001b[0;32m     12\u001b[0m head2html(\u001b[38;5;124m'\u001b[39m\u001b[38;5;124mBode plots\u001b[39m\u001b[38;5;124m'\u001b[39m)\n\u001b[1;32m---> 13\u001b[0m magZtModel \u001b[38;5;241m=\u001b[39m \u001b[43mplotSweep\u001b[49m\u001b[43m(\u001b[49m\u001b[38;5;124;43m'\u001b[39;49m\u001b[38;5;124;43mmagZtModel\u001b[39;49m\u001b[38;5;124;43m'\u001b[39;49m\u001b[43m,\u001b[49m\u001b[43m \u001b[49m\u001b[38;5;124;43m'\u001b[39;49m\u001b[38;5;124;43mmagnitude\u001b[39;49m\u001b[38;5;124;43m'\u001b[39;49m\u001b[43m,\u001b[49m\u001b[43m \u001b[49m\u001b[43mgainModel\u001b[49m\u001b[43m,\u001b[49m\u001b[43m \u001b[49m\u001b[38;5;241;43m1\u001b[39;49m\u001b[43m,\u001b[49m\u001b[43m \u001b[49m\u001b[38;5;241;43m100e9\u001b[39;49m\u001b[43m,\u001b[49m\u001b[43m \u001b[49m\u001b[38;5;241;43m200\u001b[39;49m\u001b[43m,\u001b[49m\u001b[43m \u001b[49m\u001b[43mfuncType\u001b[49m\u001b[43m \u001b[49m\u001b[38;5;241;43m=\u001b[39;49m\u001b[43m \u001b[49m\u001b[38;5;124;43m'\u001b[39;49m\u001b[38;5;124;43mmag\u001b[39;49m\u001b[38;5;124;43m'\u001b[39;49m\u001b[43m,\u001b[49m\u001b[43m \u001b[49m\u001b[43mshow\u001b[49m\u001b[38;5;241;43m=\u001b[39;49m\u001b[38;5;28;43;01mTrue\u001b[39;49;00m\u001b[43m)\u001b[49m\n\u001b[0;32m     14\u001b[0m traces2fig(LTmag, magZtModel)\n\u001b[0;32m     15\u001b[0m magZtModel\u001b[38;5;241m.\u001b[39mplot()\n",
      "File \u001b[1;32m~\\AppData\\Roaming\\Python\\Python39\\site-packages\\SLiCAP\\SLiCAPplots\\SLiCAPplots.py:859\u001b[0m, in \u001b[0;36mplotSweep\u001b[1;34m(fileName, title, results, sweepStart, sweepStop, sweepNum, sweepVar, sweepScale, xVar, xScale, xUnits, xLim, yLim, axisType, funcType, yVar, yScale, yUnits, noiseSources, show)\u001b[0m\n\u001b[0;32m    857\u001b[0m                     \u001b[38;5;28;01mpass\u001b[39;00m\n\u001b[0;32m    858\u001b[0m fig\u001b[38;5;241m.\u001b[39maxes \u001b[38;5;241m=\u001b[39m [[ax]]\n\u001b[1;32m--> 859\u001b[0m \u001b[43mfig\u001b[49m\u001b[38;5;241;43m.\u001b[39;49m\u001b[43mplot\u001b[49m\u001b[43m(\u001b[49m\u001b[43m)\u001b[49m\n\u001b[0;32m    860\u001b[0m \u001b[38;5;28;01mreturn\u001b[39;00m fig\n",
      "File \u001b[1;32m~\\AppData\\Roaming\\Python\\Python39\\site-packages\\SLiCAP\\SLiCAPplots\\SLiCAPplots.py:353\u001b[0m, in \u001b[0;36mfigure.plot\u001b[1;34m(self)\u001b[0m\n\u001b[0;32m    351\u001b[0m                 plt\u001b[38;5;241m.\u001b[39mtext(X, Y, txt, fontsize \u001b[38;5;241m=\u001b[39m ini\u001b[38;5;241m.\u001b[39mplotFontSize)\n\u001b[0;32m    352\u001b[0m             \u001b[38;5;66;03m# Set default font sizes and grid\u001b[39;00m\n\u001b[1;32m--> 353\u001b[0m             \u001b[43mdefaultsPlot\u001b[49m\u001b[43m(\u001b[49m\u001b[43m)\u001b[49m\n\u001b[0;32m    354\u001b[0m \u001b[38;5;66;03m# Save the figure\"\u001b[39;00m\n\u001b[0;32m    355\u001b[0m plt\u001b[38;5;241m.\u001b[39msavefig(ini\u001b[38;5;241m.\u001b[39mimgPath \u001b[38;5;241m+\u001b[39m \u001b[38;5;28mself\u001b[39m\u001b[38;5;241m.\u001b[39mfileName)\n",
      "File \u001b[1;32m~\\AppData\\Roaming\\Python\\Python39\\site-packages\\SLiCAP\\SLiCAPplots\\SLiCAPplots.py:370\u001b[0m, in \u001b[0;36mdefaultsPlot\u001b[1;34m()\u001b[0m\n\u001b[0;32m    368\u001b[0m \u001b[38;5;28;01mfor\u001b[39;00m i \u001b[38;5;129;01min\u001b[39;00m \u001b[38;5;28mrange\u001b[39m(\u001b[38;5;28mlen\u001b[39m(fig\u001b[38;5;241m.\u001b[39maxes)):\n\u001b[0;32m    369\u001b[0m     fig\u001b[38;5;241m.\u001b[39maxes[i]\u001b[38;5;241m.\u001b[39mtitle\u001b[38;5;241m.\u001b[39mset_fontsize(ini\u001b[38;5;241m.\u001b[39mplotFontSize)\n\u001b[1;32m--> 370\u001b[0m     \u001b[43mfig\u001b[49m\u001b[38;5;241;43m.\u001b[39;49m\u001b[43maxes\u001b[49m\u001b[43m[\u001b[49m\u001b[43mi\u001b[49m\u001b[43m]\u001b[49m\u001b[38;5;241;43m.\u001b[39;49m\u001b[43mgrid\u001b[49m\u001b[43m(\u001b[49m\u001b[43mb\u001b[49m\u001b[38;5;241;43m=\u001b[39;49m\u001b[38;5;28;43;01mTrue\u001b[39;49;00m\u001b[43m,\u001b[49m\u001b[43m \u001b[49m\u001b[43mwhich\u001b[49m\u001b[38;5;241;43m=\u001b[39;49m\u001b[38;5;124;43m'\u001b[39;49m\u001b[38;5;124;43mmajor\u001b[39;49m\u001b[38;5;124;43m'\u001b[39;49m\u001b[43m,\u001b[49m\u001b[43m \u001b[49m\u001b[43mcolor\u001b[49m\u001b[38;5;241;43m=\u001b[39;49m\u001b[38;5;124;43m'\u001b[39;49m\u001b[38;5;124;43m0.5\u001b[39;49m\u001b[38;5;124;43m'\u001b[39;49m\u001b[43m,\u001b[49m\u001b[43mlinestyle\u001b[49m\u001b[38;5;241;43m=\u001b[39;49m\u001b[38;5;124;43m'\u001b[39;49m\u001b[38;5;124;43m-\u001b[39;49m\u001b[38;5;124;43m'\u001b[39;49m\u001b[43m)\u001b[49m\n\u001b[0;32m    371\u001b[0m     fig\u001b[38;5;241m.\u001b[39maxes[i]\u001b[38;5;241m.\u001b[39mgrid(b\u001b[38;5;241m=\u001b[39m\u001b[38;5;28;01mTrue\u001b[39;00m, which\u001b[38;5;241m=\u001b[39m\u001b[38;5;124m'\u001b[39m\u001b[38;5;124mminor\u001b[39m\u001b[38;5;124m'\u001b[39m, color\u001b[38;5;241m=\u001b[39m\u001b[38;5;124m'\u001b[39m\u001b[38;5;124m0.5\u001b[39m\u001b[38;5;124m'\u001b[39m,linestyle\u001b[38;5;241m=\u001b[39m\u001b[38;5;124m'\u001b[39m\u001b[38;5;124m:\u001b[39m\u001b[38;5;124m'\u001b[39m)\n\u001b[0;32m    372\u001b[0m     t \u001b[38;5;241m=\u001b[39m fig\u001b[38;5;241m.\u001b[39maxes[i]\u001b[38;5;241m.\u001b[39mxaxis\u001b[38;5;241m.\u001b[39mget_offset_text()\n",
      "File \u001b[1;32mC:\\ProgramData\\Anaconda3\\lib\\site-packages\\matplotlib\\axes\\_base.py:3196\u001b[0m, in \u001b[0;36m_AxesBase.grid\u001b[1;34m(self, visible, which, axis, **kwargs)\u001b[0m\n\u001b[0;32m   3194\u001b[0m _api\u001b[38;5;241m.\u001b[39mcheck_in_list([\u001b[38;5;124m'\u001b[39m\u001b[38;5;124mx\u001b[39m\u001b[38;5;124m'\u001b[39m, \u001b[38;5;124m'\u001b[39m\u001b[38;5;124my\u001b[39m\u001b[38;5;124m'\u001b[39m, \u001b[38;5;124m'\u001b[39m\u001b[38;5;124mboth\u001b[39m\u001b[38;5;124m'\u001b[39m], axis\u001b[38;5;241m=\u001b[39maxis)\n\u001b[0;32m   3195\u001b[0m \u001b[38;5;28;01mif\u001b[39;00m axis \u001b[38;5;129;01min\u001b[39;00m [\u001b[38;5;124m'\u001b[39m\u001b[38;5;124mx\u001b[39m\u001b[38;5;124m'\u001b[39m, \u001b[38;5;124m'\u001b[39m\u001b[38;5;124mboth\u001b[39m\u001b[38;5;124m'\u001b[39m]:\n\u001b[1;32m-> 3196\u001b[0m     \u001b[38;5;28mself\u001b[39m\u001b[38;5;241m.\u001b[39mxaxis\u001b[38;5;241m.\u001b[39mgrid(visible, which\u001b[38;5;241m=\u001b[39mwhich, \u001b[38;5;241m*\u001b[39m\u001b[38;5;241m*\u001b[39mkwargs)\n\u001b[0;32m   3197\u001b[0m \u001b[38;5;28;01mif\u001b[39;00m axis \u001b[38;5;129;01min\u001b[39;00m [\u001b[38;5;124m'\u001b[39m\u001b[38;5;124my\u001b[39m\u001b[38;5;124m'\u001b[39m, \u001b[38;5;124m'\u001b[39m\u001b[38;5;124mboth\u001b[39m\u001b[38;5;124m'\u001b[39m]:\n\u001b[0;32m   3198\u001b[0m     \u001b[38;5;28mself\u001b[39m\u001b[38;5;241m.\u001b[39myaxis\u001b[38;5;241m.\u001b[39mgrid(visible, which\u001b[38;5;241m=\u001b[39mwhich, \u001b[38;5;241m*\u001b[39m\u001b[38;5;241m*\u001b[39mkwargs)\n",
      "File \u001b[1;32mC:\\ProgramData\\Anaconda3\\lib\\site-packages\\matplotlib\\axis.py:1697\u001b[0m, in \u001b[0;36mAxis.grid\u001b[1;34m(self, visible, which, **kwargs)\u001b[0m\n\u001b[0;32m   1694\u001b[0m \u001b[38;5;28;01mif\u001b[39;00m which \u001b[38;5;129;01min\u001b[39;00m [\u001b[38;5;124m'\u001b[39m\u001b[38;5;124mmajor\u001b[39m\u001b[38;5;124m'\u001b[39m, \u001b[38;5;124m'\u001b[39m\u001b[38;5;124mboth\u001b[39m\u001b[38;5;124m'\u001b[39m]:\n\u001b[0;32m   1695\u001b[0m     gridkw[\u001b[38;5;124m'\u001b[39m\u001b[38;5;124mgridOn\u001b[39m\u001b[38;5;124m'\u001b[39m] \u001b[38;5;241m=\u001b[39m (\u001b[38;5;129;01mnot\u001b[39;00m \u001b[38;5;28mself\u001b[39m\u001b[38;5;241m.\u001b[39m_major_tick_kw[\u001b[38;5;124m'\u001b[39m\u001b[38;5;124mgridOn\u001b[39m\u001b[38;5;124m'\u001b[39m]\n\u001b[0;32m   1696\u001b[0m                         \u001b[38;5;28;01mif\u001b[39;00m visible \u001b[38;5;129;01mis\u001b[39;00m \u001b[38;5;28;01mNone\u001b[39;00m \u001b[38;5;28;01melse\u001b[39;00m visible)\n\u001b[1;32m-> 1697\u001b[0m     \u001b[38;5;28mself\u001b[39m\u001b[38;5;241m.\u001b[39mset_tick_params(which\u001b[38;5;241m=\u001b[39m\u001b[38;5;124m'\u001b[39m\u001b[38;5;124mmajor\u001b[39m\u001b[38;5;124m'\u001b[39m, \u001b[38;5;241m*\u001b[39m\u001b[38;5;241m*\u001b[39mgridkw)\n\u001b[0;32m   1698\u001b[0m \u001b[38;5;28mself\u001b[39m\u001b[38;5;241m.\u001b[39mstale \u001b[38;5;241m=\u001b[39m \u001b[38;5;28;01mTrue\u001b[39;00m\n",
      "File \u001b[1;32mC:\\ProgramData\\Anaconda3\\lib\\site-packages\\matplotlib\\axis.py:958\u001b[0m, in \u001b[0;36mAxis.set_tick_params\u001b[1;34m(self, which, reset, **kwargs)\u001b[0m\n\u001b[0;32m    945\u001b[0m \u001b[38;5;250m\u001b[39m\u001b[38;5;124;03m\"\"\"\u001b[39;00m\n\u001b[0;32m    946\u001b[0m \u001b[38;5;124;03mSet appearance parameters for ticks, ticklabels, and gridlines.\u001b[39;00m\n\u001b[0;32m    947\u001b[0m \n\u001b[1;32m   (...)\u001b[0m\n\u001b[0;32m    955\u001b[0m \u001b[38;5;124;03m    gridlines.\u001b[39;00m\n\u001b[0;32m    956\u001b[0m \u001b[38;5;124;03m\"\"\"\u001b[39;00m\n\u001b[0;32m    957\u001b[0m _api\u001b[38;5;241m.\u001b[39mcheck_in_list([\u001b[38;5;124m'\u001b[39m\u001b[38;5;124mmajor\u001b[39m\u001b[38;5;124m'\u001b[39m, \u001b[38;5;124m'\u001b[39m\u001b[38;5;124mminor\u001b[39m\u001b[38;5;124m'\u001b[39m, \u001b[38;5;124m'\u001b[39m\u001b[38;5;124mboth\u001b[39m\u001b[38;5;124m'\u001b[39m], which\u001b[38;5;241m=\u001b[39mwhich)\n\u001b[1;32m--> 958\u001b[0m kwtrans \u001b[38;5;241m=\u001b[39m \u001b[38;5;28;43mself\u001b[39;49m\u001b[38;5;241;43m.\u001b[39;49m\u001b[43m_translate_tick_params\u001b[49m\u001b[43m(\u001b[49m\u001b[43mkwargs\u001b[49m\u001b[43m)\u001b[49m\n\u001b[0;32m    960\u001b[0m \u001b[38;5;66;03m# the kwargs are stored in self._major/minor_tick_kw so that any\u001b[39;00m\n\u001b[0;32m    961\u001b[0m \u001b[38;5;66;03m# future new ticks will automatically get them\u001b[39;00m\n\u001b[0;32m    962\u001b[0m \u001b[38;5;28;01mif\u001b[39;00m reset:\n",
      "File \u001b[1;32mC:\\ProgramData\\Anaconda3\\lib\\site-packages\\matplotlib\\axis.py:1102\u001b[0m, in \u001b[0;36mAxis._translate_tick_params\u001b[1;34m(kw, reverse)\u001b[0m\n\u001b[0;32m   1100\u001b[0m \u001b[38;5;28;01mfor\u001b[39;00m key \u001b[38;5;129;01min\u001b[39;00m kw_:\n\u001b[0;32m   1101\u001b[0m     \u001b[38;5;28;01mif\u001b[39;00m key \u001b[38;5;129;01mnot\u001b[39;00m \u001b[38;5;129;01min\u001b[39;00m allowed_keys:\n\u001b[1;32m-> 1102\u001b[0m         \u001b[38;5;28;01mraise\u001b[39;00m \u001b[38;5;167;01mValueError\u001b[39;00m(\n\u001b[0;32m   1103\u001b[0m             \u001b[38;5;124m\"\u001b[39m\u001b[38;5;124mkeyword \u001b[39m\u001b[38;5;132;01m%s\u001b[39;00m\u001b[38;5;124m is not recognized; valid keywords are \u001b[39m\u001b[38;5;132;01m%s\u001b[39;00m\u001b[38;5;124m\"\u001b[39m\n\u001b[0;32m   1104\u001b[0m             \u001b[38;5;241m%\u001b[39m (key, allowed_keys))\n\u001b[0;32m   1105\u001b[0m kwtrans\u001b[38;5;241m.\u001b[39mupdate(kw_)\n\u001b[0;32m   1106\u001b[0m \u001b[38;5;28;01mreturn\u001b[39;00m kwtrans\n",
      "\u001b[1;31mValueError\u001b[0m: keyword grid_b is not recognized; valid keywords are ['size', 'width', 'color', 'tickdir', 'pad', 'labelsize', 'labelcolor', 'labelfontfamily', 'zorder', 'gridOn', 'tick1On', 'tick2On', 'label1On', 'label2On', 'length', 'direction', 'left', 'bottom', 'right', 'top', 'labelleft', 'labelbottom', 'labelright', 'labeltop', 'labelrotation', 'grid_agg_filter', 'grid_alpha', 'grid_animated', 'grid_antialiased', 'grid_clip_box', 'grid_clip_on', 'grid_clip_path', 'grid_color', 'grid_dash_capstyle', 'grid_dash_joinstyle', 'grid_dashes', 'grid_data', 'grid_drawstyle', 'grid_figure', 'grid_fillstyle', 'grid_gapcolor', 'grid_gid', 'grid_in_layout', 'grid_label', 'grid_linestyle', 'grid_linewidth', 'grid_marker', 'grid_markeredgecolor', 'grid_markeredgewidth', 'grid_markerfacecolor', 'grid_markerfacecoloralt', 'grid_markersize', 'grid_markevery', 'grid_mouseover', 'grid_path_effects', 'grid_picker', 'grid_pickradius', 'grid_rasterized', 'grid_sketch_params', 'grid_snap', 'grid_solid_capstyle', 'grid_solid_joinstyle', 'grid_transform', 'grid_url', 'grid_visible', 'grid_xdata', 'grid_ydata', 'grid_zorder', 'grid_aa', 'grid_c', 'grid_ds', 'grid_ls', 'grid_lw', 'grid_mec', 'grid_mew', 'grid_mfc', 'grid_mfcalt', 'grid_ms']"
     ]
    },
    {
     "data": {
      "image/png": "[encoded data removed]",
      "text/plain": [
       "<Figure size 700x500 with 1 Axes>"
      ]
     },
     "metadata": {},
     "output_type": "display_data"
    }
   ],
   "source": [
    "htmlPage('CS stage small-signal dynamic behavior')\n",
    "i1.setSimType('numeric');\n",
    "i1.setGainType('gain');\n",
    "i1.setDataType('laplace');\n",
    "i1.setSource('I1');\n",
    "i1.setDetector('V_out');\n",
    "gainModel = i1.execute()\n",
    "\n",
    "head2html('Numeric expression')\n",
    "eqn2html('Z_t', normalizeRational(gainModel.laplace))\n",
    "\n",
    "head2html('Bode plots')\n",
    "magZtModel = plotSweep('magZtModel', 'magnitude', gainModel, 1, 100e9, 200, funcType = 'mag', show=True)\n",
    "traces2fig(LTmag, magZtModel)\n",
    "magZtModel.plot()\n",
    "fig2html(magZtModel, 600)\n",
    "phaseZtModel = plotSweep('phaseZtModel', 'phase', gainModel, 1, 100e9, 200, funcType = 'phase', show=True)\n",
    "traces2fig(LTphase, phaseZtModel)\n",
    "phaseZtModel.plot()\n",
    "fig2html(phaseZtModel, 600)\n",
    "\n",
    "i1.setDataType('pz')\n",
    "pz2html(i1.execute())"
   ]
  },
  {
   "cell_type": "code",
   "execution_count": 7,
   "id": "7480abdc-fd11-4ebf-b4ac-acf458da73d4",
   "metadata": {},
   "outputs": [],
   "source": [
    "# Let us define an instruction to display the symbolic MNA matrix equation.\n",
    "# This is done by defining attributes of the instruction object 'i1'\n",
    "i1.setSimType('symbolic');\n",
    "i1.setGainType('vi');\n",
    "i1.setDataType('matrix');"
   ]
  },
  {
   "cell_type": "code",
   "execution_count": 8,
   "id": "b4b6aec6-09f7-433f-b371-99aa86ab299f",
   "metadata": {},
   "outputs": [],
   "source": [
    "# We execute the instruction and assign the result to a variable 'MNA'\n",
    "MNA = i1.execute();"
   ]
  },
  {
   "cell_type": "code",
   "execution_count": 9,
   "id": "5d8816dd-5506-4054-b170-ed2740a36a66",
   "metadata": {},
   "outputs": [
    {
     "data": {
      "text/html": [
       "<h3><a id=\"MNA\"></a>Matrix equation:</h3>\n",
       "\\begin{equation}\n",
       "\\left[\\begin{matrix}0\\\\0\\end{matrix}\\right]=\\left[\\begin{matrix}c_{dg} s + c_{gb} s + c_{gs} s + \\frac{1}{R_{s}} & - c_{dg} s\\\\- c_{dg} s + g_{m} & c_{db} s + c_{dg} s + g_{o} + \\frac{1}{R_{L}}\\end{matrix}\\right]\\cdot\\left[\\begin{matrix}V_{N001}\\\\V_{out}\\end{matrix}\\right]\n",
       "\\end{equation}\n"
      ],
      "text/plain": [
       "<IPython.core.display.HTML object>"
      ]
     },
     "execution_count": 9,
     "metadata": {},
     "output_type": "execute_result"
    }
   ],
   "source": [
    "# We will put the instruction on a new HTML page and display it in this notebook\n",
    "htmlPage('Matrix equations')\n",
    "# Let us put some explaining text in the report:\n",
    "text2html('The MNA matrix equation for the RC network is:')\n",
    "HTML(matrices2html(MNA, label = 'MNA', labelText = 'MNA equation of the network'))"
   ]
  },
  {
   "cell_type": "code",
   "execution_count": 21,
   "id": "8e7b7d92-67c3-4c5f-835b-056b5b4bcba0",
   "metadata": {},
   "outputs": [
    {
     "data": {
      "text/html": [
       "$$<a id=\"gainLaplace\"></a>\n",
       "\\begin{equation}\n",
       "\\frac{V_{out}}{V_{1}}=0\n",
       "\\end{equation}\n",
       "$$"
      ],
      "text/plain": [
       "<IPython.core.display.HTML object>"
      ]
     },
     "execution_count": 21,
     "metadata": {},
     "output_type": "execute_result"
    }
   ],
   "source": [
    "i1.setSource('V1')    # 'V1' is the identifier of the independent source that we assign as signal source\n",
    "i1.setDetector('V_out') # 'V_out' is the voltage at node 'out' with respect to ground (node '0')\n",
    "# The transfer from source to load is called 'gain'. Later we will discuss more transfer types.\n",
    "i1.setGainType('gain')\n",
    "# The data that we would like to obtain is the Laplace transfer of the gain. SLiCAP has many different \n",
    "# data types. The data type for an instruction is also an attribute of the instruction object:\n",
    "i1.setDataType('laplace')\n",
    "# SLiCAP performs symbolic calculations, even when the data is numeric. In those case SLiCAP calculates\n",
    "# with rationals. Only in a limited number of cases SLiCAP calculates with floats.\n",
    "# Numeric values or combined numeric/symbolic expressions can be assigned to circuit parameters. In cases\n",
    "# in which the simulation type is set to 'numeric' such definitions are substituted recursively.\n",
    "#\n",
    "# Let us display the transfer symbolically. In this case we have no parameters defined, so 'numeric' will\n",
    "# give the same answer as 'symbolic'.\n",
    "i1.setSimType('symbolic')\n",
    "# Let us execute the (modified) instruction 'i1' and assign the result to the variable gain:\n",
    "gain = i1.execute()\n",
    "# The laplace transform can now be found in the attribute 'laplace' of 'gain'.\n",
    "HTML(eqn2html('V_out/V_1', gain.laplace, label = 'gainLaplace', labelText = 'Laplace transfer function'))"
   ]
  },
  {
   "cell_type": "code",
   "execution_count": 22,
   "id": "1e0c6ce9-8142-4139-b9e5-00db059ac187",
   "metadata": {},
   "outputs": [
    {
     "data": {
      "text/html": [
       "$$<a id=\"gainLaplace\"></a>\n",
       "\\begin{equation}\n",
       "\\frac{V_{out}}{I_{V1}}=0\n",
       "\\end{equation}\n",
       "$$"
      ],
      "text/plain": [
       "<IPython.core.display.HTML object>"
      ]
     },
     "execution_count": 22,
     "metadata": {},
     "output_type": "execute_result"
    }
   ],
   "source": [
    "i1.setSource('V1')    # 'V1' is the identifier of the independent source that we assign as signal source\n",
    "i1.setDetector('V_out') # 'V_out' is the voltage at node 'out' with respect to ground (node '0')\n",
    "# The transfer from source to load is called 'gain'. Later we will discuss more transfer types.\n",
    "i1.setGainType('gain')\n",
    "# The data that we would like to obtain is the Laplace transfer of the gain. SLiCAP has many different \n",
    "# data types. The data type for an instruction is also an attribute of the instruction object:\n",
    "i1.setDataType('laplace')\n",
    "# SLiCAP performs symbolic calculations, even when the data is numeric. In those case SLiCAP calculates\n",
    "# with rationals. Only in a limited number of cases SLiCAP calculates with floats.\n",
    "# Numeric values or combined numeric/symbolic expressions can be assigned to circuit parameters. In cases\n",
    "# in which the simulation type is set to 'numeric' such definitions are substituted recursively.\n",
    "#\n",
    "# Let us display the transfer symbolically. In this case we have no parameters defined, so 'numeric' will\n",
    "# give the same answer as 'symbolic'.\n",
    "i1.setSimType('symbolic')\n",
    "# Let us execute the (modified) instruction 'i1' and assign the result to the variable gain:\n",
    "gain = i1.execute()\n",
    "# The laplace transform can now be found in the attribute 'laplace' of 'gain'.\n",
    "HTML(eqn2html('V_out/I_V1', gain.laplace, label = 'gainLaplace', labelText = 'Laplace transfer function'))"
   ]
  },
  {
   "cell_type": "code",
   "execution_count": 24,
   "id": "245e043e-8b89-443e-942d-5a4bdc1603a8",
   "metadata": {},
   "outputs": [
    {
     "data": {
      "text/html": [
       "$$<a id=\"gainLaplace\"></a>\n",
       "\\begin{equation}\n",
       "\\frac{V_{source}}{V_{1}}=0\n",
       "\\end{equation}\n",
       "$$"
      ],
      "text/plain": [
       "<IPython.core.display.HTML object>"
      ]
     },
     "execution_count": 24,
     "metadata": {},
     "output_type": "execute_result"
    }
   ],
   "source": [
    "i1.setSource('V1')    # 'V1' is the identifier of the independent source that we assign as signal source\n",
    "i1.setDetector('V_source') # 'V_out' is the voltage at node 'out' with respect to ground (node '0')\n",
    "# The transfer from source to load is called 'gain'. Later we will discuss more transfer types.\n",
    "i1.setGainType('gain')\n",
    "# The data that we would like to obtain is the Laplace transfer of the gain. SLiCAP has many different \n",
    "# data types. The data type for an instruction is also an attribute of the instruction object:\n",
    "i1.setDataType('laplace')\n",
    "# SLiCAP performs symbolic calculations, even when the data is numeric. In those case SLiCAP calculates\n",
    "# with rationals. Only in a limited number of cases SLiCAP calculates with floats.\n",
    "# Numeric values or combined numeric/symbolic expressions can be assigned to circuit parameters. In cases\n",
    "# in which the simulation type is set to 'numeric' such definitions are substituted recursively.\n",
    "#\n",
    "# Let us display the transfer symbolically. In this case we have no parameters defined, so 'numeric' will\n",
    "# give the same answer as 'symbolic'.\n",
    "i1.setSimType('symbolic')\n",
    "# Let us execute the (modified) instruction 'i1' and assign the result to the variable gain:\n",
    "gain = i1.execute()\n",
    "# The laplace transform can now be found in the attribute 'laplace' of 'gain'.\n",
    "HTML(eqn2html('V_source/V_1', gain.laplace, label = 'gainLaplace', labelText = 'Laplace transfer function'))"
   ]
  },
  {
   "cell_type": "code",
   "execution_count": 25,
   "id": "630d0b88-7605-4fa9-88cf-89de2eb570b3",
   "metadata": {},
   "outputs": [
    {
     "data": {
      "text/html": [
       "$$<a id=\"gainLaplace\"></a>\n",
       "\\begin{equation}\n",
       "\\frac{I_{V1}}{V_{1}}=0\n",
       "\\end{equation}\n",
       "$$"
      ],
      "text/plain": [
       "<IPython.core.display.HTML object>"
      ]
     },
     "execution_count": 25,
     "metadata": {},
     "output_type": "execute_result"
    }
   ],
   "source": [
    "#now for input impedance \n",
    "i1.setSource('V1')    # 'V1' is the identifier of the independent source that we assign as signal source\n",
    "i1.setDetector('I_V1') # 'V_out' is the voltage at node 'out' with respect to ground (node '0')\n",
    "# The transfer from source to load is called 'gain'. Later we will discuss more transfer types.\n",
    "i1.setGainType('gain')\n",
    "# The data that we would like to obtain is the Laplace transfer of the gain. SLiCAP has many different \n",
    "# data types. The data type for an instruction is also an attribute of the instruction object:\n",
    "i1.setDataType('laplace')\n",
    "# SLiCAP performs symbolic calculations, even when the data is numeric. In those case SLiCAP calculates\n",
    "# with rationals. Only in a limited number of cases SLiCAP calculates with floats.\n",
    "# Numeric values or combined numeric/symbolic expressions can be assigned to circuit parameters. In cases\n",
    "# in which the simulation type is set to 'numeric' such definitions are substituted recursively.\n",
    "#\n",
    "# Let us display the transfer symbolically. In this case we have no parameters defined, so 'numeric' will\n",
    "# give the same answer as 'symbolic'.\n",
    "i1.setSimType('symbolic')\n",
    "# Let us execute the (modified) instruction 'i1' and assign the result to the variable gain:\n",
    "gain = i1.execute()\n",
    "# The laplace transform can now be found in the attribute 'laplace' of 'gain'.\n",
    "HTML(eqn2html('I_V1/V1', gain.laplace, label = 'gainLaplace', labelText = 'Laplace transfer function'))"
   ]
  },
  {
   "cell_type": "code",
   "execution_count": 18,
   "id": "8bf12834-7ea9-4726-924f-9b3142a0d24e",
   "metadata": {},
   "outputs": [
    {
     "name": "stdout",
     "output_type": "stream",
     "text": [
      "['I_V1', 'V_N001', 'V_out', 'V_source']\n"
     ]
    }
   ],
   "source": [
    "print(i1.depVars())"
   ]
  },
  {
   "cell_type": "code",
   "execution_count": 19,
   "id": "243496e0-a4a0-4059-8bd9-cf25e057c9b1",
   "metadata": {},
   "outputs": [
    {
     "name": "stdout",
     "output_type": "stream",
     "text": [
      "['V1']\n"
     ]
    }
   ],
   "source": [
    "print(i1.indepVars())"
   ]
  },
  {
   "cell_type": "code",
   "execution_count": null,
   "id": "98903716-57b6-47a8-be78-20dd0a6aeffd",
   "metadata": {},
   "outputs": [],
   "source": [
    "#now for input impedance \n",
    "i1.setSource('V1')    # 'V1' is the identifier of the independent source that we assign as signal source\n",
    "i1.setDetector('V_out') # 'V_out' is the voltage at node 'out' with respect to ground (node '0')\n",
    "# The transfer from source to load is called 'gain'. Later we will discuss more transfer types.\n",
    "i1.setGainType('gain')\n",
    "# The data that we would like to obtain is the Laplace transfer of the gain. SLiCAP has many different \n",
    "# data types. The data type for an instruction is also an attribute of the instruction object:\n",
    "i1.setDataType('laplace')\n",
    "# SLiCAP performs symbolic calculations, even when the data is numeric. In those case SLiCAP calculates\n",
    "# with rationals. Only in a limited number of cases SLiCAP calculates with floats.\n",
    "# Numeric values or combined numeric/symbolic expressions can be assigned to circuit parameters. In cases\n",
    "# in which the simulation type is set to 'numeric' such definitions are substituted recursively.\n",
    "#\n",
    "# Let us display the transfer symbolically. In this case we have no parameters defined, so 'numeric' will\n",
    "# give the same answer as 'symbolic'.\n",
    "i1.setSimType('symbolic')\n",
    "# Let us execute the (modified) instruction 'i1' and assign the result to the variable gain:\n",
    "gain = i1.execute()\n",
    "# The laplace transform can now be found in the attribute 'laplace' of 'gain'.\n",
    "HTML(eqn2html('V_out/I_V1', gain.laplace, label = 'gainLaplace', labelText = 'Laplace transfer function'))"
   ]
  }
 ],
 "metadata": {
  "kernelspec": {
   "display_name": "Python 3 (ipykernel)",
   "language": "python",
   "name": "python3"
  },
  "language_info": {
   "codemirror_mode": {
    "name": "ipython",
    "version": 3
   },
   "file_extension": ".py",
   "mimetype": "text/x-python",
   "name": "python",
   "nbconvert_exporter": "python",
   "pygments_lexer": "ipython3",
   "version": "3.9.18"
  }
 },
 "nbformat": 4,
 "nbformat_minor": 5
}
