{
 "cells": [
  {
   "cell_type": "code",
   "execution_count": 1,
   "id": "aa18e5e3-5ba5-47e3-a091-683ac84740dd",
   "metadata": {},
   "outputs": [
    {
     "data": {
      "text/plain": [
       "2"
      ]
     },
     "execution_count": 1,
     "metadata": {},
     "output_type": "execute_result"
    }
   ],
   "source": [
    "1+1"
   ]
  },
  {
   "cell_type": "code",
   "execution_count": 2,
   "id": "dc729dba-5b6e-4732-aa80-974f82f79568",
   "metadata": {},
   "outputs": [
    {
     "name": "stdout",
     "output_type": "stream",
     "text": [
      "Succesfully self-tested the Maxima command.\n",
      "A new version of SLiCAP is available, please get it from 'https://github.com/Lenty/SLiCAP_python'.\n",
      "Running from an Ipython enviroment, importing SLiCAPnotebook.\n"
     ]
    }
   ],
   "source": [
    "from SLiCAP import *"
   ]
  },
  {
   "cell_type": "code",
   "execution_count": 3,
   "id": "97d1cd5a-f845-43a4-b407-7b3df7d00a2d",
   "metadata": {},
   "outputs": [
    {
     "name": "stdout",
     "output_type": "stream",
     "text": [
      "Sarting Maxima client on port 53118\n",
      "Maxima CAS client is active and functions have been uploaded.\n",
      "Compiling library: SLiCAP.lib.\n",
      "Compiling library: SLiCAPmodels.lib.\n"
     ]
    },
    {
     "data": {
      "text/plain": [
       "<SLiCAP.SLiCAP.SLiCAPproject at 0x1ac9b6e07f0>"
      ]
     },
     "execution_count": 3,
     "metadata": {},
     "output_type": "execute_result"
    }
   ],
   "source": [
    "initProject(\"CSstage small-signal dynamic behavior\")"
   ]
  },
  {
   "cell_type": "code",
   "execution_count": 4,
   "id": "15063ed8-ead2-4fdb-9c53-75286f6b1df3",
   "metadata": {},
   "outputs": [],
   "source": [
    "i1 = instruction()"
   ]
  },
  {
   "cell_type": "code",
   "execution_count": 5,
   "id": "d6e4a37d-0bfa-4d40-b462-f4f2188f38ee",
   "metadata": {},
   "outputs": [
    {
     "name": "stdout",
     "output_type": "stream",
     "text": [
      "Checking netlist: C:\\Users\\User\\OneDrive\\Documents\\GitHub\\SLiCAP_python\\files\\examples\\Chapter5\\SLiCAP\\cir/cir/halfswitch_comp.cir\n"
     ]
    },
    {
     "ename": "FileNotFoundError",
     "evalue": "[Errno 2] No such file or directory: 'C:\\\\Users\\\\User\\\\OneDrive\\\\Documents\\\\GitHub\\\\SLiCAP_python\\\\files\\\\examples\\\\Chapter5\\\\SLiCAP\\\\cir/cir/halfswitch_comp.cir'",
     "output_type": "error",
     "traceback": [
      "\u001b[1;31m---------------------------------------------------------------------------\u001b[0m",
      "\u001b[1;31mFileNotFoundError\u001b[0m                         Traceback (most recent call last)",
      "Cell \u001b[1;32mIn[5], line 1\u001b[0m\n\u001b[1;32m----> 1\u001b[0m \u001b[43mi1\u001b[49m\u001b[38;5;241;43m.\u001b[39;49m\u001b[43msetCircuit\u001b[49m\u001b[43m(\u001b[49m\u001b[38;5;124;43m'\u001b[39;49m\u001b[38;5;124;43mhalfswitch_comp.cir\u001b[39;49m\u001b[38;5;124;43m'\u001b[39;49m\u001b[43m)\u001b[49m\n",
      "File \u001b[1;32m~\\AppData\\Roaming\\Python\\Python39\\site-packages\\SLiCAP\\SLiCAPinstruction\\SLiCAPinstruction.py:1441\u001b[0m, in \u001b[0;36minstruction.setCircuit\u001b[1;34m(self, fileName)\u001b[0m\n\u001b[0;32m   1422\u001b[0m \u001b[38;5;28;01mdef\u001b[39;00m \u001b[38;5;21msetCircuit\u001b[39m(\u001b[38;5;28mself\u001b[39m, fileName):\n\u001b[0;32m   1423\u001b[0m \u001b[38;5;250m    \u001b[39m\u001b[38;5;124;03m\"\"\"\u001b[39;00m\n\u001b[0;32m   1424\u001b[0m \u001b[38;5;124;03m    Defines the circuit for this instruction.\u001b[39;00m\n\u001b[0;32m   1425\u001b[0m \n\u001b[1;32m   (...)\u001b[0m\n\u001b[0;32m   1439\u001b[0m \u001b[38;5;124;03m    >>> my_instr.setCircuit('my_circuit.cir')\u001b[39;00m\n\u001b[0;32m   1440\u001b[0m \u001b[38;5;124;03m    \"\"\"\u001b[39;00m\n\u001b[1;32m-> 1441\u001b[0m     \u001b[38;5;28mself\u001b[39m\u001b[38;5;241m.\u001b[39mcircuit \u001b[38;5;241m=\u001b[39m \u001b[43mcheckCircuit\u001b[49m\u001b[43m(\u001b[49m\u001b[43mfileName\u001b[49m\u001b[43m)\u001b[49m\n\u001b[0;32m   1442\u001b[0m     \u001b[38;5;28;01mreturn\u001b[39;00m\n",
      "File \u001b[1;32m~\\AppData\\Roaming\\Python\\Python39\\site-packages\\SLiCAP\\SLiCAPyacc\\SLiCAPyacc.py:1200\u001b[0m, in \u001b[0;36mcheckCircuit\u001b[1;34m(fileName)\u001b[0m\n\u001b[0;32m   1198\u001b[0m \u001b[38;5;28mprint\u001b[39m(\u001b[38;5;124m\"\u001b[39m\u001b[38;5;124mChecking netlist:\u001b[39m\u001b[38;5;124m\"\u001b[39m, fileName)\n\u001b[0;32m   1199\u001b[0m \u001b[38;5;66;03m# Read the netlist\u001b[39;00m\n\u001b[1;32m-> 1200\u001b[0m f \u001b[38;5;241m=\u001b[39m \u001b[38;5;28;43mopen\u001b[39;49m\u001b[43m(\u001b[49m\u001b[43mfileName\u001b[49m\u001b[43m,\u001b[49m\u001b[43m \u001b[49m\u001b[38;5;124;43m'\u001b[39;49m\u001b[38;5;124;43mr\u001b[39;49m\u001b[38;5;124;43m'\u001b[39;49m\u001b[43m)\u001b[49m\n\u001b[0;32m   1201\u001b[0m netlist \u001b[38;5;241m=\u001b[39m f\u001b[38;5;241m.\u001b[39mread()\n\u001b[0;32m   1202\u001b[0m f\u001b[38;5;241m.\u001b[39mclose()\n",
      "\u001b[1;31mFileNotFoundError\u001b[0m: [Errno 2] No such file or directory: 'C:\\\\Users\\\\User\\\\OneDrive\\\\Documents\\\\GitHub\\\\SLiCAP_python\\\\files\\\\examples\\\\Chapter5\\\\SLiCAP\\\\cir/cir/halfswitch_comp.cir'"
     ]
    }
   ],
   "source": [
    "i1.setCircuit('halfswitch_comp.cir')"
   ]
  },
  {
   "cell_type": "code",
   "execution_count": null,
   "id": "4d8d0f80-7824-4f61-a268-3d679eec58a9",
   "metadata": {},
   "outputs": [],
   "source": []
  }
 ],
 "metadata": {
  "kernelspec": {
   "display_name": "Python 3 (ipykernel)",
   "language": "python",
   "name": "python3"
  },
  "language_info": {
   "codemirror_mode": {
    "name": "ipython",
    "version": 3
   },
   "file_extension": ".py",
   "mimetype": "text/x-python",
   "name": "python",
   "nbconvert_exporter": "python",
   "pygments_lexer": "ipython3",
   "version": "3.9.18"
  }
 },
 "nbformat": 4,
 "nbformat_minor": 5
}
