{
 "cells": [
  {
   "cell_type": "code",
   "execution_count": null,
   "id": "cb32638d-a3d2-4ae3-9149-33dd6dd821e8",
   "metadata": {},
   "outputs": [
    {
     "name": "stdout",
     "output_type": "stream",
     "text": [
      "Succesfully self-tested the Maxima command.\n"
     ]
    },
    {
     "name": "stderr",
     "output_type": "stream",
     "text": [
      "Exception in thread Thread-7:\n",
      "Traceback (most recent call last):\n",
      "  File \"C:\\ProgramData\\Anaconda3\\lib\\threading.py\", line 980, in _bootstrap_inner\n",
      "    self.run()\n",
      "  File \"C:\\ProgramData\\Anaconda3\\lib\\threading.py\", line 917, in run\n",
      "    self._target(*self._args, **self._kwargs)\n",
      "  File \"C:\\Users\\User\\AppData\\Roaming\\Python\\Python39\\site-packages\\SLiCAP\\SLiCAPpythonMaxima\\SLiCAPpythonMaxima.py\", line 51, in startMaxima\n",
      "    s.bind((self.HOST, self.PORT))\n",
      "PermissionError: [WinError 10013] An attempt was made to access a socket in a way forbidden by its access permissions\n"
     ]
    },
    {
     "name": "stdout",
     "output_type": "stream",
     "text": [
      "A new version of SLiCAP is available, please get it from 'https://github.com/Lenty/SLiCAP_python'.\n",
      "Running from an Ipython enviroment, importing SLiCAPnotebook.\n",
      "Sarting Maxima client on port 53118\n"
     ]
    }
   ],
   "source": [
    "from SLiCAP import *\n",
    "initProject(\"CSstage small-signal dynamic behavior\")"
   ]
  },
  {
   "cell_type": "code",
   "execution_count": 1,
   "id": "58e3e32e-f9a3-40e4-b68f-6b117eca4fe9",
   "metadata": {},
   "outputs": [
    {
     "name": "stdout",
     "output_type": "stream",
     "text": [
      "Succesfully self-tested the Maxima command.\n",
      "\n",
      " HTTPSConnectionPool(host='api.github.com', port=443): Max retries exceeded with url: /repos/Lenty/SLiCAP_python/releases/latest (Caused by NewConnectionError('<urllib3.connection.HTTPSConnection object at 0x000001B518A0E790>: Failed to establish a new connection: [Errno 11001] getaddrinfo failed'))\n",
      "Could not access github to check the latest available version of SLiCAP.\n",
      "SLiCAP Version matches with the latest release of SLiCAP on github.\n",
      "Running from an Ipython enviroment, importing SLiCAPnotebook.\n",
      "Error: could note open 'C:\\Users\\User\\OneDrive\\Documents\\GitHub\\SLiCAP_python\\files\\examples\\Chapter5\\SLiCAP/html/'.\n"
     ]
    },
    {
     "ename": "PermissionError",
     "evalue": "[Errno 13] Permission denied: 'C:\\\\Users\\\\User\\\\OneDrive\\\\Documents\\\\GitHub\\\\SLiCAP_python\\\\files\\\\examples\\\\Chapter5\\\\SLiCAP/html/'",
     "output_type": "error",
     "traceback": [
      "\u001b[1;31m---------------------------------------------------------------------------\u001b[0m",
      "\u001b[1;31mPermissionError\u001b[0m                           Traceback (most recent call last)",
      "Cell \u001b[1;32mIn[1], line 1\u001b[0m\n\u001b[1;32m----> 1\u001b[0m \u001b[38;5;28;01mfrom\u001b[39;00m \u001b[38;5;21;01mCSstageEKV\u001b[39;00m \u001b[38;5;28;01mimport\u001b[39;00m gm, go, cgs, cgb, cdg, cdb\n\u001b[0;32m      3\u001b[0m \u001b[38;5;66;03m# Uncomment the next line if you want to overwrite the main html index page\u001b[39;00m\n\u001b[0;32m      4\u001b[0m \u001b[38;5;66;03m#prj = initProject('CSstageSmallSignal');\u001b[39;00m\n\u001b[0;32m      5\u001b[0m \n\u001b[0;32m      6\u001b[0m \u001b[38;5;66;03m# Generate netlist\u001b[39;00m\n\u001b[0;32m      7\u001b[0m \u001b[38;5;66;03m#makeNetlist('CSstageModel.asc', 'CS stage MOS small-signal model');\u001b[39;00m\n\u001b[0;32m      9\u001b[0m i1 \u001b[38;5;241m=\u001b[39m instruction()\n",
      "File \u001b[1;32m~\\OneDrive\\Documents\\GitHub\\SLiCAP_python\\files\\examples\\Chapter5\\SLiCAP\\CSstageEKV.py:10\u001b[0m\n\u001b[0;32m      3\u001b[0m \u001b[38;5;124;03m\"\"\"\u001b[39;00m\n\u001b[0;32m      4\u001b[0m \u001b[38;5;124;03mCreated on Mon Nov 15 20:21:00 2021\u001b[39;00m\n\u001b[0;32m      5\u001b[0m \n\u001b[0;32m      6\u001b[0m \u001b[38;5;124;03m@author: anton\u001b[39;00m\n\u001b[0;32m      7\u001b[0m \u001b[38;5;124;03m\"\"\"\u001b[39;00m\n\u001b[0;32m      9\u001b[0m \u001b[38;5;28;01mfrom\u001b[39;00m \u001b[38;5;21;01mSLiCAP\u001b[39;00m \u001b[38;5;28;01mimport\u001b[39;00m \u001b[38;5;241m*\u001b[39m\n\u001b[1;32m---> 10\u001b[0m \u001b[38;5;28;01mfrom\u001b[39;00m \u001b[38;5;21;01mCSstageLTspice\u001b[39;00m \u001b[38;5;28;01mimport\u001b[39;00m LTmag, LTphase\n\u001b[0;32m     12\u001b[0m \u001b[38;5;66;03m# Uncomment the next line if you want to overwrite the main html index page\u001b[39;00m\n\u001b[0;32m     13\u001b[0m \u001b[38;5;66;03m#prj = initProject('CSstageSmallSignal');\u001b[39;00m\n\u001b[0;32m     14\u001b[0m \n\u001b[0;32m     15\u001b[0m \u001b[38;5;66;03m# Generate netlist\u001b[39;00m\n\u001b[0;32m     16\u001b[0m \u001b[38;5;66;03m#makeNetlist('CSstageEKV.asc', 'CS stage EKV small-signal model');\u001b[39;00m\n\u001b[0;32m     18\u001b[0m i1 \u001b[38;5;241m=\u001b[39m instruction();\n",
      "File \u001b[1;32m~\\OneDrive\\Documents\\GitHub\\SLiCAP_python\\files\\examples\\Chapter5\\SLiCAP\\CSstageLTspice.py:83\u001b[0m\n\u001b[0;32m     78\u001b[0m LTmag, LTphase \u001b[38;5;241m=\u001b[39m LTspiceAC2SLiCAPtraces(\u001b[38;5;124m'\u001b[39m\u001b[38;5;124mCSstage.txt\u001b[39m\u001b[38;5;124m'\u001b[39m)\n\u001b[0;32m     80\u001b[0m \u001b[38;5;66;03m# Uncomment the next line if you want to overwrite the main html index page\u001b[39;00m\n\u001b[0;32m     81\u001b[0m \u001b[38;5;66;03m#prj = initProject('CSstageSmallSignal');\u001b[39;00m\n\u001b[1;32m---> 83\u001b[0m \u001b[43mhtmlPage\u001b[49m\u001b[43m(\u001b[49m\u001b[38;5;124;43m'\u001b[39;49m\u001b[38;5;124;43mLTspice circuit\u001b[39;49m\u001b[38;5;124;43m'\u001b[39;49m\u001b[43m)\u001b[49m\n\u001b[0;32m     84\u001b[0m head2html(\u001b[38;5;124m'\u001b[39m\u001b[38;5;124mLTspice operating point and AC analysis\u001b[39m\u001b[38;5;124m'\u001b[39m)\n\u001b[0;32m     85\u001b[0m img2html(\u001b[38;5;124m'\u001b[39m\u001b[38;5;124mLTspiceCSstage.svg\u001b[39m\u001b[38;5;124m'\u001b[39m, \u001b[38;5;241m800\u001b[39m)\n",
      "File \u001b[1;32m~\\AppData\\Roaming\\Python\\Python39\\site-packages\\SLiCAP\\SLiCAPhtml\\SLiCAPhtml.py:194\u001b[0m, in \u001b[0;36mhtmlPage\u001b[1;34m(pageTitle, index, label)\u001b[0m\n\u001b[0;32m    192\u001b[0m \u001b[38;5;66;03m# Place link on the current index page\u001b[39;00m\n\u001b[0;32m    193\u001b[0m href \u001b[38;5;241m=\u001b[39m \u001b[38;5;124m'\u001b[39m\u001b[38;5;124m<li><a href=\u001b[39m\u001b[38;5;124m\"\u001b[39m\u001b[38;5;124m'\u001b[39m \u001b[38;5;241m+\u001b[39m fileName \u001b[38;5;241m+\u001b[39m\u001b[38;5;124m'\u001b[39m\u001b[38;5;124m\"\u001b[39m\u001b[38;5;124m>\u001b[39m\u001b[38;5;124m'\u001b[39m \u001b[38;5;241m+\u001b[39m pageTitle \u001b[38;5;241m+\u001b[39m \u001b[38;5;124m'\u001b[39m\u001b[38;5;124m</a></li>\u001b[39m\u001b[38;5;124m'\u001b[39m\n\u001b[1;32m--> 194\u001b[0m \u001b[43minsertHTML\u001b[49m\u001b[43m(\u001b[49m\u001b[43mini\u001b[49m\u001b[38;5;241;43m.\u001b[39;49m\u001b[43mhtmlPath\u001b[49m\u001b[43m \u001b[49m\u001b[38;5;241;43m+\u001b[39;49m\u001b[43m \u001b[49m\u001b[43mini\u001b[49m\u001b[38;5;241;43m.\u001b[39;49m\u001b[43mhtmlIndex\u001b[49m\u001b[43m,\u001b[49m\u001b[43m \u001b[49m\u001b[43mhref\u001b[49m\u001b[43m)\u001b[49m\n\u001b[0;32m    195\u001b[0m \u001b[38;5;66;03m# Create the new HTML page\u001b[39;00m\n\u001b[0;32m    196\u001b[0m \u001b[38;5;28;01mif\u001b[39;00m label \u001b[38;5;241m!=\u001b[39m \u001b[38;5;28;01mNone\u001b[39;00m:\n\u001b[0;32m    197\u001b[0m     \u001b[38;5;66;03m#\u001b[39;00m\n",
      "File \u001b[1;32m~\\AppData\\Roaming\\Python\\Python39\\site-packages\\SLiCAP\\SLiCAPhtml\\SLiCAPhtml.py:123\u001b[0m, in \u001b[0;36minsertHTML\u001b[1;34m(fileName, htmlInsert)\u001b[0m\n\u001b[0;32m    121\u001b[0m html \u001b[38;5;241m=\u001b[39m readFile(fileName)\n\u001b[0;32m    122\u001b[0m html \u001b[38;5;241m=\u001b[39m html\u001b[38;5;241m.\u001b[39mreplace(HTMLINSERT, htmlInsert \u001b[38;5;241m+\u001b[39m HTMLINSERT)\n\u001b[1;32m--> 123\u001b[0m \u001b[43mwriteFile\u001b[49m\u001b[43m(\u001b[49m\u001b[43mfileName\u001b[49m\u001b[43m,\u001b[49m\u001b[43m \u001b[49m\u001b[43mhtml\u001b[49m\u001b[43m)\u001b[49m\n\u001b[0;32m    124\u001b[0m \u001b[38;5;28;01mreturn\u001b[39;00m\n",
      "File \u001b[1;32m~\\AppData\\Roaming\\Python\\Python39\\site-packages\\SLiCAP\\SLiCAPhtml\\SLiCAPhtml.py:153\u001b[0m, in \u001b[0;36mwriteFile\u001b[1;34m(fileName, txt)\u001b[0m\n\u001b[0;32m    144\u001b[0m \u001b[38;5;28;01mdef\u001b[39;00m \u001b[38;5;21mwriteFile\u001b[39m(fileName, txt):\n\u001b[0;32m    145\u001b[0m \u001b[38;5;250m    \u001b[39m\u001b[38;5;124;03m\"\"\"\u001b[39;00m\n\u001b[0;32m    146\u001b[0m \u001b[38;5;124;03m    Writes a text string to a file.\u001b[39;00m\n\u001b[0;32m    147\u001b[0m \n\u001b[1;32m   (...)\u001b[0m\n\u001b[0;32m    151\u001b[0m \u001b[38;5;124;03m    :type txt: str\u001b[39;00m\n\u001b[0;32m    152\u001b[0m \u001b[38;5;124;03m    \"\"\"\u001b[39;00m\n\u001b[1;32m--> 153\u001b[0m     f \u001b[38;5;241m=\u001b[39m \u001b[38;5;28;43mopen\u001b[39;49m\u001b[43m(\u001b[49m\u001b[43mfileName\u001b[49m\u001b[43m,\u001b[49m\u001b[43m \u001b[49m\u001b[38;5;124;43m'\u001b[39;49m\u001b[38;5;124;43mw\u001b[39;49m\u001b[38;5;124;43m'\u001b[39;49m\u001b[43m)\u001b[49m\n\u001b[0;32m    154\u001b[0m     f\u001b[38;5;241m.\u001b[39mwrite(txt)\n\u001b[0;32m    155\u001b[0m     f\u001b[38;5;241m.\u001b[39mclose()\n",
      "\u001b[1;31mPermissionError\u001b[0m: [Errno 13] Permission denied: 'C:\\\\Users\\\\User\\\\OneDrive\\\\Documents\\\\GitHub\\\\SLiCAP_python\\\\files\\\\examples\\\\Chapter5\\\\SLiCAP/html/'"
     ]
    }
   ],
   "source": [
    "from CSstageEKV import gm, go, cgs, cgb, cdg, cdb\n",
    "\n",
    "# Uncomment the next line if you want to overwrite the main html index page\n",
    "#prj = initProject('CSstageSmallSignal');\n",
    "\n",
    "# Generate netlist\n",
    "#makeNetlist('CSstageModel.asc', 'CS stage MOS small-signal model');\n",
    "\n",
    "i1 = instruction()\n",
    "i1.setCircuit('halfswitch.cir')\n",
    "# This creates an new index page in the html report and links to new pages\n",
    "# will now be placed on this index page\n",
    "i1.defPar('g_m', gm)\n",
    "i1.defPar('g_o', go)\n",
    "i1.defPar('c_gs', cgs)\n",
    "i1.defPar('c_gb', cgb)\n",
    "i1.defPar('c_dg', cdg)\n",
    "i1.defPar('c_db', cdb)\n",
    "\n",
    "#i1.defPar('g_mp', gmp)\n",
    "#i1.defPar('g_op', gop)\n",
    "#i1.defPar('c_gsp', cgsp)\n",
    "#i1.defPar('c_gbp', cgbp)\n",
    "#i1.defPar('c_dgp', cdgp)\n",
    "#i1.defPar('c_dbp', cdbp)"
   ]
  },
  {
   "cell_type": "code",
   "execution_count": 9,
   "id": "c5bfd6ef-25bf-4829-90f6-159adf215bcd",
   "metadata": {
    "tags": []
   },
   "outputs": [
    {
     "name": "stdout",
     "output_type": "stream",
     "text": [
      "Error: could note open 'C:\\Users\\User\\Documents\\GitHub\\SLiCAP_python\\files\\examples\\Chapter5\\SLiCAP/cir/CSstageModel2.cir'.\n"
     ]
    },
    {
     "data": {
      "text/plain": [
       "'<table><caption>Table: Parameter definitions in \\'R1\\'.</caption>\\n<tr><th class=\"left\">Name</th><th class=\"left\">Symbolic</th><th class=\"left\">Numeric</th></tr>\\n<tr><td class=\"left\">$$R_{L}$$</td><td class=\"left\">$$1.0 \\\\cdot 10^{4}$$</td><td class=\"left\">$$1.0 \\\\cdot 10^{4}$$</td></tr>\\n<tr><td class=\"left\">$$R_{f}$$</td><td class=\"left\">$$50$$</td><td class=\"left\">$$50.0$$</td></tr>\\n<tr><td class=\"left\">$$R_{s}$$</td><td class=\"left\">$$50$$</td><td class=\"left\">$$50.0$$</td></tr>\\n<tr><td class=\"left\">$$c_{db}$$</td><td class=\"left\">$$1.8 \\\\cdot 10^{-15}$$</td><td class=\"left\">$$1.8 \\\\cdot 10^{-15}$$</td></tr>\\n<tr><td class=\"left\">$$c_{dg}$$</td><td class=\"left\">$$4.6 \\\\cdot 10^{-15}$$</td><td class=\"left\">$$4.6 \\\\cdot 10^{-15}$$</td></tr>\\n<tr><td class=\"left\">$$c_{gb}$$</td><td class=\"left\">$$1.608 \\\\cdot 10^{-15}$$</td><td class=\"left\">$$1.608 \\\\cdot 10^{-15}$$</td></tr>\\n<tr><td class=\"left\">$$c_{gs}$$</td><td class=\"left\">$$1.496 \\\\cdot 10^{-14}$$</td><td class=\"left\">$$1.496 \\\\cdot 10^{-14}$$</td></tr>\\n<tr><td class=\"left\">$$g_{m}$$</td><td class=\"left\">$$0.00157$$</td><td class=\"left\">$$0.00157$$</td></tr>\\n<tr><td class=\"left\">$$g_{o}$$</td><td class=\"left\">$$6.173 \\\\cdot 10^{-6}$$</td><td class=\"left\">$$6.173 \\\\cdot 10^{-6}$$</td></tr>\\n</table>\\n<table><caption>Table: Parameters without definition in \\'R1.</caption>\\n\\n<tr><th class=\"left\">Name</th></tr>\\n<tr><td class=\"left\">$$g_{mp}$$</td></tr>\\n<tr><td class=\"left\">$$c_{gsp}$$</td></tr>\\n<tr><td class=\"left\">$$c_{dbp}$$</td></tr>\\n<tr><td class=\"left\">$$g_{op}$$</td></tr>\\n<tr><td class=\"left\">$$R_{S}$$</td></tr>\\n<tr><td class=\"left\">$$c_{gbp}$$</td></tr>\\n<tr><td class=\"left\">$$c_{dgp}$$</td></tr>\\n</table>\\n'"
      ]
     },
     "execution_count": 9,
     "metadata": {},
     "output_type": "execute_result"
    }
   ],
   "source": [
    "\n",
    "htmlPage('Circuit data')\n",
    "head2html('Circuit diagram')\n",
    "img2html('CSstageModel.svg', 600)\n",
    "netlist2html('CSstageModel2.cir')\n",
    "elementData2html(i1.circuit)\n",
    "params2html(i1.circuit)"
   ]
  },
  {
   "cell_type": "code",
   "execution_count": 3,
   "id": "8d78bfce-6915-4064-b23c-ea58fe115f26",
   "metadata": {},
   "outputs": [
    {
     "ename": "NameError",
     "evalue": "name 'instruction' is not defined",
     "output_type": "error",
     "traceback": [
      "\u001b[1;31m---------------------------------------------------------------------------\u001b[0m",
      "\u001b[1;31mNameError\u001b[0m                                 Traceback (most recent call last)",
      "Cell \u001b[1;32mIn[3], line 1\u001b[0m\n\u001b[1;32m----> 1\u001b[0m i1 \u001b[38;5;241m=\u001b[39m \u001b[43minstruction\u001b[49m()\n\u001b[0;32m      2\u001b[0m i1\u001b[38;5;241m.\u001b[39msetCircuit(\u001b[38;5;124m'\u001b[39m\u001b[38;5;124mhalfswitch.cir\u001b[39m\u001b[38;5;124m'\u001b[39m)\n",
      "\u001b[1;31mNameError\u001b[0m: name 'instruction' is not defined"
     ]
    }
   ],
   "source": [
    "i1 = instruction()\n",
    "i1.setCircuit('halfswitch.cir')"
   ]
  },
  {
   "cell_type": "code",
   "execution_count": 10,
   "id": "68342c55-7952-4605-97c1-2ac1f9dce23c",
   "metadata": {},
   "outputs": [
    {
     "name": "stderr",
     "output_type": "stream",
     "text": [
      "C:\\Users\\User\\AppData\\Roaming\\Python\\Python39\\site-packages\\SLiCAP\\SLiCAPplots\\SLiCAPplots.py:367: UserWarning: Data has no positive values, and therefore cannot be log-scaled.\n",
      "  plt.tight_layout()\n"
     ]
    },
    {
     "data": {
      "image/png": "[encoded data removed]",
      "text/plain": [
       "<Figure size 504x360 with 1 Axes>"
      ]
     },
     "metadata": {
      "needs_background": "light"
     },
     "output_type": "display_data"
    },
    {
     "ename": "NameError",
     "evalue": "name 'LTmag' is not defined",
     "output_type": "error",
     "traceback": [
      "\u001b[1;31m---------------------------------------------------------------------------\u001b[0m",
      "\u001b[1;31mNameError\u001b[0m                                 Traceback (most recent call last)",
      "\u001b[1;32m~\\AppData\\Local\\Temp/ipykernel_13968/2007973046.py\u001b[0m in \u001b[0;36m<module>\u001b[1;34m\u001b[0m\n\u001b[0;32m     12\u001b[0m \u001b[0mhead2html\u001b[0m\u001b[1;33m(\u001b[0m\u001b[1;34m'Bode plots'\u001b[0m\u001b[1;33m)\u001b[0m\u001b[1;33m\u001b[0m\u001b[1;33m\u001b[0m\u001b[0m\n\u001b[0;32m     13\u001b[0m \u001b[0mmagZtModel\u001b[0m \u001b[1;33m=\u001b[0m \u001b[0mplotSweep\u001b[0m\u001b[1;33m(\u001b[0m\u001b[1;34m'magZtModel'\u001b[0m\u001b[1;33m,\u001b[0m \u001b[1;34m'magnitude'\u001b[0m\u001b[1;33m,\u001b[0m \u001b[0mgainModel\u001b[0m\u001b[1;33m,\u001b[0m \u001b[1;36m1\u001b[0m\u001b[1;33m,\u001b[0m \u001b[1;36m100e9\u001b[0m\u001b[1;33m,\u001b[0m \u001b[1;36m200\u001b[0m\u001b[1;33m,\u001b[0m \u001b[0mfuncType\u001b[0m \u001b[1;33m=\u001b[0m \u001b[1;34m'mag'\u001b[0m\u001b[1;33m,\u001b[0m \u001b[0mshow\u001b[0m\u001b[1;33m=\u001b[0m\u001b[1;32mTrue\u001b[0m\u001b[1;33m)\u001b[0m\u001b[1;33m\u001b[0m\u001b[1;33m\u001b[0m\u001b[0m\n\u001b[1;32m---> 14\u001b[1;33m \u001b[0mtraces2fig\u001b[0m\u001b[1;33m(\u001b[0m\u001b[0mLTmag\u001b[0m\u001b[1;33m,\u001b[0m \u001b[0mmagZtModel\u001b[0m\u001b[1;33m)\u001b[0m\u001b[1;33m\u001b[0m\u001b[1;33m\u001b[0m\u001b[0m\n\u001b[0m\u001b[0;32m     15\u001b[0m \u001b[0mmagZtModel\u001b[0m\u001b[1;33m.\u001b[0m\u001b[0mplot\u001b[0m\u001b[1;33m(\u001b[0m\u001b[1;33m)\u001b[0m\u001b[1;33m\u001b[0m\u001b[1;33m\u001b[0m\u001b[0m\n\u001b[0;32m     16\u001b[0m \u001b[0mfig2html\u001b[0m\u001b[1;33m(\u001b[0m\u001b[0mmagZtModel\u001b[0m\u001b[1;33m,\u001b[0m \u001b[1;36m600\u001b[0m\u001b[1;33m)\u001b[0m\u001b[1;33m\u001b[0m\u001b[1;33m\u001b[0m\u001b[0m\n",
      "\u001b[1;31mNameError\u001b[0m: name 'LTmag' is not defined"
     ]
    }
   ],
   "source": [
    "htmlPage('CS stage small-signal dynamic behavior')\n",
    "i1.setSimType('numeric');\n",
    "i1.setGainType('gain');\n",
    "i1.setDataType('laplace');\n",
    "i1.setSource('V1');\n",
    "i1.setDetector('V_out');\n",
    "gainModel = i1.execute()\n",
    "\n",
    "head2html('Numeric expression')\n",
    "eqn2html('Z_t', normalizeRational(gainModel.laplace))\n",
    "\n",
    "head2html('Bode plots')\n",
    "magZtModel = plotSweep('magZtModel', 'magnitude', gainModel, 1, 100e9, 200, funcType = 'mag', show=True)\n",
    "traces2fig(LTmag, magZtModel)\n",
    "magZtModel.plot()\n",
    "fig2html(magZtModel, 600)\n",
    "phaseZtModel = plotSweep('phaseZtModel', 'phase', gainModel, 1, 100e9, 200, funcType = 'phase', show=True)\n",
    "traces2fig(LTphase, phaseZtModel)\n",
    "phaseZtModel.plot()\n",
    "fig2html(phaseZtModel, 600)\n",
    "\n",
    "i1.setDataType('pz')\n",
    "pz2html(i1.execute())"
   ]
  },
  {
   "cell_type": "code",
   "execution_count": 11,
   "id": "7480abdc-fd11-4ebf-b4ac-acf458da73d4",
   "metadata": {},
   "outputs": [],
   "source": [
    "# Let us define an instruction to display the symbolic MNA matrix equation.\n",
    "# This is done by defining attributes of the instruction object 'i1'\n",
    "i1.setSimType('symbolic');\n",
    "i1.setGainType('vi');\n",
    "i1.setDataType('matrix');"
   ]
  },
  {
   "cell_type": "code",
   "execution_count": 12,
   "id": "b4b6aec6-09f7-433f-b371-99aa86ab299f",
   "metadata": {},
   "outputs": [],
   "source": [
    "# We execute the instruction and assign the result to a variable 'MNA'\n",
    "MNA = i1.execute();"
   ]
  },
  {
   "cell_type": "code",
   "execution_count": 13,
   "id": "5d8816dd-5506-4054-b170-ed2740a36a66",
   "metadata": {},
   "outputs": [
    {
     "data": {
      "text/html": [
       "<h3><a id=\"MNA\"></a>Matrix equation:</h3>\n",
       "\\begin{equation}\n",
       "\\left[\\begin{matrix}0\\\\0\\\\0\\\\0\\\\0\\end{matrix}\\right]=\\left[\\begin{matrix}0 & 0 & 1 & 0 & 0\\\\0 & c_{dbp} s + c_{gbp} s & 0 & - c_{dbp} s & - c_{gbp} s\\\\1 & 0 & 0 & 0 & 0\\\\0 & - c_{dbp} s & 0 & c_{db} s + c_{dbp} s + c_{dg} s + c_{dgp} s + g_{o} + g_{op} + \\frac{1}{R_{f}} & - c_{dg} s - c_{dgp} s + g_{m} + g_{mp} - \\frac{1}{R_{f}}\\\\0 & - c_{gbp} s & 0 & - c_{dg} s - c_{dgp} s - \\frac{1}{R_{f}} & c_{dg} s + c_{dgp} s + c_{gb} s + c_{gbp} s + c_{gs} s + c_{gsp} s + \\frac{1}{R_{f}} + \\frac{1}{R_{S}}\\end{matrix}\\right]\\cdot\\left[\\begin{matrix}I_{V1}\\\\V_{N001}\\\\V_{N002}\\\\V_{out}\\\\V_{source}\\end{matrix}\\right]\n",
       "\\end{equation}\n"
      ],
      "text/plain": [
       "<IPython.core.display.HTML object>"
      ]
     },
     "execution_count": 13,
     "metadata": {},
     "output_type": "execute_result"
    }
   ],
   "source": [
    "# We will put the instruction on a new HTML page and display it in this notebook\n",
    "htmlPage('Matrix equations')\n",
    "# Let us put some explaining text in the report:\n",
    "text2html('The MNA matrix equation for the RC network is:')\n",
    "HTML(matrices2html(MNA, label = 'MNA', labelText = 'MNA equation of the network'))"
   ]
  },
  {
   "cell_type": "code",
   "execution_count": 7,
   "id": "8e7b7d92-67c3-4c5f-835b-056b5b4bcba0",
   "metadata": {},
   "outputs": [
    {
     "data": {
      "text/html": [
       "$$<a id=\"gainLaplace\"></a>\n",
       "\\begin{equation}\n",
       "\\frac{V_{out}}{V_{1}}=\\frac{- R_{f} g_{m} \\left(c_{dbp} + c_{gbp}\\right) - R_{f} g_{mp} \\left(c_{dbp} + c_{gbp}\\right) + R_{f} s \\left(c_{dbp} c_{dg} + c_{dbp} c_{dgp} + c_{gbp} \\left(c_{dbp} + c_{dg} + c_{dgp}\\right)\\right) + c_{dbp} + c_{gbp}}{R_{S} R_{f} s^{2} \\left(c_{db} c_{dbp} c_{dg} + c_{db} c_{dbp} c_{dgp} + c_{dbp} c_{gb} \\left(c_{db} + c_{dg} + c_{dgp}\\right) + c_{gbp} \\left(c_{db} c_{dbp} + c_{db} c_{dg} + c_{db} c_{dgp} + c_{gb} \\left(c_{db} + c_{dbp} + c_{dg} + c_{dgp}\\right)\\right) + c_{gs} \\left(c_{db} c_{dbp} + c_{dbp} c_{dg} + c_{dbp} c_{dgp} + c_{gbp} \\left(c_{db} + c_{dbp} + c_{dg} + c_{dgp}\\right)\\right) + c_{gsp} \\left(c_{db} c_{dbp} + c_{dbp} c_{dg} + c_{dbp} c_{dgp} + c_{gbp} \\left(c_{db} + c_{dbp} + c_{dg} + c_{dgp}\\right)\\right)\\right) + R_{S} g_{m} \\left(c_{dbp} + c_{gbp}\\right) + R_{S} g_{mp} \\left(c_{dbp} + c_{gbp}\\right) + c_{dbp} \\left(R_{S} \\left(g_{o} + g_{op}\\right) + R_{f} \\left(g_{o} + g_{op}\\right) + 1\\right) + c_{gbp} \\left(R_{S} \\left(g_{o} + g_{op}\\right) + R_{f} \\left(g_{o} + g_{op}\\right) + 1\\right) + s \\left(R_{S} R_{f} g_{m} \\left(c_{dbp} c_{dg} + c_{dbp} c_{dgp} + c_{gbp} \\left(c_{dbp} + c_{dg} + c_{dgp}\\right)\\right) + R_{S} R_{f} g_{mp} \\left(c_{dbp} c_{dg} + c_{dbp} c_{dgp} + c_{gbp} \\left(c_{dbp} + c_{dg} + c_{dgp}\\right)\\right) + R_{S} c_{dbp} c_{gb} \\left(R_{f} \\left(g_{o} + g_{op}\\right) + 1\\right) + R_{S} c_{gs} \\left(c_{dbp} + c_{gbp}\\right) \\left(R_{f} \\left(g_{o} + g_{op}\\right) + 1\\right) + R_{S} c_{gsp} \\left(c_{dbp} + c_{gbp}\\right) \\left(R_{f} \\left(g_{o} + g_{op}\\right) + 1\\right) + R_{f} c_{dbp} c_{dg} \\left(R_{S} \\left(g_{o} + g_{op}\\right) + 1\\right) + R_{f} c_{dbp} c_{dgp} \\left(R_{S} \\left(g_{o} + g_{op}\\right) + 1\\right) + c_{db} c_{dbp} \\left(R_{S} + R_{f}\\right) + c_{gbp} \\left(R_{S} c_{db} + R_{S} c_{gb} \\left(R_{f} \\left(g_{o} + g_{op}\\right) + 1\\right) + R_{f} c_{db} + R_{f} c_{dbp} \\left(R_{S} \\left(g_{o} + g_{op}\\right) + 1\\right) + R_{f} c_{dg} \\left(R_{S} \\left(g_{o} + g_{op}\\right) + 1\\right) + R_{f} c_{dgp} \\left(R_{S} \\left(g_{o} + g_{op}\\right) + 1\\right)\\right)\\right)}\n",
       "\\end{equation}\n",
       "$$"
      ],
      "text/plain": [
       "<IPython.core.display.HTML object>"
      ]
     },
     "execution_count": 7,
     "metadata": {},
     "output_type": "execute_result"
    }
   ],
   "source": [
    "i1.setSource('V1')    # 'V1' is the identifier of the independent source that we assign as signal source\n",
    "i1.setDetector('V_out') # 'V_out' is the voltage at node 'out' with respect to ground (node '0')\n",
    "# The transfer from source to load is called 'gain'. Later we will discuss more transfer types.\n",
    "i1.setGainType('gain')\n",
    "# The data that we would like to obtain is the Laplace transfer of the gain. SLiCAP has many different \n",
    "# data types. The data type for an instruction is also an attribute of the instruction object:\n",
    "i1.setDataType('laplace')\n",
    "# SLiCAP performs symbolic calculations, even when the data is numeric. In those case SLiCAP calculates\n",
    "# with rationals. Only in a limited number of cases SLiCAP calculates with floats.\n",
    "# Numeric values or combined numeric/symbolic expressions can be assigned to circuit parameters. In cases\n",
    "# in which the simulation type is set to 'numeric' such definitions are substituted recursively.\n",
    "#\n",
    "# Let us display the transfer symbolically. In this case we have no parameters defined, so 'numeric' will\n",
    "# give the same answer as 'symbolic'.\n",
    "i1.setSimType('symbolic')\n",
    "# Let us execute the (modified) instruction 'i1' and assign the result to the variable gain:\n",
    "gain = i1.execute()\n",
    "# The laplace transform can now be found in the attribute 'laplace' of 'gain'.\n",
    "HTML(eqn2html('V_out/V_1', gain.laplace, label = 'gainLaplace', labelText = 'Laplace transfer function'))"
   ]
  },
  {
   "cell_type": "code",
   "execution_count": 14,
   "id": "1e0c6ce9-8142-4139-b9e5-00db059ac187",
   "metadata": {},
   "outputs": [
    {
     "data": {
      "text/html": [
       "$$<a id=\"gainLaplace\"></a>\n",
       "\\begin{equation}\n",
       "\\frac{V_{out}}{I_{V1}}=\\frac{- R_{f} g_{m} \\left(c_{dbp} + c_{gbp}\\right) - R_{f} g_{mp} \\left(c_{dbp} + c_{gbp}\\right) + R_{f} s \\left(c_{dbp} c_{dg} + c_{dbp} c_{dgp} + c_{gbp} \\left(c_{dbp} + c_{dg} + c_{dgp}\\right)\\right) + c_{dbp} + c_{gbp}}{R_{S} R_{f} s^{2} \\left(c_{db} c_{dbp} c_{dg} + c_{db} c_{dbp} c_{dgp} + c_{dbp} c_{gb} \\left(c_{db} + c_{dg} + c_{dgp}\\right) + c_{gbp} \\left(c_{db} c_{dbp} + c_{db} c_{dg} + c_{db} c_{dgp} + c_{gb} \\left(c_{db} + c_{dbp} + c_{dg} + c_{dgp}\\right)\\right) + c_{gs} \\left(c_{db} c_{dbp} + c_{dbp} c_{dg} + c_{dbp} c_{dgp} + c_{gbp} \\left(c_{db} + c_{dbp} + c_{dg} + c_{dgp}\\right)\\right) + c_{gsp} \\left(c_{db} c_{dbp} + c_{dbp} c_{dg} + c_{dbp} c_{dgp} + c_{gbp} \\left(c_{db} + c_{dbp} + c_{dg} + c_{dgp}\\right)\\right)\\right) + R_{S} g_{m} \\left(c_{dbp} + c_{gbp}\\right) + R_{S} g_{mp} \\left(c_{dbp} + c_{gbp}\\right) + c_{dbp} \\left(R_{S} \\left(g_{o} + g_{op}\\right) + R_{f} \\left(g_{o} + g_{op}\\right) + 1\\right) + c_{gbp} \\left(R_{S} \\left(g_{o} + g_{op}\\right) + R_{f} \\left(g_{o} + g_{op}\\right) + 1\\right) + s \\left(R_{S} R_{f} g_{m} \\left(c_{dbp} c_{dg} + c_{dbp} c_{dgp} + c_{gbp} \\left(c_{dbp} + c_{dg} + c_{dgp}\\right)\\right) + R_{S} R_{f} g_{mp} \\left(c_{dbp} c_{dg} + c_{dbp} c_{dgp} + c_{gbp} \\left(c_{dbp} + c_{dg} + c_{dgp}\\right)\\right) + R_{S} c_{dbp} c_{gb} \\left(R_{f} \\left(g_{o} + g_{op}\\right) + 1\\right) + R_{S} c_{gs} \\left(c_{dbp} + c_{gbp}\\right) \\left(R_{f} \\left(g_{o} + g_{op}\\right) + 1\\right) + R_{S} c_{gsp} \\left(c_{dbp} + c_{gbp}\\right) \\left(R_{f} \\left(g_{o} + g_{op}\\right) + 1\\right) + R_{f} c_{dbp} c_{dg} \\left(R_{S} \\left(g_{o} + g_{op}\\right) + 1\\right) + R_{f} c_{dbp} c_{dgp} \\left(R_{S} \\left(g_{o} + g_{op}\\right) + 1\\right) + c_{db} c_{dbp} \\left(R_{S} + R_{f}\\right) + c_{gbp} \\left(R_{S} c_{db} + R_{S} c_{gb} \\left(R_{f} \\left(g_{o} + g_{op}\\right) + 1\\right) + R_{f} c_{db} + R_{f} c_{dbp} \\left(R_{S} \\left(g_{o} + g_{op}\\right) + 1\\right) + R_{f} c_{dg} \\left(R_{S} \\left(g_{o} + g_{op}\\right) + 1\\right) + R_{f} c_{dgp} \\left(R_{S} \\left(g_{o} + g_{op}\\right) + 1\\right)\\right)\\right)}\n",
       "\\end{equation}\n",
       "$$"
      ],
      "text/plain": [
       "<IPython.core.display.HTML object>"
      ]
     },
     "execution_count": 14,
     "metadata": {},
     "output_type": "execute_result"
    }
   ],
   "source": [
    "i1.setSource('V1')    # 'V1' is the identifier of the independent source that we assign as signal source\n",
    "i1.setDetector('V_out') # 'V_out' is the voltage at node 'out' with respect to ground (node '0')\n",
    "# The transfer from source to load is called 'gain'. Later we will discuss more transfer types.\n",
    "i1.setGainType('gain')\n",
    "# The data that we would like to obtain is the Laplace transfer of the gain. SLiCAP has many different \n",
    "# data types. The data type for an instruction is also an attribute of the instruction object:\n",
    "i1.setDataType('laplace')\n",
    "# SLiCAP performs symbolic calculations, even when the data is numeric. In those case SLiCAP calculates\n",
    "# with rationals. Only in a limited number of cases SLiCAP calculates with floats.\n",
    "# Numeric values or combined numeric/symbolic expressions can be assigned to circuit parameters. In cases\n",
    "# in which the simulation type is set to 'numeric' such definitions are substituted recursively.\n",
    "#\n",
    "# Let us display the transfer symbolically. In this case we have no parameters defined, so 'numeric' will\n",
    "# give the same answer as 'symbolic'.\n",
    "i1.setSimType('symbolic')\n",
    "# Let us execute the (modified) instruction 'i1' and assign the result to the variable gain:\n",
    "gain = i1.execute()\n",
    "# The laplace transform can now be found in the attribute 'laplace' of 'gain'.\n",
    "HTML(eqn2html('V_out/I_V1', gain.laplace, label = 'gainLaplace', labelText = 'Laplace transfer function'))"
   ]
  },
  {
   "cell_type": "code",
   "execution_count": 31,
   "id": "630d0b88-7605-4fa9-88cf-89de2eb570b3",
   "metadata": {},
   "outputs": [
    {
     "data": {
      "text/html": [
       "$$<a id=\"gainLaplace\"></a>\n",
       "\\begin{equation}\n",
       "\\frac{I_{V1}}{V_{1}}=\\frac{- R_{f} s^{2} \\left(c_{db} c_{dbp} c_{dg} + c_{db} c_{dbp} c_{dgp} + c_{dbp} c_{gb} \\left(c_{db} + c_{dg} + c_{dgp}\\right) + c_{gbp} \\left(c_{db} c_{dbp} + c_{db} c_{dg} + c_{db} c_{dgp} + c_{gb} \\left(c_{db} + c_{dbp} + c_{dg} + c_{dgp}\\right)\\right) + c_{gs} \\left(c_{db} c_{dbp} + c_{dbp} c_{dg} + c_{dbp} c_{dgp} + c_{gbp} \\left(c_{db} + c_{dbp} + c_{dg} + c_{dgp}\\right)\\right) + c_{gsp} \\left(c_{db} c_{dbp} + c_{dbp} c_{dg} + c_{dbp} c_{dgp} + c_{gbp} \\left(c_{db} + c_{dbp} + c_{dg} + c_{dgp}\\right)\\right)\\right) - g_{m} \\left(c_{dbp} + c_{gbp}\\right) - g_{mp} \\left(c_{dbp} + c_{gbp}\\right) - g_{o} \\left(c_{dbp} + c_{gbp}\\right) - g_{op} \\left(c_{dbp} + c_{gbp}\\right) - s \\left(R_{f} g_{m} \\left(c_{dbp} c_{dg} + c_{dbp} c_{dgp} + c_{gbp} \\left(c_{dbp} + c_{dg} + c_{dgp}\\right)\\right) + R_{f} g_{mp} \\left(c_{dbp} c_{dg} + c_{dbp} c_{dgp} + c_{gbp} \\left(c_{dbp} + c_{dg} + c_{dgp}\\right)\\right) + R_{f} g_{o} \\left(c_{dbp} c_{dg} + c_{dbp} c_{dgp} + c_{dbp} c_{gb} + c_{gbp} \\left(c_{dbp} + c_{dg} + c_{dgp} + c_{gb}\\right) + c_{gs} \\left(c_{dbp} + c_{gbp}\\right) + c_{gsp} \\left(c_{dbp} + c_{gbp}\\right)\\right) + R_{f} g_{op} \\left(c_{dbp} c_{dg} + c_{dbp} c_{dgp} + c_{dbp} c_{gb} + c_{gbp} \\left(c_{dbp} + c_{dg} + c_{dgp} + c_{gb}\\right) + c_{gs} \\left(c_{dbp} + c_{gbp}\\right) + c_{gsp} \\left(c_{dbp} + c_{gbp}\\right)\\right) + c_{db} c_{dbp} + c_{dbp} c_{gb} + c_{gbp} \\left(c_{db} + c_{gb}\\right) + c_{gs} \\left(c_{dbp} + c_{gbp}\\right) + c_{gsp} \\left(c_{dbp} + c_{gbp}\\right)\\right)}{R_{S} R_{f} s^{2} \\left(c_{db} c_{dbp} c_{dg} + c_{db} c_{dbp} c_{dgp} + c_{dbp} c_{gb} \\left(c_{db} + c_{dg} + c_{dgp}\\right) + c_{gbp} \\left(c_{db} c_{dbp} + c_{db} c_{dg} + c_{db} c_{dgp} + c_{gb} \\left(c_{db} + c_{dbp} + c_{dg} + c_{dgp}\\right)\\right) + c_{gs} \\left(c_{db} c_{dbp} + c_{dbp} c_{dg} + c_{dbp} c_{dgp} + c_{gbp} \\left(c_{db} + c_{dbp} + c_{dg} + c_{dgp}\\right)\\right) + c_{gsp} \\left(c_{db} c_{dbp} + c_{dbp} c_{dg} + c_{dbp} c_{dgp} + c_{gbp} \\left(c_{db} + c_{dbp} + c_{dg} + c_{dgp}\\right)\\right)\\right) + R_{S} g_{m} \\left(c_{dbp} + c_{gbp}\\right) + R_{S} g_{mp} \\left(c_{dbp} + c_{gbp}\\right) + c_{dbp} + c_{gbp} + g_{o} \\left(R_{S} + R_{f}\\right) \\left(c_{dbp} + c_{gbp}\\right) + g_{op} \\left(R_{S} + R_{f}\\right) \\left(c_{dbp} + c_{gbp}\\right) + s \\left(R_{S} R_{f} g_{m} \\left(c_{dbp} c_{dg} + c_{dbp} c_{dgp} + c_{gbp} \\left(c_{dbp} + c_{dg} + c_{dgp}\\right)\\right) + R_{S} R_{f} g_{mp} \\left(c_{dbp} c_{dg} + c_{dbp} c_{dgp} + c_{gbp} \\left(c_{dbp} + c_{dg} + c_{dgp}\\right)\\right) + R_{S} R_{f} g_{o} \\left(c_{dbp} c_{dg} + c_{dbp} c_{dgp} + c_{dbp} c_{gb} + c_{gbp} \\left(c_{dbp} + c_{dg} + c_{dgp} + c_{gb}\\right) + c_{gs} \\left(c_{dbp} + c_{gbp}\\right) + c_{gsp} \\left(c_{dbp} + c_{gbp}\\right)\\right) + R_{S} R_{f} g_{op} \\left(c_{dbp} c_{dg} + c_{dbp} c_{dgp} + c_{dbp} c_{gb} + c_{gbp} \\left(c_{dbp} + c_{dg} + c_{dgp} + c_{gb}\\right) + c_{gs} \\left(c_{dbp} + c_{gbp}\\right) + c_{gsp} \\left(c_{dbp} + c_{gbp}\\right)\\right) + R_{S} c_{dbp} c_{gb} + R_{S} c_{gs} \\left(c_{dbp} + c_{gbp}\\right) + R_{S} c_{gsp} \\left(c_{dbp} + c_{gbp}\\right) + R_{f} c_{dbp} c_{dg} + R_{f} c_{dbp} c_{dgp} + c_{db} c_{dbp} \\left(R_{S} + R_{f}\\right) + c_{gbp} \\left(R_{S} c_{gb} + R_{f} c_{dbp} + R_{f} c_{dg} + R_{f} c_{dgp} + c_{db} \\left(R_{S} + R_{f}\\right)\\right)\\right)}\n",
       "\\end{equation}\n",
       "$$"
      ],
      "text/plain": [
       "<IPython.core.display.HTML object>"
      ]
     },
     "execution_count": 31,
     "metadata": {},
     "output_type": "execute_result"
    }
   ],
   "source": [
    "#now for input impedance \n",
    "i1.setSource('V1')    # 'V1' is the identifier of the independent source that we assign as signal source\n",
    "i1.setDetector('I_V1') # 'V_out' is the voltage at node 'out' with respect to ground (node '0')\n",
    "# The transfer from source to load is called 'gain'. Later we will discuss more transfer types.\n",
    "i1.setGainType('gain')\n",
    "# The data that we would like to obtain is the Laplace transfer of the gain. SLiCAP has many different \n",
    "# data types. The data type for an instruction is also an attribute of the instruction object:\n",
    "i1.setDataType('laplace')\n",
    "# SLiCAP performs symbolic calculations, even when the data is numeric. In those case SLiCAP calculates\n",
    "# with rationals. Only in a limited number of cases SLiCAP calculates with floats.\n",
    "# Numeric values or combined numeric/symbolic expressions can be assigned to circuit parameters. In cases\n",
    "# in which the simulation type is set to 'numeric' such definitions are substituted recursively.\n",
    "#\n",
    "# Let us display the transfer symbolically. In this case we have no parameters defined, so 'numeric' will\n",
    "# give the same answer as 'symbolic'.\n",
    "i1.setSimType('symbolic')\n",
    "# Let us execute the (modified) instruction 'i1' and assign the result to the variable gain:\n",
    "gain = i1.execute()\n",
    "# The laplace transform can now be found in the attribute 'laplace' of 'gain'.\n",
    "HTML(eqn2html('I_V1/V1', gain.laplace, label = 'gainLaplace', labelText = 'Laplace transfer function'))"
   ]
  },
  {
   "cell_type": "code",
   "execution_count": 30,
   "id": "8bf12834-7ea9-4726-924f-9b3142a0d24e",
   "metadata": {},
   "outputs": [
    {
     "name": "stdout",
     "output_type": "stream",
     "text": [
      "['I_V1', 'V_N001', 'V_N002', 'V_N003', 'V_out']\n"
     ]
    }
   ],
   "source": [
    "print(i1.depVars())"
   ]
  },
  {
   "cell_type": "code",
   "execution_count": null,
   "id": "98903716-57b6-47a8-be78-20dd0a6aeffd",
   "metadata": {},
   "outputs": [],
   "source": [
    "#now for input impedance \n",
    "i1.setSource('V1')    # 'V1' is the identifier of the independent source that we assign as signal source\n",
    "i1.setDetector('V_out') # 'V_out' is the voltage at node 'out' with respect to ground (node '0')\n",
    "# The transfer from source to load is called 'gain'. Later we will discuss more transfer types.\n",
    "i1.setGainType('gain')\n",
    "# The data that we would like to obtain is the Laplace transfer of the gain. SLiCAP has many different \n",
    "# data types. The data type for an instruction is also an attribute of the instruction object:\n",
    "i1.setDataType('laplace')\n",
    "# SLiCAP performs symbolic calculations, even when the data is numeric. In those case SLiCAP calculates\n",
    "# with rationals. Only in a limited number of cases SLiCAP calculates with floats.\n",
    "# Numeric values or combined numeric/symbolic expressions can be assigned to circuit parameters. In cases\n",
    "# in which the simulation type is set to 'numeric' such definitions are substituted recursively.\n",
    "#\n",
    "# Let us display the transfer symbolically. In this case we have no parameters defined, so 'numeric' will\n",
    "# give the same answer as 'symbolic'.\n",
    "i1.setSimType('symbolic')\n",
    "# Let us execute the (modified) instruction 'i1' and assign the result to the variable gain:\n",
    "gain = i1.execute()\n",
    "# The laplace transform can now be found in the attribute 'laplace' of 'gain'.\n",
    "HTML(eqn2html('V_out/I_V1', gain.laplace, label = 'gainLaplace', labelText = 'Laplace transfer function'))"
   ]
  }
 ],
 "metadata": {
  "kernelspec": {
   "display_name": "Python 3 (ipykernel)",
   "language": "python",
   "name": "python3"
  },
  "language_info": {
   "codemirror_mode": {
    "name": "ipython",
    "version": 3
   },
   "file_extension": ".py",
   "mimetype": "text/x-python",
   "name": "python",
   "nbconvert_exporter": "python",
   "pygments_lexer": "ipython3",
   "version": "3.9.18"
  }
 },
 "nbformat": 4,
 "nbformat_minor": 5
}
