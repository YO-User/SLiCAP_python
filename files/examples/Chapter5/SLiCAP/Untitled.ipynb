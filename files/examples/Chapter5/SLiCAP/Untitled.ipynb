{
 "cells": [
  {
   "cell_type": "code",
   "execution_count": 1,
   "id": "02c9a3a2-b3df-4c31-9530-df873db72915",
   "metadata": {},
   "outputs": [
    {
     "name": "stdout",
     "output_type": "stream",
     "text": [
      "Succesfully self-tested the Maxima command.\n",
      "A new version of SLiCAP is available, please get it from 'https://github.com/Lenty/SLiCAP_python'.\n",
      "Running from an Ipython enviroment, importing SLiCAPnotebook.\n"
     ]
    }
   ],
   "source": [
    "from SLiCAP import *"
   ]
  },
  {
   "cell_type": "code",
   "execution_count": null,
   "id": "1313d995-42d1-440c-967d-e45428e09399",
   "metadata": {},
   "outputs": [],
   "source": [
    "initProject(\"CSstage small-signal dynamic behavior\")"
   ]
  },
  {
   "cell_type": "code",
   "execution_count": null,
   "id": "6d8a5894-a9cb-4742-bcd8-97f18aa7634a",
   "metadata": {},
   "outputs": [],
   "source": [
    "1+1"
   ]
  },
  {
   "cell_type": "code",
   "execution_count": 5,
   "id": "362d1747-a145-4075-ace0-bf47b96eb572",
   "metadata": {},
   "outputs": [],
   "source": [
    "i1 = instruction()"
   ]
  },
  {
   "cell_type": "code",
   "execution_count": 6,
   "id": "c907776f-1be7-48d3-8343-c98fbaed24d6",
   "metadata": {
    "scrolled": true
   },
   "outputs": [
    {
     "name": "stdout",
     "output_type": "stream",
     "text": [
      "Checking netlist: C:\\Users\\User\\OneDrive\\Documents\\GitHub\\SLiCAP_python\\files\\examples\\Chapter5\\SLiCAP/cir/halfswitch_LKY2.cir\n"
     ]
    }
   ],
   "source": [
    "i1.setCircuit('halfswitch_LKY2.cir')"
   ]
  },
  {
   "cell_type": "code",
   "execution_count": 7,
   "id": "b940e1ba-8be7-4dde-9d92-7a5ef09fc78a",
   "metadata": {},
   "outputs": [],
   "source": [
    "# Let us define an instruction to display the symbolic MNA matrix equation.\n",
    "# This is done by defining attributes of the instruction object 'i1'\n",
    "i1.setSimType('symbolic');\n",
    "i1.setGainType('vi');\n",
    "i1.setDataType('matrix');"
   ]
  },
  {
   "cell_type": "code",
   "execution_count": 8,
   "id": "0eedd990-2b95-4ade-b24f-a26c957b5e46",
   "metadata": {},
   "outputs": [],
   "source": [
    "MNA = i1.execute();"
   ]
  },
  {
   "cell_type": "code",
   "execution_count": 9,
   "id": "9445749c-8acb-43e7-89f2-35a68c4e69b2",
   "metadata": {},
   "outputs": [],
   "source": [
    "import sys\n",
    "sys.setrecursionlimit(10000) "
   ]
  },
  {
   "cell_type": "code",
   "execution_count": 10,
   "id": "3f56418e-4292-471d-af25-58be3557eb7a",
   "metadata": {},
   "outputs": [
    {
     "data": {
      "text/html": [
       "<h3><a id=\"MNA\"></a>Matrix equation:</h3>\n",
       "\\begin{equation}\n",
       "\\left[\\begin{matrix}0\\\\0\\\\0\\\\0\\\\0\\\\0\\\\0\\\\0\\\\0\\\\0\\\\0\\\\0\\\\0\\\\0\\\\0\\\\0\\\\0\\\\0\\\\0\\\\0\\\\0\\\\0\\\\0\\\\0\\\\0\\\\0\\\\0\\\\0\\\\0\\\\0\\\\0\\end{matrix}\\right]=\\left[\\begin{array}{ccccccccccccccccccccccccccccccc}0 & 0 & 0 & 0 & 0 & 0 & 0 & 0 & 0 & 0 & 0 & 0 & 0 & 0 & 0 & 0 & 0 & -1 & 0 & 0 & 0 & 0 & 0 & 0 & 0 & 0 & 0 & 0 & 0 & 0 & 0\\\\0 & 0 & 0 & 0 & 0 & 0 & 0 & 0 & 0 & 0 & 0 & 0 & 0 & 0 & 0 & 0 & 0 & 0 & -1 & 0 & 0 & 0 & 0 & 0 & 0 & 0 & 0 & 0 & 0 & 0 & 0\\\\0 & 0 & -1 & 0 & 0 & 0 & 0 & 0 & 0 & 0 & 0 & 0 & 0 & 0 & 0 & 0 & 0 & 0 & 0 & 0 & 0 & 0 & 0 & 0 & 0 & 0 & 0 & 0 & 0 & C_{2} & 0\\\\0 & 0 & 0 & -1 & 0 & 0 & 0 & 0 & 0 & 0 & 0 & 0 & 0 & 0 & 0 & 0 & 0 & 0 & 0 & 0 & 0 & 0 & 0 & 0 & 0 & 0 & 0 & 0 & C & 0 & 0\\\\0 & 0 & 0 & 0 & 0 & 0 & 0 & 0 & 0 & 0 & 0 & 0 & 0 & 0 & 0 & -1 & 0 & 1 & 0 & 0 & 0 & 0 & 0 & 0 & 0 & 0 & 0 & 0 & 0 & 0 & 0\\\\0 & 0 & 0 & 0 & - B & 0 & 0 & 0 & 0 & 0 & 0 & 0 & 0 & 0 & 0 & 0 & 0 & 0 & 0 & 0 & 0 & 1 & 0 & 0 & 0 & 0 & 0 & 0 & 0 & 0 & 0\\\\0 & 0 & 0 & 0 & 0 & 0 & 0 & - B_{2} & 0 & 0 & 0 & 0 & 0 & 0 & 0 & 0 & 0 & 0 & 0 & 0 & 0 & 0 & 1 & 0 & 0 & 0 & 0 & 0 & 0 & 0 & 0\\\\0 & 0 & 0 & 0 & 0 & 0 & 0 & 0 & 0 & 0 & 0 & 0 & 0 & 0 & 0 & 0 & -1 & 0 & 1 & 0 & 0 & 0 & 0 & 0 & 0 & 0 & 0 & 0 & 0 & 0 & 0\\\\0 & 0 & 0 & 0 & 0 & 0 & 0 & 0 & 0 & 0 & 0 & 0 & 0 & 0 & 0 & 0 & 0 & 0 & 0 & 0 & -1 & 0 & 0 & 0 & 0 & 0 & 0 & 1 & 0 & 0 & 0\\\\0 & 0 & 0 & 0 & 0 & 0 & 0 & 0 & 0 & 0 & 0 & 0 & 0 & 0 & 0 & 0 & 0 & 0 & 0 & -1 & 0 & 0 & 0 & 0 & 0 & 0 & 0 & 0 & 0 & 0 & 1\\\\0 & 0 & 0 & 0 & 0 & 0 & 0 & 0 & 0 & 0 & - L_{1} s & 0 & 0 & 0 & 0 & 0 & 0 & 0 & 0 & 0 & 0 & 0 & 0 & 0 & 0 & 0 & 0 & -1 & 1 & 0 & 0\\\\0 & 0 & 0 & 0 & 0 & 0 & 0 & 0 & 0 & 0 & 0 & - La s & 0 & 0 & 0 & 0 & 0 & 0 & 0 & 0 & 0 & 0 & 0 & 1 & 0 & 0 & -1 & 0 & 0 & 0 & 0\\\\0 & 0 & 0 & 0 & 0 & 0 & 0 & 0 & 0 & 0 & 0 & 0 & - Lb s & 0 & 0 & 0 & 0 & 0 & 0 & 0 & 0 & 0 & 0 & 0 & -1 & 1 & 0 & 0 & 0 & 0 & 0\\\\0 & 0 & 0 & 0 & 0 & 0 & 0 & 0 & 0 & 0 & 0 & 0 & 0 & 0 & 0 & 0 & 0 & 0 & 0 & 1 & 0 & -1 & 0 & 0 & 0 & 0 & 0 & 0 & - A & 0 & 0\\\\0 & 0 & 0 & 0 & 0 & 0 & 0 & 0 & 0 & 0 & 0 & 0 & 0 & 0 & 0 & 0 & 0 & 0 & 0 & 0 & 1 & 0 & -1 & 0 & 0 & 0 & 0 & 0 & 0 & - A_{2} & 0\\\\0 & 0 & 0 & 0 & -1 & 0 & 0 & 0 & 0 & -1 & 0 & 0 & 0 & 0 & 0 & 0 & 0 & 0 & 0 & 0 & 0 & 0 & 0 & 0 & 0 & 0 & 0 & 0 & 0 & 0 & 0\\\\0 & 0 & 0 & 0 & 0 & 0 & 0 & -1 & -1 & 0 & 0 & 0 & 0 & 0 & 0 & 0 & 0 & 0 & 0 & 0 & 0 & 0 & 0 & 0 & 0 & 0 & 0 & 0 & 0 & 0 & 0\\\\-1 & 0 & 0 & 0 & 1 & 0 & 0 & 0 & 0 & 0 & 0 & 0 & 0 & 0 & 0 & 0 & 0 & 0 & 0 & 0 & 0 & 0 & 0 & 0 & 0 & 0 & 0 & 0 & 0 & 0 & 0\\\\0 & -1 & 0 & 0 & 0 & 0 & 0 & 1 & 0 & 0 & 0 & 0 & 0 & 0 & 0 & 0 & 0 & 0 & 0 & 0 & 0 & 0 & 0 & 0 & 0 & 0 & 0 & 0 & 0 & 0 & 0\\\\0 & 0 & 0 & 0 & 0 & 0 & 0 & 0 & 0 & 0 & 0 & 0 & 0 & 1 & 0 & 0 & 0 & 0 & 0 & 0 & 0 & 0 & 0 & 0 & 0 & 0 & 0 & 0 & 0 & 0 & 0\\\\0 & 0 & 0 & 0 & 0 & 0 & 0 & 0 & 0 & 0 & 0 & 0 & 0 & 0 & 1 & 0 & 0 & 0 & 0 & 0 & 0 & 0 & 0 & 0 & 0 & 0 & 0 & 0 & 0 & 0 & 0\\\\0 & 0 & 0 & 0 & 0 & 1 & 0 & 0 & 0 & 0 & 0 & 0 & 0 & -1 & 0 & 0 & 0 & 0 & 0 & 0 & 0 & 0 & 0 & 0 & 0 & 0 & 0 & 0 & 0 & 0 & 0\\\\0 & 0 & 0 & 0 & 0 & 0 & 1 & 0 & 0 & 0 & 0 & 0 & 0 & 0 & -1 & 0 & 0 & 0 & 0 & 0 & 0 & 0 & 0 & 0 & 0 & 0 & 0 & 0 & 0 & 0 & 0\\\\0 & 0 & 0 & 0 & 0 & 0 & 0 & 0 & 0 & 0 & 0 & 1 & 0 & 0 & 0 & 0 & 0 & 0 & 0 & 0 & 0 & 0 & 0 & \\frac{1}{ra} & 0 & 0 & 0 & - \\frac{1}{ra} & 0 & 0 & 0\\\\0 & 0 & 0 & 0 & 0 & 0 & 0 & 0 & 0 & 0 & 0 & 0 & -1 & 0 & 0 & 0 & 0 & 0 & 0 & 0 & 0 & 0 & 0 & 0 & cb s & 0 & 0 & 0 & 0 & - cb s & 0\\\\0 & 0 & 0 & 0 & 0 & 0 & 0 & 0 & 0 & 0 & 0 & 0 & 1 & 0 & 0 & 0 & 0 & 0 & 0 & 0 & 0 & 0 & 0 & 0 & 0 & \\frac{1}{rb} & 0 & 0 & 0 & 0 & 0\\\\0 & 0 & 0 & 0 & 0 & 0 & 0 & 0 & 0 & 0 & 0 & -1 & 0 & 0 & 0 & 0 & 0 & 0 & 0 & 0 & 0 & 0 & 0 & 0 & 0 & 0 & ca s & 0 & - ca s & 0 & 0\\\\0 & D_{2} & 1 & 0 & 0 & 0 & 0 & 0 & 0 & 0 & -1 & 0 & 0 & 0 & 0 & 0 & 0 & 0 & 0 & 0 & 0 & 0 & 0 & - \\frac{1}{ra} & 0 & 0 & 0 & \\frac{1}{ra} & 0 & 0 & 0\\\\0 & 0 & 0 & 0 & 0 & 0 & 0 & 0 & 0 & 1 & 1 & 0 & 0 & 0 & 0 & 0 & 0 & 0 & 0 & 0 & 0 & 0 & 0 & 0 & 0 & 0 & - ca s & 0 & ca s & 0 & 0\\\\0 & 0 & 0 & 0 & 0 & 0 & 0 & 0 & 1 & 0 & 0 & 0 & 0 & 0 & 0 & 0 & 0 & 0 & 0 & 0 & 0 & 0 & 0 & 0 & - cb s & 0 & 0 & 0 & 0 & cb s & 0\\\\D & 0 & 0 & 1 & 0 & 0 & 0 & 0 & 0 & 0 & 0 & 0 & 0 & 0 & 0 & 0 & 0 & 0 & 0 & 0 & 0 & 0 & 0 & 0 & 0 & 0 & 0 & 0 & 0 & 0 & \\frac{1}{R_{S}}\\end{array}\\right]\\cdot\\left[\\begin{matrix}Ii_{F1 XU1}\\\\Ii_{F1 XU3}\\\\Io_{G1 XU3}\\\\Io_{G1 XU1}\\\\Ii_{H1 XU1}\\\\Io_{H1 XU1}\\\\Io_{H1 XU3}\\\\Ii_{H1 XU3}\\\\Io_{N1 XU3}\\\\Io_{N1 XU1}\\\\I_{L1}\\\\I_{L2}\\\\I_{L4}\\\\Io_{E1 XU1}\\\\Io_{E1 XU3}\\\\V_{5 XU1}\\\\V_{5 XU3}\\\\V_{6 XU1}\\\\V_{6 XU3}\\\\V_{7 XU1}\\\\V_{7 XU3}\\\\V_{8 XU1}\\\\V_{8 XU3}\\\\V_{N001}\\\\V_{N002}\\\\V_{N003}\\\\V_{P001}\\\\V_{in2}\\\\V_{out1}\\\\V_{out2}\\\\V_{source}\\end{matrix}\\right]\n",
       "\\end{equation}\n"
      ],
      "text/plain": [
       "<IPython.core.display.HTML object>"
      ]
     },
     "execution_count": 10,
     "metadata": {},
     "output_type": "execute_result"
    }
   ],
   "source": [
    "# We will put the instruction on a new HTML page and display it in this notebook\n",
    "htmlPage('Matrix equations')\n",
    "# Let us put some explaining text in the report:\n",
    "text2html('The MNA matrix equation for the RC network is:')\n",
    "HTML(matrices2html(MNA, label = 'MNA', labelText = 'MNA equation of the network'))"
   ]
  },
  {
   "cell_type": "code",
   "execution_count": 11,
   "id": "aea152d4-b417-4bf7-a74c-7845b9082836",
   "metadata": {},
   "outputs": [
    {
     "name": "stdout",
     "output_type": "stream",
     "text": [
      "['Ii_F1_XU1', 'Ii_F1_XU3', 'Io_G1_XU3', 'Io_G1_XU1', 'Ii_H1_XU1', 'Io_H1_XU1', 'Io_H1_XU3', 'Ii_H1_XU3', 'Io_N1_XU3', 'Io_N1_XU1', 'I_L1', 'I_L2', 'I_L4', 'Io_E1_XU1', 'Io_E1_XU3', 'V_5_XU1', 'V_5_XU3', 'V_6_XU1', 'V_6_XU3', 'V_7_XU1', 'V_7_XU3', 'V_8_XU1', 'V_8_XU3', 'V_N001', 'V_N002', 'V_N003', 'V_P001', 'V_in2', 'V_out1', 'V_out2', 'V_source']\n"
     ]
    }
   ],
   "source": [
    "print(i1.depVars())"
   ]
  },
  {
   "cell_type": "code",
   "execution_count": 12,
   "id": "fb9ad36d-abc3-424d-a97a-7cb7dd3afe9b",
   "metadata": {},
   "outputs": [
    {
     "name": "stdout",
     "output_type": "stream",
     "text": [
      "['I1', 'I2']\n"
     ]
    }
   ],
   "source": [
    "print(i1.indepVars())"
   ]
  },
  {
   "cell_type": "code",
   "execution_count": 13,
   "id": "678ea6cc-0448-4233-8cde-5e1408de2254",
   "metadata": {},
   "outputs": [],
   "source": [
    "i1.setSource('I1') \n",
    "i1.setDetector ('V_out2')\n",
    "i1.setGainType('gain')\n",
    "i1.setDataType('laplace')\n",
    "i1.setSimType('symbolic')\n",
    "gain = i1.execute()"
   ]
  },
  {
   "cell_type": "code",
   "execution_count": 14,
   "id": "9694c2f2-6c04-4e4a-a41a-b8a07ea8a95e",
   "metadata": {},
   "outputs": [
    {
     "name": "stdout",
     "output_type": "stream",
     "text": [
      "R_S*(L1*Lb*ca*cb*s**4 + L1*ca*s**2 + La*Lb*ca*cb*s**4 + La*ca*s**2 + Lb*cb*s**2 + ca*cb*ra*rb*s**2 + ca*ra*s*(Lb*cb*s**2 + 1) + cb*rb*s*(L1*ca*s**2 + La*ca*s**2 + 1) + 1)/(A*A2*L1*Lb*ca*cb*s**4 + A*A2*L1*ca*s**2 + A*A2*La*Lb*ca*cb*s**4 + A*A2*La*ca*s**2 + A*A2*Lb*cb*s**2 + A*A2 + A*B2*L1*ca*cb*s**3 + A*B2*La*ca*cb*s**3 + A*B2*cb*s + A*C2*L1*La*Lb*ca*cb*s**5 + A*C2*L1*La*ca*s**3 + A*C2*L1*Lb*cb*s**3 + A*C2*L1*s + A*D2*L1*La*ca*cb*s**4 + A*D2*L1*cb*s**2 + B*C2*L1*Lb*ca*cb*s**4 + B*C2*L1*ca*s**2 + B*C2*La*Lb*ca*cb*s**4 + B*C2*La*ca*s**2 + B*C2*Lb*cb*s**2 + B*C2 + B*D2*L1*ca*cb*s**3 + B*D2*La*ca*cb*s**3 + B*D2*cb*s + R_S*ca*cb*ra*rb*s**2*(A2*C + C*C2*L1*s + C2*D) + R_S*ca*ra*s*(A2*C*Lb*cb*s**2 + A2*C + B2*C*cb*s + C*C2*L1*Lb*cb*s**3 + C*C2*L1*s + C*D2*L1*cb*s**2 + C2*D*Lb*cb*s**2 + C2*D + D*D2*cb*s) + R_S*cb*rb*s*(A2*C*L1*ca*s**2 + A2*C*La*ca*s**2 + A2*C + C*C2*L1*La*ca*s**3 + C*C2*L1*s + C2*D*L1*ca*s**2 + C2*D*La*ca*s**2 + C2*D) + R_S*(A2*C*L1*Lb*ca*cb*s**4 + A2*C*L1*ca*s**2 + A2*C*La*Lb*ca*cb*s**4 + A2*C*La*ca*s**2 + A2*C*Lb*cb*s**2 + A2*C + B2*C*L1*ca*cb*s**3 + B2*C*La*ca*cb*s**3 + B2*C*cb*s + C*C2*L1*La*Lb*ca*cb*s**5 + C*C2*L1*La*ca*s**3 + C*C2*L1*Lb*cb*s**3 + C*C2*L1*s + C*D2*L1*La*ca*cb*s**4 + C*D2*L1*cb*s**2 + C2*D*L1*Lb*ca*cb*s**4 + C2*D*L1*ca*s**2 + C2*D*La*Lb*ca*cb*s**4 + C2*D*La*ca*s**2 + C2*D*Lb*cb*s**2 + C2*D + D*D2*L1*ca*cb*s**3 + D*D2*La*ca*cb*s**3 + D*D2*cb*s) + ca*cb*ra*rb*s**2*(A*A2 + A*C2*L1*s + B*C2) + ca*ra*s*(A*A2*Lb*cb*s**2 + A*A2 + A*B2*cb*s + A*C2*L1*Lb*cb*s**3 + A*C2*L1*s + A*D2*L1*cb*s**2 + B*C2*Lb*cb*s**2 + B*C2 + B*D2*cb*s) + cb*rb*s*(A*A2*L1*ca*s**2 + A*A2*La*ca*s**2 + A*A2 + A*C2*L1*La*ca*s**3 + A*C2*L1*s + B*C2*L1*ca*s**2 + B*C2*La*ca*s**2 + B*C2))\n"
     ]
    }
   ],
   "source": [
    "print(gain.laplace)"
   ]
  },
  {
   "cell_type": "code",
   "execution_count": 15,
   "id": "c9affd62-cb54-4828-99f7-9b8d3b035dd4",
   "metadata": {},
   "outputs": [],
   "source": [
    "rationalexpr = sp.sympify(gain.laplace)"
   ]
  },
  {
   "cell_type": "code",
   "execution_count": 16,
   "id": "6137b143-f33f-4785-a6f2-a085c3753250",
   "metadata": {
    "scrolled": true
   },
   "outputs": [],
   "source": [
    "#https://www.tutorialspoint.com/sympy/sympy_substitution.htm\n",
    "\n",
    "\n",
    "from sympy import symbols, cos, sin, I, simplify\n",
    "# Single-letter symbols can still be imported from sympy.abc if desired\n",
    "from sympy.abc import beta, A, B, C, D, x, y, z\n",
    "\n",
    "# Define multi-letter and other symbols not included in sympy.abc\n",
    "bl1, bl2, z0, z2, A2, B2, C2, D2 = symbols('bl1 bl2 z0 z2 A2 B2 C2 D2')\n",
    "s, R_S, L1, Lb, ca, cb, C2, D2 = symbols('bl1 bl2 z0 z2 A2 B2 C2 D2')\n",
    "\n",
    "R_S, R_L, R_f, R_b, Z1, T1, Z2, T2, L, R7_comp, R8_comp, B, C2, L1, ra, A2, D, Lb, C, B2, ca, cb, D2, A, rb, La = symbols('R_S, R_L, R_f, R_b, Z1, T1, Z2, T2, L, R7_comp, R8_comp, B, C2, L1, ra, A2, D, Lb, C, B2, ca, cb, D2, A, rb, La')"
   ]
  },
  {
   "cell_type": "code",
   "execution_count": 17,
   "id": "36823bb4-dfd8-4fc3-97e9-e53fd21dce2c",
   "metadata": {},
   "outputs": [],
   "source": [
    "all_param_names = list(i1.circuit.parDefs.keys()) + i1.circuit.params"
   ]
  },
  {
   "cell_type": "code",
   "execution_count": 18,
   "id": "25fb6848-13c7-4e78-a6fd-b8d989cc11a1",
   "metadata": {},
   "outputs": [
    {
     "name": "stdout",
     "output_type": "stream",
     "text": [
      "[R_S, R_L, R_f, R_b, Z1, T1, Z2, T2, L, R7_comp, R8_comp, ra, D, La, Lb, A, D2, L1, ca, A2, cb, B2, rb, C, B, C2]\n"
     ]
    }
   ],
   "source": [
    "print(all_param_names)"
   ]
  },
  {
   "cell_type": "code",
   "execution_count": 19,
   "id": "7f8b63fc-2ee1-4f5e-97a5-0efdc93440f5",
   "metadata": {},
   "outputs": [
    {
     "data": {
      "text/plain": [
       "[ra, D, La, Lb, A, D2, L1, ca, A2, cb, B2, rb, C, B, C2]"
      ]
     },
     "execution_count": 19,
     "metadata": {},
     "output_type": "execute_result"
    }
   ],
   "source": [
    " i1.circuit.params"
   ]
  },
  {
   "cell_type": "code",
   "execution_count": 20,
   "id": "d6125708-1ba6-45d7-89b2-9a7b785e7206",
   "metadata": {},
   "outputs": [],
   "source": [
    "rds, roff, wa, wb, coff,ona,onb = symbols('rds, roff, wa, wb, coff,ona,onb')"
   ]
  },
  {
   "cell_type": "code",
   "execution_count": null,
   "id": "aa9d6691-719d-4277-85a0-efcd1b30da10",
   "metadata": {},
   "outputs": [],
   "source": []
  },
  {
   "cell_type": "code",
   "execution_count": 21,
   "id": "fb02a99f-6513-40e3-a850-3f26a1922c8a",
   "metadata": {},
   "outputs": [],
   "source": [
    "subs_dict = {A : cos(bl1), B : I*z0*sin(bl1), C : I*(1/z0)*sin(bl1), D : cos(bl1), \n",
    "             A2 : cos(bl2), B2 : I*z2*sin(bl2), C2 : I*(1/z2)*sin(bl2), D2 : cos(bl2),\n",
    "             ra : (rds*ona+roff)/wa, rb : (rds*onb+roff)/wb, ca : coff*(1/(1-ona))*wa, cb : coff*(1/(1-onb))*wb, La : Lb\n",
    "            }"
   ]
  },
  {
   "cell_type": "code",
   "execution_count": 22,
   "id": "3bda3593-2b27-4fdf-8eaf-fd2d44d42482",
   "metadata": {},
   "outputs": [],
   "source": [
    "l1truegain = rationalexpr.subs(subs_dict)"
   ]
  },
  {
   "cell_type": "code",
   "execution_count": 23,
   "id": "a44ff417-b7af-48cf-81b0-1d5ee0fa385e",
   "metadata": {},
   "outputs": [],
   "source": [
    "#from sympy import limit, oo\n",
    "#|truegain = limit(rationalexpr.subs(subs_dict),L1,oo)"
   ]
  },
  {
   "cell_type": "code",
   "execution_count": 24,
   "id": "5576d16d-bac6-4ee8-86f2-7ee6fa62cf8b",
   "metadata": {},
   "outputs": [],
   "source": [
    "#gain.laplace.subs(subs_dict)"
   ]
  },
  {
   "cell_type": "code",
   "execution_count": null,
   "id": "2c411946-cfbf-4141-a95d-e105469c659f",
   "metadata": {},
   "outputs": [],
   "source": []
  },
  {
   "cell_type": "code",
   "execution_count": 25,
   "id": "094e439e-d63a-4059-acb6-987eff9597f5",
   "metadata": {},
   "outputs": [
    {
     "data": {
      "text/plain": [
       "'R_S*(L1*Lb*coff^2*s^4*wa*wb/((1 - ona)*(1 - onb)) + L1*coff*s^2*wa/(1 - ona) + Lb^2*coff^2*s^4*wa*wb/((1 - ona)*(1 - onb)) + Lb*coff*s^2*wa/(1 - ona) + Lb*coff*s^2*wb/(1 - onb) + coff^2*s^2*(ona*rds + roff)*(onb*rds + roff)/((1 - ona)*(1 - onb)) + coff*s*(onb*rds + roff)*(L1*coff*s^2*wa/(1 - ona) + Lb*coff*s^2*wa/(1 - ona) + 1)/(1 - onb) + coff*s*(ona*rds + roff)*(Lb*coff*s^2*wb/(1 - onb) + 1)/(1 - ona) + 1)/(I*L1*Lb^2*coff^2*s^5*wa*wb*Sin[bl2]*Cos[bl1]/(z2*(1 - ona)*(1 - onb)) - L1*Lb*coff^2*s^4*wa*wb*z0*Sin[bl1]*Sin[bl2]/(z2*(1 - ona)*(1 - onb)) + 2*L1*Lb*coff^2*s^4*wa*wb*Cos[bl1]*Cos[bl2]/((1 - ona)*(1 - onb)) + I*L1*Lb*coff*s^3*wa*Sin[bl2]*Cos[bl1]/(z2*(1 - ona)) + I*L1*Lb*coff*s^3*wb*Sin[bl2]*Cos[bl1]/(z2*(1 - onb)) + I*L1*coff^2*s^3*wa*wb*z0*Sin[bl1]*Cos[bl2]/((1 - ona)*(1 - onb)) + I*L1*coff^2*s^3*wa*wb*z2*Sin[bl2]*Cos[bl1]/((1 - ona)*(1 - onb)) - L1*coff*s^2*wa*z0*Sin[bl1]*Sin[bl2]/(z2*(1 - ona)) + L1*coff*s^2*wa*Cos[bl1]*Cos[bl2]/(1 - ona) + L1*coff*s^2*wb*Cos[bl1]*Cos[bl2]/(1 - onb) + I*L1*s*Sin[bl2]*Cos[bl1]/z2 - Lb^2*coff^2*s^4*wa*wb*z0*Sin[bl1]*Sin[bl2]/(z2*(1 - ona)*(1 - onb)) + Lb^2*coff^2*s^4*wa*wb*Cos[bl1]*Cos[bl2]/((1 - ona)*(1 - onb)) + I*Lb*coff^2*s^3*wa*wb*z0*Sin[bl1]*Cos[bl2]/((1 - ona)*(1 - onb)) + I*Lb*coff^2*s^3*wa*wb*z2*Sin[bl2]*Cos[bl1]/((1 - ona)*(1 - onb)) - Lb*coff*s^2*wa*z0*Sin[bl1]*Sin[bl2]/(z2*(1 - ona)) + Lb*coff*s^2*wa*Cos[bl1]*Cos[bl2]/(1 - ona) - Lb*coff*s^2*wb*z0*Sin[bl1]*Sin[bl2]/(z2*(1 - onb)) + Lb*coff*s^2*wb*Cos[bl1]*Cos[bl2]/(1 - onb) + R_S*coff^2*s^2*(ona*rds + roff)*(onb*rds + roff)*(-L1*s*Sin[bl1]*Sin[bl2]/(z0*z2) + I*Sin[bl2]*Cos[bl1]/z2 + I*Sin[bl1]*Cos[bl2]/z0)/((1 - ona)*(1 - onb)) + R_S*coff*s*(onb*rds + roff)*(-L1*Lb*coff*s^3*wa*Sin[bl1]*Sin[bl2]/(z0*z2*(1 - ona)) + I*L1*coff*s^2*wa*Sin[bl2]*Cos[bl1]/(z2*(1 - ona)) + I*L1*coff*s^2*wa*Sin[bl1]*Cos[bl2]/(z0*(1 - ona)) - L1*s*Sin[bl1]*Sin[bl2]/(z0*z2) + I*Lb*coff*s^2*wa*Sin[bl2]*Cos[bl1]/(z2*(1 - ona)) + I*Lb*coff*s^2*wa*Sin[bl1]*Cos[bl2]/(z0*(1 - ona)) + I*Sin[bl2]*Cos[bl1]/z2 + I*Sin[bl1]*Cos[bl2]/z0)/(1 - onb) + R_S*coff*s*(ona*rds + roff)*(-L1*Lb*coff*s^3*wb*Sin[bl1]*Sin[bl2]/(z0*z2*(1 - onb)) + I*L1*coff*s^2*wb*Sin[bl1]*Cos[bl2]/(z0*(1 - onb)) - L1*s*Sin[bl1]*Sin[bl2]/(z0*z2) + I*Lb*coff*s^2*wb*Sin[bl2]*Cos[bl1]/(z2*(1 - onb)) + I*Lb*coff*s^2*wb*Sin[bl1]*Cos[bl2]/(z0*(1 - onb)) + coff*s*wb*Cos[bl1]*Cos[bl2]/(1 - onb) - coff*s*wb*z2*Sin[bl1]*Sin[bl2]/(z0*(1 - onb)) + I*Sin[bl2]*Cos[bl1]/z2 + I*Sin[bl1]*Cos[bl2]/z0)/(1 - ona) + R_S*(-L1*Lb^2*coff^2*s^5*wa*wb*Sin[bl1]*Sin[bl2]/(z0*z2*(1 - ona)*(1 - onb)) + I*L1*Lb*coff^2*s^4*wa*wb*Sin[bl2]*Cos[bl1]/(z2*(1 - ona)*(1 - onb)) + 2*I*L1*Lb*coff^2*s^4*wa*wb*Sin[bl1]*Cos[bl2]/(z0*(1 - ona)*(1 - onb)) - L1*Lb*coff*s^3*wa*Sin[bl1]*Sin[bl2]/(z0*z2*(1 - ona)) - L1*Lb*coff*s^3*wb*Sin[bl1]*Sin[bl2]/(z0*z2*(1 - onb)) + L1*coff^2*s^3*wa*wb*Cos[bl1]*Cos[bl2]/((1 - ona)*(1 - onb)) - L1*coff^2*s^3*wa*wb*z2*Sin[bl1]*Sin[bl2]/(z0*(1 - ona)*(1 - onb)) + I*L1*coff*s^2*wa*Sin[bl2]*Cos[bl1]/(z2*(1 - ona)) + I*L1*coff*s^2*wa*Sin[bl1]*Cos[bl2]/(z0*(1 - ona)) + I*L1*coff*s^2*wb*Sin[bl1]*Cos[bl2]/(z0*(1 - onb)) - L1*s*Sin[bl1]*Sin[bl2]/(z0*z2) + I*Lb^2*coff^2*s^4*wa*wb*Sin[bl2]*Cos[bl1]/(z2*(1 - ona)*(1 - onb)) + I*Lb^2*coff^2*s^4*wa*wb*Sin[bl1]*Cos[bl2]/(z0*(1 - ona)*(1 - onb)) + Lb*coff^2*s^3*wa*wb*Cos[bl1]*Cos[bl2]/((1 - ona)*(1 - onb)) - Lb*coff^2*s^3*wa*wb*z2*Sin[bl1]*Sin[bl2]/(z0*(1 - ona)*(1 - onb)) + I*Lb*coff*s^2*wa*Sin[bl2]*Cos[bl1]/(z2*(1 - ona)) + I*Lb*coff*s^2*wa*Sin[bl1]*Cos[bl2]/(z0*(1 - ona)) + I*Lb*coff*s^2*wb*Sin[bl2]*Cos[bl1]/(z2*(1 - onb)) + I*Lb*coff*s^2*wb*Sin[bl1]*Cos[bl2]/(z0*(1 - onb)) + coff*s*wb*Cos[bl1]*Cos[bl2]/(1 - onb) - coff*s*wb*z2*Sin[bl1]*Sin[bl2]/(z0*(1 - onb)) + I*Sin[bl2]*Cos[bl1]/z2 + I*Sin[bl1]*Cos[bl2]/z0) + coff^2*s^2*(ona*rds + roff)*(onb*rds + roff)*(I*L1*s*Sin[bl2]*Cos[bl1]/z2 - z0*Sin[bl1]*Sin[bl2]/z2 + Cos[bl1]*Cos[bl2])/((1 - ona)*(1 - onb)) + I*coff*s*wb*z0*Sin[bl1]*Cos[bl2]/(1 - onb) + I*coff*s*wb*z2*Sin[bl2]*Cos[bl1]/(1 - onb) + coff*s*(onb*rds + roff)*(I*L1*Lb*coff*s^3*wa*Sin[bl2]*Cos[bl1]/(z2*(1 - ona)) - L1*coff*s^2*wa*z0*Sin[bl1]*Sin[bl2]/(z2*(1 - ona)) + L1*coff*s^2*wa*Cos[bl1]*Cos[bl2]/(1 - ona) + I*L1*s*Sin[bl2]*Cos[bl1]/z2 - Lb*coff*s^2*wa*z0*Sin[bl1]*Sin[bl2]/(z2*(1 - ona)) + Lb*coff*s^2*wa*Cos[bl1]*Cos[bl2]/(1 - ona) - z0*Sin[bl1]*Sin[bl2]/z2 + Cos[bl1]*Cos[bl2])/(1 - onb) + coff*s*(ona*rds + roff)*(I*L1*Lb*coff*s^3*wb*Sin[bl2]*Cos[bl1]/(z2*(1 - onb)) + L1*coff*s^2*wb*Cos[bl1]*Cos[bl2]/(1 - onb) + I*L1*s*Sin[bl2]*Cos[bl1]/z2 - Lb*coff*s^2*wb*z0*Sin[bl1]*Sin[bl2]/(z2*(1 - onb)) + Lb*coff*s^2*wb*Cos[bl1]*Cos[bl2]/(1 - onb) + I*coff*s*wb*z0*Sin[bl1]*Cos[bl2]/(1 - onb) + I*coff*s*wb*z2*Sin[bl2]*Cos[bl1]/(1 - onb) - z0*Sin[bl1]*Sin[bl2]/z2 + Cos[bl1]*Cos[bl2])/(1 - ona) - z0*Sin[bl1]*Sin[bl2]/z2 + Cos[bl1]*Cos[bl2])'"
      ]
     },
     "execution_count": 25,
     "metadata": {},
     "output_type": "execute_result"
    }
   ],
   "source": [
    "from sympy import mathematica_code as mcode, symbols, sin\n",
    "mcode(l1truegain)"
   ]
  },
  {
   "cell_type": "code",
   "execution_count": 94,
   "id": "bc9b4227-86fe-426a-92c6-bfbc6a74db04",
   "metadata": {},
   "outputs": [
    {
     "data": {
      "text/plain": [
       "{L1, Lb, R_S, bl1, bl2, coff, rds, roff, s, wa, wb, z0, z2}"
      ]
     },
     "execution_count": 94,
     "metadata": {},
     "output_type": "execute_result"
    }
   ],
   "source": [
    "l1truegain.free_symbols"
   ]
  },
  {
   "cell_type": "code",
   "execution_count": null,
   "id": "3e1853c8-eede-4571-9eb3-d13b886d1924",
   "metadata": {},
   "outputs": [],
   "source": []
  },
  {
   "cell_type": "code",
   "execution_count": null,
   "id": "9c8c115c-0262-4af9-8640-fec9eb1fb6c4",
   "metadata": {},
   "outputs": [],
   "source": []
  },
  {
   "cell_type": "code",
   "execution_count": 26,
   "id": "c52d91c7-fe7e-4bd2-a223-a149a74bfe7e",
   "metadata": {
    "scrolled": true
   },
   "outputs": [
    {
     "name": "stdout",
     "output_type": "stream",
     "text": [
      "Checking netlist: C:\\Users\\User\\OneDrive\\Documents\\GitHub\\SLiCAP_python\\files\\examples\\Chapter5\\SLiCAP/cir/halfswitch_LKY2.cir\n"
     ]
    }
   ],
   "source": [
    "iin = instruction()\n",
    "iin.setCircuit('halfswitch_LKY2.cir')"
   ]
  },
  {
   "cell_type": "code",
   "execution_count": 27,
   "id": "6802e715-2b01-4de5-98f1-4051838402a3",
   "metadata": {},
   "outputs": [
    {
     "name": "stdout",
     "output_type": "stream",
     "text": [
      "['Ii_F1_XU1', 'Ii_F1_XU3', 'Io_G1_XU3', 'Io_G1_XU1', 'Ii_H1_XU1', 'Io_H1_XU1', 'Io_H1_XU3', 'Ii_H1_XU3', 'Io_N1_XU3', 'Io_N1_XU1', 'I_L1', 'I_L2', 'I_L4', 'Io_E1_XU1', 'Io_E1_XU3', 'V_5_XU1', 'V_5_XU3', 'V_6_XU1', 'V_6_XU3', 'V_7_XU1', 'V_7_XU3', 'V_8_XU1', 'V_8_XU3', 'V_N001', 'V_N002', 'V_N003', 'V_P001', 'V_in2', 'V_out1', 'V_out2', 'V_source']\n"
     ]
    }
   ],
   "source": [
    "print(iin.depVars())"
   ]
  },
  {
   "cell_type": "code",
   "execution_count": 28,
   "id": "40424390-2600-4018-8ec2-483de67e3db9",
   "metadata": {},
   "outputs": [
    {
     "name": "stdout",
     "output_type": "stream",
     "text": [
      "['I1', 'I2']\n"
     ]
    }
   ],
   "source": [
    "print(iin.indepVars())"
   ]
  },
  {
   "cell_type": "code",
   "execution_count": 29,
   "id": "5be5f554-56ae-4926-b67c-2c4514e9e897",
   "metadata": {},
   "outputs": [],
   "source": [
    "iin.setSimType('symbolic');\n",
    "iin.setSource('I1') \n",
    "iin.setDetector ('V_source')\n",
    "iin.setGainType('gain')\n",
    "iin.setDataType('laplace')\n",
    "iin.setSimType('symbolic')\n",
    "resultin = iin.execute()"
   ]
  },
  {
   "cell_type": "code",
   "execution_count": 30,
   "id": "a2398c6b-63c2-4e9e-951e-101c3cad36d1",
   "metadata": {},
   "outputs": [],
   "source": [
    "subs_dict = {A : cos(bl1), B : I*z0*sin(bl1), C : I*(1/z0)*sin(bl1), D : cos(bl1), \n",
    "             A2 : cos(bl2), B2 : I*z2*sin(bl2), C2 : I*(1/z2)*sin(bl2), D2 : cos(bl2),\n",
    "             ra : (rds*ona+roff)/wa, rb : (rds*onb+roff)/wb, ca : coff*(1/(1-ona))*wa, cb : coff*(1/(1-onb))*wb, La : Lb\n",
    "            }"
   ]
  },
  {
   "cell_type": "code",
   "execution_count": 31,
   "id": "2a517333-1437-46d3-9c7c-b115f9a3749e",
   "metadata": {},
   "outputs": [
    {
     "data": {
      "text/plain": [
       "'R_S*(I*L1*Lb^2*coff^2*s^5*wa*wb*Sin[bl2]*Cos[bl1]/(z2*(1 - ona)*(1 - onb)) - L1*Lb*coff^2*s^4*wa*wb*z0*Sin[bl1]*Sin[bl2]/(z2*(1 - ona)*(1 - onb)) + 2*L1*Lb*coff^2*s^4*wa*wb*Cos[bl1]*Cos[bl2]/((1 - ona)*(1 - onb)) + I*L1*Lb*coff*s^3*wa*Sin[bl2]*Cos[bl1]/(z2*(1 - ona)) + I*L1*Lb*coff*s^3*wb*Sin[bl2]*Cos[bl1]/(z2*(1 - onb)) + I*L1*coff^2*s^3*wa*wb*z0*Sin[bl1]*Cos[bl2]/((1 - ona)*(1 - onb)) + I*L1*coff^2*s^3*wa*wb*z2*Sin[bl2]*Cos[bl1]/((1 - ona)*(1 - onb)) - L1*coff*s^2*wa*z0*Sin[bl1]*Sin[bl2]/(z2*(1 - ona)) + L1*coff*s^2*wa*Cos[bl1]*Cos[bl2]/(1 - ona) + L1*coff*s^2*wb*Cos[bl1]*Cos[bl2]/(1 - onb) + I*L1*s*Sin[bl2]*Cos[bl1]/z2 - Lb^2*coff^2*s^4*wa*wb*z0*Sin[bl1]*Sin[bl2]/(z2*(1 - ona)*(1 - onb)) + Lb^2*coff^2*s^4*wa*wb*Cos[bl1]*Cos[bl2]/((1 - ona)*(1 - onb)) + I*Lb*coff^2*s^3*wa*wb*z0*Sin[bl1]*Cos[bl2]/((1 - ona)*(1 - onb)) + I*Lb*coff^2*s^3*wa*wb*z2*Sin[bl2]*Cos[bl1]/((1 - ona)*(1 - onb)) - Lb*coff*s^2*wa*z0*Sin[bl1]*Sin[bl2]/(z2*(1 - ona)) + Lb*coff*s^2*wa*Cos[bl1]*Cos[bl2]/(1 - ona) - Lb*coff*s^2*wb*z0*Sin[bl1]*Sin[bl2]/(z2*(1 - onb)) + Lb*coff*s^2*wb*Cos[bl1]*Cos[bl2]/(1 - onb) + coff^2*s^2*(ona*rds + roff)*(onb*rds + roff)*(I*L1*s*Sin[bl2]*Cos[bl1]/z2 - z0*Sin[bl1]*Sin[bl2]/z2 + Cos[bl1]*Cos[bl2])/((1 - ona)*(1 - onb)) + I*coff*s*wb*z0*Sin[bl1]*Cos[bl2]/(1 - onb) + I*coff*s*wb*z2*Sin[bl2]*Cos[bl1]/(1 - onb) + coff*s*(onb*rds + roff)*(I*L1*Lb*coff*s^3*wa*Sin[bl2]*Cos[bl1]/(z2*(1 - ona)) - L1*coff*s^2*wa*z0*Sin[bl1]*Sin[bl2]/(z2*(1 - ona)) + L1*coff*s^2*wa*Cos[bl1]*Cos[bl2]/(1 - ona) + I*L1*s*Sin[bl2]*Cos[bl1]/z2 - Lb*coff*s^2*wa*z0*Sin[bl1]*Sin[bl2]/(z2*(1 - ona)) + Lb*coff*s^2*wa*Cos[bl1]*Cos[bl2]/(1 - ona) - z0*Sin[bl1]*Sin[bl2]/z2 + Cos[bl1]*Cos[bl2])/(1 - onb) + coff*s*(ona*rds + roff)*(I*L1*Lb*coff*s^3*wb*Sin[bl2]*Cos[bl1]/(z2*(1 - onb)) + L1*coff*s^2*wb*Cos[bl1]*Cos[bl2]/(1 - onb) + I*L1*s*Sin[bl2]*Cos[bl1]/z2 - Lb*coff*s^2*wb*z0*Sin[bl1]*Sin[bl2]/(z2*(1 - onb)) + Lb*coff*s^2*wb*Cos[bl1]*Cos[bl2]/(1 - onb) + I*coff*s*wb*z0*Sin[bl1]*Cos[bl2]/(1 - onb) + I*coff*s*wb*z2*Sin[bl2]*Cos[bl1]/(1 - onb) - z0*Sin[bl1]*Sin[bl2]/z2 + Cos[bl1]*Cos[bl2])/(1 - ona) - z0*Sin[bl1]*Sin[bl2]/z2 + Cos[bl1]*Cos[bl2])/(I*L1*Lb^2*coff^2*s^5*wa*wb*Sin[bl2]*Cos[bl1]/(z2*(1 - ona)*(1 - onb)) - L1*Lb*coff^2*s^4*wa*wb*z0*Sin[bl1]*Sin[bl2]/(z2*(1 - ona)*(1 - onb)) + 2*L1*Lb*coff^2*s^4*wa*wb*Cos[bl1]*Cos[bl2]/((1 - ona)*(1 - onb)) + I*L1*Lb*coff*s^3*wa*Sin[bl2]*Cos[bl1]/(z2*(1 - ona)) + I*L1*Lb*coff*s^3*wb*Sin[bl2]*Cos[bl1]/(z2*(1 - onb)) + I*L1*coff^2*s^3*wa*wb*z0*Sin[bl1]*Cos[bl2]/((1 - ona)*(1 - onb)) + I*L1*coff^2*s^3*wa*wb*z2*Sin[bl2]*Cos[bl1]/((1 - ona)*(1 - onb)) - L1*coff*s^2*wa*z0*Sin[bl1]*Sin[bl2]/(z2*(1 - ona)) + L1*coff*s^2*wa*Cos[bl1]*Cos[bl2]/(1 - ona) + L1*coff*s^2*wb*Cos[bl1]*Cos[bl2]/(1 - onb) + I*L1*s*Sin[bl2]*Cos[bl1]/z2 - Lb^2*coff^2*s^4*wa*wb*z0*Sin[bl1]*Sin[bl2]/(z2*(1 - ona)*(1 - onb)) + Lb^2*coff^2*s^4*wa*wb*Cos[bl1]*Cos[bl2]/((1 - ona)*(1 - onb)) + I*Lb*coff^2*s^3*wa*wb*z0*Sin[bl1]*Cos[bl2]/((1 - ona)*(1 - onb)) + I*Lb*coff^2*s^3*wa*wb*z2*Sin[bl2]*Cos[bl1]/((1 - ona)*(1 - onb)) - Lb*coff*s^2*wa*z0*Sin[bl1]*Sin[bl2]/(z2*(1 - ona)) + Lb*coff*s^2*wa*Cos[bl1]*Cos[bl2]/(1 - ona) - Lb*coff*s^2*wb*z0*Sin[bl1]*Sin[bl2]/(z2*(1 - onb)) + Lb*coff*s^2*wb*Cos[bl1]*Cos[bl2]/(1 - onb) + R_S*coff^2*s^2*(ona*rds + roff)*(onb*rds + roff)*(-L1*s*Sin[bl1]*Sin[bl2]/(z0*z2) + I*Sin[bl2]*Cos[bl1]/z2 + I*Sin[bl1]*Cos[bl2]/z0)/((1 - ona)*(1 - onb)) + R_S*coff*s*(onb*rds + roff)*(-L1*Lb*coff*s^3*wa*Sin[bl1]*Sin[bl2]/(z0*z2*(1 - ona)) + I*L1*coff*s^2*wa*Sin[bl2]*Cos[bl1]/(z2*(1 - ona)) + I*L1*coff*s^2*wa*Sin[bl1]*Cos[bl2]/(z0*(1 - ona)) - L1*s*Sin[bl1]*Sin[bl2]/(z0*z2) + I*Lb*coff*s^2*wa*Sin[bl2]*Cos[bl1]/(z2*(1 - ona)) + I*Lb*coff*s^2*wa*Sin[bl1]*Cos[bl2]/(z0*(1 - ona)) + I*Sin[bl2]*Cos[bl1]/z2 + I*Sin[bl1]*Cos[bl2]/z0)/(1 - onb) + R_S*coff*s*(ona*rds + roff)*(-L1*Lb*coff*s^3*wb*Sin[bl1]*Sin[bl2]/(z0*z2*(1 - onb)) + I*L1*coff*s^2*wb*Sin[bl1]*Cos[bl2]/(z0*(1 - onb)) - L1*s*Sin[bl1]*Sin[bl2]/(z0*z2) + I*Lb*coff*s^2*wb*Sin[bl2]*Cos[bl1]/(z2*(1 - onb)) + I*Lb*coff*s^2*wb*Sin[bl1]*Cos[bl2]/(z0*(1 - onb)) + coff*s*wb*Cos[bl1]*Cos[bl2]/(1 - onb) - coff*s*wb*z2*Sin[bl1]*Sin[bl2]/(z0*(1 - onb)) + I*Sin[bl2]*Cos[bl1]/z2 + I*Sin[bl1]*Cos[bl2]/z0)/(1 - ona) + R_S*(-L1*Lb^2*coff^2*s^5*wa*wb*Sin[bl1]*Sin[bl2]/(z0*z2*(1 - ona)*(1 - onb)) + I*L1*Lb*coff^2*s^4*wa*wb*Sin[bl2]*Cos[bl1]/(z2*(1 - ona)*(1 - onb)) + 2*I*L1*Lb*coff^2*s^4*wa*wb*Sin[bl1]*Cos[bl2]/(z0*(1 - ona)*(1 - onb)) - L1*Lb*coff*s^3*wa*Sin[bl1]*Sin[bl2]/(z0*z2*(1 - ona)) - L1*Lb*coff*s^3*wb*Sin[bl1]*Sin[bl2]/(z0*z2*(1 - onb)) + L1*coff^2*s^3*wa*wb*Cos[bl1]*Cos[bl2]/((1 - ona)*(1 - onb)) - L1*coff^2*s^3*wa*wb*z2*Sin[bl1]*Sin[bl2]/(z0*(1 - ona)*(1 - onb)) + I*L1*coff*s^2*wa*Sin[bl2]*Cos[bl1]/(z2*(1 - ona)) + I*L1*coff*s^2*wa*Sin[bl1]*Cos[bl2]/(z0*(1 - ona)) + I*L1*coff*s^2*wb*Sin[bl1]*Cos[bl2]/(z0*(1 - onb)) - L1*s*Sin[bl1]*Sin[bl2]/(z0*z2) + I*Lb^2*coff^2*s^4*wa*wb*Sin[bl2]*Cos[bl1]/(z2*(1 - ona)*(1 - onb)) + I*Lb^2*coff^2*s^4*wa*wb*Sin[bl1]*Cos[bl2]/(z0*(1 - ona)*(1 - onb)) + Lb*coff^2*s^3*wa*wb*Cos[bl1]*Cos[bl2]/((1 - ona)*(1 - onb)) - Lb*coff^2*s^3*wa*wb*z2*Sin[bl1]*Sin[bl2]/(z0*(1 - ona)*(1 - onb)) + I*Lb*coff*s^2*wa*Sin[bl2]*Cos[bl1]/(z2*(1 - ona)) + I*Lb*coff*s^2*wa*Sin[bl1]*Cos[bl2]/(z0*(1 - ona)) + I*Lb*coff*s^2*wb*Sin[bl2]*Cos[bl1]/(z2*(1 - onb)) + I*Lb*coff*s^2*wb*Sin[bl1]*Cos[bl2]/(z0*(1 - onb)) + coff*s*wb*Cos[bl1]*Cos[bl2]/(1 - onb) - coff*s*wb*z2*Sin[bl1]*Sin[bl2]/(z0*(1 - onb)) + I*Sin[bl2]*Cos[bl1]/z2 + I*Sin[bl1]*Cos[bl2]/z0) + coff^2*s^2*(ona*rds + roff)*(onb*rds + roff)*(I*L1*s*Sin[bl2]*Cos[bl1]/z2 - z0*Sin[bl1]*Sin[bl2]/z2 + Cos[bl1]*Cos[bl2])/((1 - ona)*(1 - onb)) + I*coff*s*wb*z0*Sin[bl1]*Cos[bl2]/(1 - onb) + I*coff*s*wb*z2*Sin[bl2]*Cos[bl1]/(1 - onb) + coff*s*(onb*rds + roff)*(I*L1*Lb*coff*s^3*wa*Sin[bl2]*Cos[bl1]/(z2*(1 - ona)) - L1*coff*s^2*wa*z0*Sin[bl1]*Sin[bl2]/(z2*(1 - ona)) + L1*coff*s^2*wa*Cos[bl1]*Cos[bl2]/(1 - ona) + I*L1*s*Sin[bl2]*Cos[bl1]/z2 - Lb*coff*s^2*wa*z0*Sin[bl1]*Sin[bl2]/(z2*(1 - ona)) + Lb*coff*s^2*wa*Cos[bl1]*Cos[bl2]/(1 - ona) - z0*Sin[bl1]*Sin[bl2]/z2 + Cos[bl1]*Cos[bl2])/(1 - onb) + coff*s*(ona*rds + roff)*(I*L1*Lb*coff*s^3*wb*Sin[bl2]*Cos[bl1]/(z2*(1 - onb)) + L1*coff*s^2*wb*Cos[bl1]*Cos[bl2]/(1 - onb) + I*L1*s*Sin[bl2]*Cos[bl1]/z2 - Lb*coff*s^2*wb*z0*Sin[bl1]*Sin[bl2]/(z2*(1 - onb)) + Lb*coff*s^2*wb*Cos[bl1]*Cos[bl2]/(1 - onb) + I*coff*s*wb*z0*Sin[bl1]*Cos[bl2]/(1 - onb) + I*coff*s*wb*z2*Sin[bl2]*Cos[bl1]/(1 - onb) - z0*Sin[bl1]*Sin[bl2]/z2 + Cos[bl1]*Cos[bl2])/(1 - ona) - z0*Sin[bl1]*Sin[bl2]/z2 + Cos[bl1]*Cos[bl2])'"
      ]
     },
     "execution_count": 31,
     "metadata": {},
     "output_type": "execute_result"
    }
   ],
   "source": [
    "mcode(resultin.laplace.subs(subs_dict))"
   ]
  },
  {
   "cell_type": "code",
   "execution_count": 50,
   "id": "447173d9-120b-4d26-8221-ead68d7d409e",
   "metadata": {},
   "outputs": [],
   "source": [
    "# inpim = sp.sympify(resultin.laplace)"
   ]
  },
  {
   "cell_type": "code",
   "execution_count": 51,
   "id": "e22b69eb-f6b0-4926-904a-7b71d94f0efa",
   "metadata": {},
   "outputs": [],
   "source": [
    "# mcode(inpim.subs(subs_dict))"
   ]
  },
  {
   "cell_type": "code",
   "execution_count": 52,
   "id": "72d3f828-2c40-4dbc-a183-e0589e6b56e3",
   "metadata": {},
   "outputs": [],
   "source": [
    "# result.laplace"
   ]
  },
  {
   "cell_type": "code",
   "execution_count": null,
   "id": "ad69ccbe-bb0c-4c92-a952-13e47eafe7d2",
   "metadata": {},
   "outputs": [],
   "source": []
  },
  {
   "cell_type": "code",
   "execution_count": 33,
   "id": "cba3690d-b394-4305-8b70-e53e3b03fc83",
   "metadata": {},
   "outputs": [
    {
     "name": "stdout",
     "output_type": "stream",
     "text": [
      "Checking netlist: C:\\Users\\User\\OneDrive\\Documents\\GitHub\\SLiCAP_python\\files\\examples\\Chapter5\\SLiCAP/cir/halfswitch_LKY2.cir\n"
     ]
    }
   ],
   "source": [
    "i2 = instruction()\n",
    "i2.setCircuit('halfswitch_LKY2.cir')"
   ]
  },
  {
   "cell_type": "code",
   "execution_count": 34,
   "id": "228e94da-237b-46ae-aa44-0feba89fb0a8",
   "metadata": {},
   "outputs": [],
   "source": [
    "i2.setSimType('symbolic');\n",
    "i2.setSource('I2') \n",
    "i2.setDetector ('V_out2')\n",
    "i2.setGainType('gain')\n",
    "i2.setDataType('laplace')\n",
    "i2.setSimType('symbolic')\n",
    "resultout = i2.execute()"
   ]
  },
  {
   "cell_type": "code",
   "execution_count": 35,
   "id": "040cf28c-4648-43ee-9b9c-0c6abcc45bc1",
   "metadata": {},
   "outputs": [
    {
     "name": "stdout",
     "output_type": "stream",
     "text": [
      "(A*B2*L1*Lb*ca*cb*s**4 + A*B2*L1*ca*s**2 + A*B2*La*Lb*ca*cb*s**4 + A*B2*La*ca*s**2 + A*B2*Lb*cb*s**2 + A*B2 + A*D2*L1*La*Lb*ca*cb*s**5 + A*D2*L1*La*ca*s**3 + A*D2*L1*Lb*cb*s**3 + A*D2*L1*s + B*D2*L1*Lb*ca*cb*s**4 + B*D2*L1*ca*s**2 + B*D2*La*Lb*ca*cb*s**4 + B*D2*La*ca*s**2 + B*D2*Lb*cb*s**2 + B*D2 + R_S*ca*cb*ra*rb*s**2*(B2*C + C*D2*L1*s + D*D2) + R_S*ca*ra*s*(B2*C*Lb*cb*s**2 + B2*C + C*D2*L1*Lb*cb*s**3 + C*D2*L1*s + D*D2*Lb*cb*s**2 + D*D2) + R_S*cb*rb*s*(B2*C*L1*ca*s**2 + B2*C*La*ca*s**2 + B2*C + C*D2*L1*La*ca*s**3 + C*D2*L1*s + D*D2*L1*ca*s**2 + D*D2*La*ca*s**2 + D*D2) + R_S*(B2*C*L1*Lb*ca*cb*s**4 + B2*C*L1*ca*s**2 + B2*C*La*Lb*ca*cb*s**4 + B2*C*La*ca*s**2 + B2*C*Lb*cb*s**2 + B2*C + C*D2*L1*La*Lb*ca*cb*s**5 + C*D2*L1*La*ca*s**3 + C*D2*L1*Lb*cb*s**3 + C*D2*L1*s + D*D2*L1*Lb*ca*cb*s**4 + D*D2*L1*ca*s**2 + D*D2*La*Lb*ca*cb*s**4 + D*D2*La*ca*s**2 + D*D2*Lb*cb*s**2 + D*D2) + ca*cb*ra*rb*s**2*(A*B2 + A*D2*L1*s + B*D2) + ca*ra*s*(A*B2*Lb*cb*s**2 + A*B2 + A*D2*L1*Lb*cb*s**3 + A*D2*L1*s + B*D2*Lb*cb*s**2 + B*D2) + cb*rb*s*(A*B2*L1*ca*s**2 + A*B2*La*ca*s**2 + A*B2 + A*D2*L1*La*ca*s**3 + A*D2*L1*s + B*D2*L1*ca*s**2 + B*D2*La*ca*s**2 + B*D2))/(A*A2*L1*Lb*ca*cb*s**4 + A*A2*L1*ca*s**2 + A*A2*La*Lb*ca*cb*s**4 + A*A2*La*ca*s**2 + A*A2*Lb*cb*s**2 + A*A2 + A*B2*L1*ca*cb*s**3 + A*B2*La*ca*cb*s**3 + A*B2*cb*s + A*C2*L1*La*Lb*ca*cb*s**5 + A*C2*L1*La*ca*s**3 + A*C2*L1*Lb*cb*s**3 + A*C2*L1*s + A*D2*L1*La*ca*cb*s**4 + A*D2*L1*cb*s**2 + B*C2*L1*Lb*ca*cb*s**4 + B*C2*L1*ca*s**2 + B*C2*La*Lb*ca*cb*s**4 + B*C2*La*ca*s**2 + B*C2*Lb*cb*s**2 + B*C2 + B*D2*L1*ca*cb*s**3 + B*D2*La*ca*cb*s**3 + B*D2*cb*s + R_S*ca*cb*ra*rb*s**2*(A2*C + C*C2*L1*s + C2*D) + R_S*ca*ra*s*(A2*C*Lb*cb*s**2 + A2*C + B2*C*cb*s + C*C2*L1*Lb*cb*s**3 + C*C2*L1*s + C*D2*L1*cb*s**2 + C2*D*Lb*cb*s**2 + C2*D + D*D2*cb*s) + R_S*cb*rb*s*(A2*C*L1*ca*s**2 + A2*C*La*ca*s**2 + A2*C + C*C2*L1*La*ca*s**3 + C*C2*L1*s + C2*D*L1*ca*s**2 + C2*D*La*ca*s**2 + C2*D) + R_S*(A2*C*L1*Lb*ca*cb*s**4 + A2*C*L1*ca*s**2 + A2*C*La*Lb*ca*cb*s**4 + A2*C*La*ca*s**2 + A2*C*Lb*cb*s**2 + A2*C + B2*C*L1*ca*cb*s**3 + B2*C*La*ca*cb*s**3 + B2*C*cb*s + C*C2*L1*La*Lb*ca*cb*s**5 + C*C2*L1*La*ca*s**3 + C*C2*L1*Lb*cb*s**3 + C*C2*L1*s + C*D2*L1*La*ca*cb*s**4 + C*D2*L1*cb*s**2 + C2*D*L1*Lb*ca*cb*s**4 + C2*D*L1*ca*s**2 + C2*D*La*Lb*ca*cb*s**4 + C2*D*La*ca*s**2 + C2*D*Lb*cb*s**2 + C2*D + D*D2*L1*ca*cb*s**3 + D*D2*La*ca*cb*s**3 + D*D2*cb*s) + ca*cb*ra*rb*s**2*(A*A2 + A*C2*L1*s + B*C2) + ca*ra*s*(A*A2*Lb*cb*s**2 + A*A2 + A*B2*cb*s + A*C2*L1*Lb*cb*s**3 + A*C2*L1*s + A*D2*L1*cb*s**2 + B*C2*Lb*cb*s**2 + B*C2 + B*D2*cb*s) + cb*rb*s*(A*A2*L1*ca*s**2 + A*A2*La*ca*s**2 + A*A2 + A*C2*L1*La*ca*s**3 + A*C2*L1*s + B*C2*L1*ca*s**2 + B*C2*La*ca*s**2 + B*C2))\n"
     ]
    }
   ],
   "source": [
    "print(resultout.laplace)"
   ]
  },
  {
   "cell_type": "code",
   "execution_count": 36,
   "id": "03b6ef65-2b14-49ff-9e6c-ae19e16170e8",
   "metadata": {},
   "outputs": [
    {
     "data": {
      "text/plain": [
       "'(L1*Lb^2*coff^2*s^5*wa*wb*Cos[bl1]*Cos[bl2]/((1 - ona)*(1 - onb)) + I*L1*Lb*coff^2*s^4*wa*wb*z0*Sin[bl1]*Cos[bl2]/((1 - ona)*(1 - onb)) + I*L1*Lb*coff^2*s^4*wa*wb*z2*Sin[bl2]*Cos[bl1]/((1 - ona)*(1 - onb)) + L1*Lb*coff*s^3*wa*Cos[bl1]*Cos[bl2]/(1 - ona) + L1*Lb*coff*s^3*wb*Cos[bl1]*Cos[bl2]/(1 - onb) + I*L1*coff*s^2*wa*z0*Sin[bl1]*Cos[bl2]/(1 - ona) + I*L1*coff*s^2*wa*z2*Sin[bl2]*Cos[bl1]/(1 - ona) + L1*s*Cos[bl1]*Cos[bl2] + I*Lb^2*coff^2*s^4*wa*wb*z0*Sin[bl1]*Cos[bl2]/((1 - ona)*(1 - onb)) + I*Lb^2*coff^2*s^4*wa*wb*z2*Sin[bl2]*Cos[bl1]/((1 - ona)*(1 - onb)) + I*Lb*coff*s^2*wa*z0*Sin[bl1]*Cos[bl2]/(1 - ona) + I*Lb*coff*s^2*wa*z2*Sin[bl2]*Cos[bl1]/(1 - ona) + I*Lb*coff*s^2*wb*z0*Sin[bl1]*Cos[bl2]/(1 - onb) + I*Lb*coff*s^2*wb*z2*Sin[bl2]*Cos[bl1]/(1 - onb) + R_S*coff^2*s^2*(ona*rds + roff)*(onb*rds + roff)*(I*L1*s*Sin[bl1]*Cos[bl2]/z0 + Cos[bl1]*Cos[bl2] - z2*Sin[bl1]*Sin[bl2]/z0)/((1 - ona)*(1 - onb)) + R_S*coff*s*(onb*rds + roff)*(I*L1*Lb*coff*s^3*wa*Sin[bl1]*Cos[bl2]/(z0*(1 - ona)) + L1*coff*s^2*wa*Cos[bl1]*Cos[bl2]/(1 - ona) - L1*coff*s^2*wa*z2*Sin[bl1]*Sin[bl2]/(z0*(1 - ona)) + I*L1*s*Sin[bl1]*Cos[bl2]/z0 + Lb*coff*s^2*wa*Cos[bl1]*Cos[bl2]/(1 - ona) - Lb*coff*s^2*wa*z2*Sin[bl1]*Sin[bl2]/(z0*(1 - ona)) + Cos[bl1]*Cos[bl2] - z2*Sin[bl1]*Sin[bl2]/z0)/(1 - onb) + R_S*coff*s*(ona*rds + roff)*(I*L1*Lb*coff*s^3*wb*Sin[bl1]*Cos[bl2]/(z0*(1 - onb)) + I*L1*s*Sin[bl1]*Cos[bl2]/z0 + Lb*coff*s^2*wb*Cos[bl1]*Cos[bl2]/(1 - onb) - Lb*coff*s^2*wb*z2*Sin[bl1]*Sin[bl2]/(z0*(1 - onb)) + Cos[bl1]*Cos[bl2] - z2*Sin[bl1]*Sin[bl2]/z0)/(1 - ona) + R_S*(I*L1*Lb^2*coff^2*s^5*wa*wb*Sin[bl1]*Cos[bl2]/(z0*(1 - ona)*(1 - onb)) + L1*Lb*coff^2*s^4*wa*wb*Cos[bl1]*Cos[bl2]/((1 - ona)*(1 - onb)) - L1*Lb*coff^2*s^4*wa*wb*z2*Sin[bl1]*Sin[bl2]/(z0*(1 - ona)*(1 - onb)) + I*L1*Lb*coff*s^3*wa*Sin[bl1]*Cos[bl2]/(z0*(1 - ona)) + I*L1*Lb*coff*s^3*wb*Sin[bl1]*Cos[bl2]/(z0*(1 - onb)) + L1*coff*s^2*wa*Cos[bl1]*Cos[bl2]/(1 - ona) - L1*coff*s^2*wa*z2*Sin[bl1]*Sin[bl2]/(z0*(1 - ona)) + I*L1*s*Sin[bl1]*Cos[bl2]/z0 + Lb^2*coff^2*s^4*wa*wb*Cos[bl1]*Cos[bl2]/((1 - ona)*(1 - onb)) - Lb^2*coff^2*s^4*wa*wb*z2*Sin[bl1]*Sin[bl2]/(z0*(1 - ona)*(1 - onb)) + Lb*coff*s^2*wa*Cos[bl1]*Cos[bl2]/(1 - ona) - Lb*coff*s^2*wa*z2*Sin[bl1]*Sin[bl2]/(z0*(1 - ona)) + Lb*coff*s^2*wb*Cos[bl1]*Cos[bl2]/(1 - onb) - Lb*coff*s^2*wb*z2*Sin[bl1]*Sin[bl2]/(z0*(1 - onb)) + Cos[bl1]*Cos[bl2] - z2*Sin[bl1]*Sin[bl2]/z0) + coff^2*s^2*(ona*rds + roff)*(onb*rds + roff)*(L1*s*Cos[bl1]*Cos[bl2] + I*z0*Sin[bl1]*Cos[bl2] + I*z2*Sin[bl2]*Cos[bl1])/((1 - ona)*(1 - onb)) + coff*s*(onb*rds + roff)*(L1*Lb*coff*s^3*wa*Cos[bl1]*Cos[bl2]/(1 - ona) + I*L1*coff*s^2*wa*z0*Sin[bl1]*Cos[bl2]/(1 - ona) + I*L1*coff*s^2*wa*z2*Sin[bl2]*Cos[bl1]/(1 - ona) + L1*s*Cos[bl1]*Cos[bl2] + I*Lb*coff*s^2*wa*z0*Sin[bl1]*Cos[bl2]/(1 - ona) + I*Lb*coff*s^2*wa*z2*Sin[bl2]*Cos[bl1]/(1 - ona) + I*z0*Sin[bl1]*Cos[bl2] + I*z2*Sin[bl2]*Cos[bl1])/(1 - onb) + coff*s*(ona*rds + roff)*(L1*Lb*coff*s^3*wb*Cos[bl1]*Cos[bl2]/(1 - onb) + L1*s*Cos[bl1]*Cos[bl2] + I*Lb*coff*s^2*wb*z0*Sin[bl1]*Cos[bl2]/(1 - onb) + I*Lb*coff*s^2*wb*z2*Sin[bl2]*Cos[bl1]/(1 - onb) + I*z0*Sin[bl1]*Cos[bl2] + I*z2*Sin[bl2]*Cos[bl1])/(1 - ona) + I*z0*Sin[bl1]*Cos[bl2] + I*z2*Sin[bl2]*Cos[bl1])/(I*L1*Lb^2*coff^2*s^5*wa*wb*Sin[bl2]*Cos[bl1]/(z2*(1 - ona)*(1 - onb)) - L1*Lb*coff^2*s^4*wa*wb*z0*Sin[bl1]*Sin[bl2]/(z2*(1 - ona)*(1 - onb)) + 2*L1*Lb*coff^2*s^4*wa*wb*Cos[bl1]*Cos[bl2]/((1 - ona)*(1 - onb)) + I*L1*Lb*coff*s^3*wa*Sin[bl2]*Cos[bl1]/(z2*(1 - ona)) + I*L1*Lb*coff*s^3*wb*Sin[bl2]*Cos[bl1]/(z2*(1 - onb)) + I*L1*coff^2*s^3*wa*wb*z0*Sin[bl1]*Cos[bl2]/((1 - ona)*(1 - onb)) + I*L1*coff^2*s^3*wa*wb*z2*Sin[bl2]*Cos[bl1]/((1 - ona)*(1 - onb)) - L1*coff*s^2*wa*z0*Sin[bl1]*Sin[bl2]/(z2*(1 - ona)) + L1*coff*s^2*wa*Cos[bl1]*Cos[bl2]/(1 - ona) + L1*coff*s^2*wb*Cos[bl1]*Cos[bl2]/(1 - onb) + I*L1*s*Sin[bl2]*Cos[bl1]/z2 - Lb^2*coff^2*s^4*wa*wb*z0*Sin[bl1]*Sin[bl2]/(z2*(1 - ona)*(1 - onb)) + Lb^2*coff^2*s^4*wa*wb*Cos[bl1]*Cos[bl2]/((1 - ona)*(1 - onb)) + I*Lb*coff^2*s^3*wa*wb*z0*Sin[bl1]*Cos[bl2]/((1 - ona)*(1 - onb)) + I*Lb*coff^2*s^3*wa*wb*z2*Sin[bl2]*Cos[bl1]/((1 - ona)*(1 - onb)) - Lb*coff*s^2*wa*z0*Sin[bl1]*Sin[bl2]/(z2*(1 - ona)) + Lb*coff*s^2*wa*Cos[bl1]*Cos[bl2]/(1 - ona) - Lb*coff*s^2*wb*z0*Sin[bl1]*Sin[bl2]/(z2*(1 - onb)) + Lb*coff*s^2*wb*Cos[bl1]*Cos[bl2]/(1 - onb) + R_S*coff^2*s^2*(ona*rds + roff)*(onb*rds + roff)*(-L1*s*Sin[bl1]*Sin[bl2]/(z0*z2) + I*Sin[bl2]*Cos[bl1]/z2 + I*Sin[bl1]*Cos[bl2]/z0)/((1 - ona)*(1 - onb)) + R_S*coff*s*(onb*rds + roff)*(-L1*Lb*coff*s^3*wa*Sin[bl1]*Sin[bl2]/(z0*z2*(1 - ona)) + I*L1*coff*s^2*wa*Sin[bl2]*Cos[bl1]/(z2*(1 - ona)) + I*L1*coff*s^2*wa*Sin[bl1]*Cos[bl2]/(z0*(1 - ona)) - L1*s*Sin[bl1]*Sin[bl2]/(z0*z2) + I*Lb*coff*s^2*wa*Sin[bl2]*Cos[bl1]/(z2*(1 - ona)) + I*Lb*coff*s^2*wa*Sin[bl1]*Cos[bl2]/(z0*(1 - ona)) + I*Sin[bl2]*Cos[bl1]/z2 + I*Sin[bl1]*Cos[bl2]/z0)/(1 - onb) + R_S*coff*s*(ona*rds + roff)*(-L1*Lb*coff*s^3*wb*Sin[bl1]*Sin[bl2]/(z0*z2*(1 - onb)) + I*L1*coff*s^2*wb*Sin[bl1]*Cos[bl2]/(z0*(1 - onb)) - L1*s*Sin[bl1]*Sin[bl2]/(z0*z2) + I*Lb*coff*s^2*wb*Sin[bl2]*Cos[bl1]/(z2*(1 - onb)) + I*Lb*coff*s^2*wb*Sin[bl1]*Cos[bl2]/(z0*(1 - onb)) + coff*s*wb*Cos[bl1]*Cos[bl2]/(1 - onb) - coff*s*wb*z2*Sin[bl1]*Sin[bl2]/(z0*(1 - onb)) + I*Sin[bl2]*Cos[bl1]/z2 + I*Sin[bl1]*Cos[bl2]/z0)/(1 - ona) + R_S*(-L1*Lb^2*coff^2*s^5*wa*wb*Sin[bl1]*Sin[bl2]/(z0*z2*(1 - ona)*(1 - onb)) + I*L1*Lb*coff^2*s^4*wa*wb*Sin[bl2]*Cos[bl1]/(z2*(1 - ona)*(1 - onb)) + 2*I*L1*Lb*coff^2*s^4*wa*wb*Sin[bl1]*Cos[bl2]/(z0*(1 - ona)*(1 - onb)) - L1*Lb*coff*s^3*wa*Sin[bl1]*Sin[bl2]/(z0*z2*(1 - ona)) - L1*Lb*coff*s^3*wb*Sin[bl1]*Sin[bl2]/(z0*z2*(1 - onb)) + L1*coff^2*s^3*wa*wb*Cos[bl1]*Cos[bl2]/((1 - ona)*(1 - onb)) - L1*coff^2*s^3*wa*wb*z2*Sin[bl1]*Sin[bl2]/(z0*(1 - ona)*(1 - onb)) + I*L1*coff*s^2*wa*Sin[bl2]*Cos[bl1]/(z2*(1 - ona)) + I*L1*coff*s^2*wa*Sin[bl1]*Cos[bl2]/(z0*(1 - ona)) + I*L1*coff*s^2*wb*Sin[bl1]*Cos[bl2]/(z0*(1 - onb)) - L1*s*Sin[bl1]*Sin[bl2]/(z0*z2) + I*Lb^2*coff^2*s^4*wa*wb*Sin[bl2]*Cos[bl1]/(z2*(1 - ona)*(1 - onb)) + I*Lb^2*coff^2*s^4*wa*wb*Sin[bl1]*Cos[bl2]/(z0*(1 - ona)*(1 - onb)) + Lb*coff^2*s^3*wa*wb*Cos[bl1]*Cos[bl2]/((1 - ona)*(1 - onb)) - Lb*coff^2*s^3*wa*wb*z2*Sin[bl1]*Sin[bl2]/(z0*(1 - ona)*(1 - onb)) + I*Lb*coff*s^2*wa*Sin[bl2]*Cos[bl1]/(z2*(1 - ona)) + I*Lb*coff*s^2*wa*Sin[bl1]*Cos[bl2]/(z0*(1 - ona)) + I*Lb*coff*s^2*wb*Sin[bl2]*Cos[bl1]/(z2*(1 - onb)) + I*Lb*coff*s^2*wb*Sin[bl1]*Cos[bl2]/(z0*(1 - onb)) + coff*s*wb*Cos[bl1]*Cos[bl2]/(1 - onb) - coff*s*wb*z2*Sin[bl1]*Sin[bl2]/(z0*(1 - onb)) + I*Sin[bl2]*Cos[bl1]/z2 + I*Sin[bl1]*Cos[bl2]/z0) + coff^2*s^2*(ona*rds + roff)*(onb*rds + roff)*(I*L1*s*Sin[bl2]*Cos[bl1]/z2 - z0*Sin[bl1]*Sin[bl2]/z2 + Cos[bl1]*Cos[bl2])/((1 - ona)*(1 - onb)) + I*coff*s*wb*z0*Sin[bl1]*Cos[bl2]/(1 - onb) + I*coff*s*wb*z2*Sin[bl2]*Cos[bl1]/(1 - onb) + coff*s*(onb*rds + roff)*(I*L1*Lb*coff*s^3*wa*Sin[bl2]*Cos[bl1]/(z2*(1 - ona)) - L1*coff*s^2*wa*z0*Sin[bl1]*Sin[bl2]/(z2*(1 - ona)) + L1*coff*s^2*wa*Cos[bl1]*Cos[bl2]/(1 - ona) + I*L1*s*Sin[bl2]*Cos[bl1]/z2 - Lb*coff*s^2*wa*z0*Sin[bl1]*Sin[bl2]/(z2*(1 - ona)) + Lb*coff*s^2*wa*Cos[bl1]*Cos[bl2]/(1 - ona) - z0*Sin[bl1]*Sin[bl2]/z2 + Cos[bl1]*Cos[bl2])/(1 - onb) + coff*s*(ona*rds + roff)*(I*L1*Lb*coff*s^3*wb*Sin[bl2]*Cos[bl1]/(z2*(1 - onb)) + L1*coff*s^2*wb*Cos[bl1]*Cos[bl2]/(1 - onb) + I*L1*s*Sin[bl2]*Cos[bl1]/z2 - Lb*coff*s^2*wb*z0*Sin[bl1]*Sin[bl2]/(z2*(1 - onb)) + Lb*coff*s^2*wb*Cos[bl1]*Cos[bl2]/(1 - onb) + I*coff*s*wb*z0*Sin[bl1]*Cos[bl2]/(1 - onb) + I*coff*s*wb*z2*Sin[bl2]*Cos[bl1]/(1 - onb) - z0*Sin[bl1]*Sin[bl2]/z2 + Cos[bl1]*Cos[bl2])/(1 - ona) - z0*Sin[bl1]*Sin[bl2]/z2 + Cos[bl1]*Cos[bl2])'"
      ]
     },
     "execution_count": 36,
     "metadata": {},
     "output_type": "execute_result"
    }
   ],
   "source": [
    "mcode(resultout.laplace.subs(subs_dict))"
   ]
  },
  {
   "cell_type": "code",
   "execution_count": 89,
   "id": "d07b08a3-bdf6-4230-b511-956f3cca23f4",
   "metadata": {},
   "outputs": [],
   "source": [
    "#simplify(rationalexpr.subs(subs_dict))"
   ]
  },
  {
   "cell_type": "code",
   "execution_count": 35,
   "id": "22816894-5beb-4ed3-b1f2-eb13ed49a5f5",
   "metadata": {},
   "outputs": [],
   "source": [
    "(gain,coeffs_numer,coeffs_denom) = coeffsTransfer(rationalexpr)"
   ]
  },
  {
   "cell_type": "code",
   "execution_count": 36,
   "id": "e38b1a34-4527-4176-ae36-088d29c22f7a",
   "metadata": {},
   "outputs": [
    {
     "name": "stdout",
     "output_type": "stream",
     "text": [
      "L1*R_S*ca/(C2*(B + D*R_S))\n"
     ]
    }
   ],
   "source": [
    "print(gain)"
   ]
  },
  {
   "cell_type": "code",
   "execution_count": 42,
   "id": "ff4f25b4-0008-4f6e-8a45-1d68fe7511fd",
   "metadata": {},
   "outputs": [],
   "source": [
    "#HTML(eqn2html('V_out/V_1', gain.laplace, label = 'gainLaplace', labelText = 'Laplace transfer function'))\n",
    "#https://docs.sympy.org/latest/modules/parsing.html\n",
    "#https://mathematica.stackexchange.com/questions/255875/read-sympy-expression-in-txt-file-as-mathematica-input\n",
    "#https://docs.sympy.org/latest/modules/printing.html#module-sympy.printing.mathematica\n",
    "#https://mathematica.stackexchange.com/questions/250183/how-to-export-expression-in-mathematica-to-python\n",
    "from sympy import mathematica_code as mcode, symbols, sin"
   ]
  },
  {
   "cell_type": "code",
   "execution_count": null,
   "id": "9aee0202-67ff-48cc-9c3f-0fda568eb593",
   "metadata": {},
   "outputs": [],
   "source": [
    "#https://www.tutorialspoint.com/sympy/sympy_substitution.htm\n",
    "from sympy.abc import x,a "
   ]
  },
  {
   "cell_type": "code",
   "execution_count": 46,
   "id": "18bb77ca-8ead-4cbd-9770-f447400704c9",
   "metadata": {},
   "outputs": [
    {
     "data": {
      "text/plain": [
       "'L1*R_S*ca*s^2*(Lb*cb*s^2 + cb*rb*s + 1)/(A*A2*L1*Lb*ca*cb*s^4 + A*A2*L1*ca*s^2 + A*B2*L1*ca*cb*s^3 + A*C2*L1*La*Lb*ca*cb*s^5 + A*C2*L1*La*ca*s^3 + A*C2*L1*Lb*cb*s^3 + A*C2*L1*s + A*D2*L1*La*ca*cb*s^4 + A*D2*L1*cb*s^2 + A2*B*Lb*ca*cb*s^3 + A2*B*ca*s + B*B2*ca*cb*s^2 + B*C2*L1*Lb*ca*cb*s^4 + B*C2*L1*ca*s^2 + B*C2*La*Lb*ca*cb*s^4 + B*C2*La*ca*s^2 + B*C2*Lb*cb*s^2 + B*C2 + B*D2*L1*ca*cb*s^3 + B*D2*La*ca*cb*s^3 + B*D2*cb*s + C2*R_S*ca*cb*ra*rb*s^2*(C*L1*s + D) + C2*ca*cb*ra*rb*s^2*(A*L1*s + B) + R_S*ca*ra*s*(C*C2*L1*Lb*cb*s^3 + C*C2*L1*s + C*D2*L1*cb*s^2 + C2*D*Lb*cb*s^2 + C2*D + D*D2*cb*s) + R_S*cb*rb*s*(A2*C*L1*ca*s^2 + A2*D*ca*s + C*C2*L1*La*ca*s^3 + C*C2*L1*s + C2*D*L1*ca*s^2 + C2*D*La*ca*s^2 + C2*D) + R_S*(A2*C*L1*Lb*ca*cb*s^4 + A2*C*L1*ca*s^2 + A2*D*Lb*ca*cb*s^3 + A2*D*ca*s + B2*C*L1*ca*cb*s^3 + B2*D*ca*cb*s^2 + C*C2*L1*La*Lb*ca*cb*s^5 + C*C2*L1*La*ca*s^3 + C*C2*L1*Lb*cb*s^3 + C*C2*L1*s + C*D2*L1*La*ca*cb*s^4 + C*D2*L1*cb*s^2 + C2*D*L1*Lb*ca*cb*s^4 + C2*D*L1*ca*s^2 + C2*D*La*Lb*ca*cb*s^4 + C2*D*La*ca*s^2 + C2*D*Lb*cb*s^2 + C2*D + D*D2*L1*ca*cb*s^3 + D*D2*La*ca*cb*s^3 + D*D2*cb*s) + ca*ra*s*(A*C2*L1*Lb*cb*s^3 + A*C2*L1*s + A*D2*L1*cb*s^2 + B*C2*Lb*cb*s^2 + B*C2 + B*D2*cb*s) + cb*rb*s*(A*A2*L1*ca*s^2 + A*C2*L1*La*ca*s^3 + A*C2*L1*s + A2*B*ca*s + B*C2*L1*ca*s^2 + B*C2*La*ca*s^2 + B*C2))'"
      ]
     },
     "execution_count": 46,
     "metadata": {},
     "output_type": "execute_result"
    }
   ],
   "source": [
    "mcode(rationalexpr)"
   ]
  },
  {
   "cell_type": "code",
   "execution_count": 68,
   "id": "dacfa06e-e352-444d-9fa7-41a11d3a9bf0",
   "metadata": {},
   "outputs": [
    {
     "data": {
      "text/plain": [
       "'L1*R_S*ca*s^2*(Lb*cb*s^2 + cb*rb*s + 1)/(A*A2*L1*Lb*ca*cb*s^4 + A*A2*L1*ca*s^2 + A*B2*L1*ca*cb*s^3 + A*C2*L1*La*Lb*ca*cb*s^5 + A*C2*L1*La*ca*s^3 + A*C2*L1*Lb*cb*s^3 + A*C2*L1*s + A*D2*L1*La*ca*cb*s^4 + A*D2*L1*cb*s^2 + A2*B*Lb*ca*cb*s^3 + A2*B*ca*s + B*B2*ca*cb*s^2 + B*C2*L1*Lb*ca*cb*s^4 + B*C2*L1*ca*s^2 + B*C2*La*Lb*ca*cb*s^4 + B*C2*La*ca*s^2 + B*C2*Lb*cb*s^2 + B*C2 + B*D2*L1*ca*cb*s^3 + B*D2*La*ca*cb*s^3 + B*D2*cb*s + C2*R_S*ca*cb*ra*rb*s^2*(C*L1*s + D) + C2*ca*cb*ra*rb*s^2*(A*L1*s + B) + R_S*ca*ra*s*(C*C2*L1*Lb*cb*s^3 + C*C2*L1*s + C*D2*L1*cb*s^2 + C2*D*Lb*cb*s^2 + C2*D + D*D2*cb*s) + R_S*cb*rb*s*(A2*C*L1*ca*s^2 + A2*D*ca*s + C*C2*L1*La*ca*s^3 + C*C2*L1*s + C2*D*L1*ca*s^2 + C2*D*La*ca*s^2 + C2*D) + R_S*(A2*C*L1*Lb*ca*cb*s^4 + A2*C*L1*ca*s^2 + A2*D*Lb*ca*cb*s^3 + A2*D*ca*s + B2*C*L1*ca*cb*s^3 + B2*D*ca*cb*s^2 + C*C2*L1*La*Lb*ca*cb*s^5 + C*C2*L1*La*ca*s^3 + C*C2*L1*Lb*cb*s^3 + C*C2*L1*s + C*D2*L1*La*ca*cb*s^4 + C*D2*L1*cb*s^2 + C2*D*L1*Lb*ca*cb*s^4 + C2*D*L1*ca*s^2 + C2*D*La*Lb*ca*cb*s^4 + C2*D*La*ca*s^2 + C2*D*Lb*cb*s^2 + C2*D + D*D2*L1*ca*cb*s^3 + D*D2*La*ca*cb*s^3 + D*D2*cb*s) + ca*ra*s*(A*C2*L1*Lb*cb*s^3 + A*C2*L1*s + A*D2*L1*cb*s^2 + B*C2*Lb*cb*s^2 + B*C2 + B*D2*cb*s) + cb*rb*s*(A*A2*L1*ca*s^2 + A*C2*L1*La*ca*s^3 + A*C2*L1*s + A2*B*ca*s + B*C2*L1*ca*s^2 + B*C2*La*ca*s^2 + B*C2))'"
      ]
     },
     "execution_count": 68,
     "metadata": {},
     "output_type": "execute_result"
    }
   ],
   "source": [
    "mcode(gain.laplace)"
   ]
  },
  {
   "cell_type": "code",
   "execution_count": 37,
   "id": "77fd1cf6-35c8-43a6-a767-b4f3851eb665",
   "metadata": {},
   "outputs": [
    {
     "name": "stdout",
     "output_type": "stream",
     "text": [
      "[0, 0, 1, cb*rb, Lb*cb]\n"
     ]
    }
   ],
   "source": [
    "print(coeffs_numer)"
   ]
  },
  {
   "cell_type": "code",
   "execution_count": 39,
   "id": "d44587a7-063a-4c06-aa84-9bd563224680",
   "metadata": {},
   "outputs": [
    {
     "name": "stdout",
     "output_type": "stream",
     "text": [
      "[1, (A*C2*L1 + A2*B*ca + A2*D*R_S*ca + B*C2*ca*ra + B*C2*cb*rb + B*D2*cb + C*C2*L1*R_S + C2*D*R_S*ca*ra + C2*D*R_S*cb*rb + D*D2*R_S*cb)/(C2*(B + D*R_S)), (A*A2*L1*ca + A*C2*L1*ca*ra + A*C2*L1*cb*rb + A*D2*L1*cb + A2*B*ca*cb*rb + A2*C*L1*R_S*ca + A2*D*R_S*ca*cb*rb + B*B2*ca*cb + B*C2*L1*ca + B*C2*La*ca + B*C2*Lb*cb + B*C2*ca*cb*ra*rb + B*D2*ca*cb*ra + B2*D*R_S*ca*cb + C*C2*L1*R_S*ca*ra + C*C2*L1*R_S*cb*rb + C*D2*L1*R_S*cb + C2*D*L1*R_S*ca + C2*D*La*R_S*ca + C2*D*Lb*R_S*cb + C2*D*R_S*ca*cb*ra*rb + D*D2*R_S*ca*cb*ra)/(C2*(B + D*R_S)), (A*A2*L1*ca*cb*rb + A*B2*L1*ca*cb + A*C2*L1*La*ca + A*C2*L1*Lb*cb + A*C2*L1*ca*cb*ra*rb + A*D2*L1*ca*cb*ra + A2*B*Lb*ca*cb + A2*C*L1*R_S*ca*cb*rb + A2*D*Lb*R_S*ca*cb + B*C2*L1*ca*cb*rb + B*C2*La*ca*cb*rb + B*C2*Lb*ca*cb*ra + B*D2*L1*ca*cb + B*D2*La*ca*cb + B2*C*L1*R_S*ca*cb + C*C2*L1*La*R_S*ca + C*C2*L1*Lb*R_S*cb + C*C2*L1*R_S*ca*cb*ra*rb + C*D2*L1*R_S*ca*cb*ra + C2*D*L1*R_S*ca*cb*rb + C2*D*La*R_S*ca*cb*rb + C2*D*Lb*R_S*ca*cb*ra + D*D2*L1*R_S*ca*cb + D*D2*La*R_S*ca*cb)/(C2*(B + D*R_S)), ca*cb*(A*A2*L1*Lb + A*C2*L1*La*rb + A*C2*L1*Lb*ra + A*D2*L1*La + A2*C*L1*Lb*R_S + B*C2*L1*Lb + B*C2*La*Lb + C*C2*L1*La*R_S*rb + C*C2*L1*Lb*R_S*ra + C*D2*L1*La*R_S + C2*D*L1*Lb*R_S + C2*D*La*Lb*R_S)/(C2*(B + D*R_S)), L1*La*Lb*ca*cb*(A + C*R_S)/(B + D*R_S)]\n"
     ]
    }
   ],
   "source": [
    "print(coeffs_denom)"
   ]
  },
  {
   "cell_type": "code",
   "execution_count": 40,
   "id": "7a0cde04-2ecd-4d33-9a67-cda707293579",
   "metadata": {},
   "outputs": [
    {
     "data": {
      "text/latex": [
       "$\\displaystyle \\frac{L_{1} R_{S} ca s^{2} \\left(Lb cb s^{2} + cb rb s + 1\\right)}{A A_{2} L_{1} Lb ca cb s^{4} + A A_{2} L_{1} ca s^{2} + A B_{2} L_{1} ca cb s^{3} + A C_{2} L_{1} La Lb ca cb s^{5} + A C_{2} L_{1} La ca s^{3} + A C_{2} L_{1} Lb cb s^{3} + A C_{2} L_{1} s + A D_{2} L_{1} La ca cb s^{4} + A D_{2} L_{1} cb s^{2} + A_{2} B Lb ca cb s^{3} + A_{2} B ca s + B B_{2} ca cb s^{2} + B C_{2} L_{1} Lb ca cb s^{4} + B C_{2} L_{1} ca s^{2} + B C_{2} La Lb ca cb s^{4} + B C_{2} La ca s^{2} + B C_{2} Lb cb s^{2} + B C_{2} + B D_{2} L_{1} ca cb s^{3} + B D_{2} La ca cb s^{3} + B D_{2} cb s + C_{2} R_{S} ca cb ra rb s^{2} \\left(C L_{1} s + D\\right) + C_{2} ca cb ra rb s^{2} \\left(A L_{1} s + B\\right) + R_{S} ca ra s \\left(C C_{2} L_{1} Lb cb s^{3} + C C_{2} L_{1} s + C D_{2} L_{1} cb s^{2} + C_{2} D Lb cb s^{2} + C_{2} D + D D_{2} cb s\\right) + R_{S} cb rb s \\left(A_{2} C L_{1} ca s^{2} + A_{2} D ca s + C C_{2} L_{1} La ca s^{3} + C C_{2} L_{1} s + C_{2} D L_{1} ca s^{2} + C_{2} D La ca s^{2} + C_{2} D\\right) + R_{S} \\left(A_{2} C L_{1} Lb ca cb s^{4} + A_{2} C L_{1} ca s^{2} + A_{2} D Lb ca cb s^{3} + A_{2} D ca s + B_{2} C L_{1} ca cb s^{3} + B_{2} D ca cb s^{2} + C C_{2} L_{1} La Lb ca cb s^{5} + C C_{2} L_{1} La ca s^{3} + C C_{2} L_{1} Lb cb s^{3} + C C_{2} L_{1} s + C D_{2} L_{1} La ca cb s^{4} + C D_{2} L_{1} cb s^{2} + C_{2} D L_{1} Lb ca cb s^{4} + C_{2} D L_{1} ca s^{2} + C_{2} D La Lb ca cb s^{4} + C_{2} D La ca s^{2} + C_{2} D Lb cb s^{2} + C_{2} D + D D_{2} L_{1} ca cb s^{3} + D D_{2} La ca cb s^{3} + D D_{2} cb s\\right) + ca ra s \\left(A C_{2} L_{1} Lb cb s^{3} + A C_{2} L_{1} s + A D_{2} L_{1} cb s^{2} + B C_{2} Lb cb s^{2} + B C_{2} + B D_{2} cb s\\right) + cb rb s \\left(A A_{2} L_{1} ca s^{2} + A C_{2} L_{1} La ca s^{3} + A C_{2} L_{1} s + A_{2} B ca s + B C_{2} L_{1} ca s^{2} + B C_{2} La ca s^{2} + B C_{2}\\right)}$"
      ],
      "text/plain": [
       "L1*R_S*ca*s**2*(Lb*cb*s**2 + cb*rb*s + 1)/(A*A2*L1*Lb*ca*cb*s**4 + A*A2*L1*ca*s**2 + A*B2*L1*ca*cb*s**3 + A*C2*L1*La*Lb*ca*cb*s**5 + A*C2*L1*La*ca*s**3 + A*C2*L1*Lb*cb*s**3 + A*C2*L1*s + A*D2*L1*La*ca*cb*s**4 + A*D2*L1*cb*s**2 + A2*B*Lb*ca*cb*s**3 + A2*B*ca*s + B*B2*ca*cb*s**2 + B*C2*L1*Lb*ca*cb*s**4 + B*C2*L1*ca*s**2 + B*C2*La*Lb*ca*cb*s**4 + B*C2*La*ca*s**2 + B*C2*Lb*cb*s**2 + B*C2 + B*D2*L1*ca*cb*s**3 + B*D2*La*ca*cb*s**3 + B*D2*cb*s + C2*R_S*ca*cb*ra*rb*s**2*(C*L1*s + D) + C2*ca*cb*ra*rb*s**2*(A*L1*s + B) + R_S*ca*ra*s*(C*C2*L1*Lb*cb*s**3 + C*C2*L1*s + C*D2*L1*cb*s**2 + C2*D*Lb*cb*s**2 + C2*D + D*D2*cb*s) + R_S*cb*rb*s*(A2*C*L1*ca*s**2 + A2*D*ca*s + C*C2*L1*La*ca*s**3 + C*C2*L1*s + C2*D*L1*ca*s**2 + C2*D*La*ca*s**2 + C2*D) + R_S*(A2*C*L1*Lb*ca*cb*s**4 + A2*C*L1*ca*s**2 + A2*D*Lb*ca*cb*s**3 + A2*D*ca*s + B2*C*L1*ca*cb*s**3 + B2*D*ca*cb*s**2 + C*C2*L1*La*Lb*ca*cb*s**5 + C*C2*L1*La*ca*s**3 + C*C2*L1*Lb*cb*s**3 + C*C2*L1*s + C*D2*L1*La*ca*cb*s**4 + C*D2*L1*cb*s**2 + C2*D*L1*Lb*ca*cb*s**4 + C2*D*L1*ca*s**2 + C2*D*La*Lb*ca*cb*s**4 + C2*D*La*ca*s**2 + C2*D*Lb*cb*s**2 + C2*D + D*D2*L1*ca*cb*s**3 + D*D2*La*ca*cb*s**3 + D*D2*cb*s) + ca*ra*s*(A*C2*L1*Lb*cb*s**3 + A*C2*L1*s + A*D2*L1*cb*s**2 + B*C2*Lb*cb*s**2 + B*C2 + B*D2*cb*s) + cb*rb*s*(A*A2*L1*ca*s**2 + A*C2*L1*La*ca*s**3 + A*C2*L1*s + A2*B*ca*s + B*C2*L1*ca*s**2 + B*C2*La*ca*s**2 + B*C2))"
      ]
     },
     "execution_count": 40,
     "metadata": {},
     "output_type": "execute_result"
    }
   ],
   "source": [
    "sp.simplify(rationalexpr)"
   ]
  },
  {
   "cell_type": "code",
   "execution_count": null,
   "id": "0cf03e5b-72cf-455f-8e0f-169d8f888dc4",
   "metadata": {},
   "outputs": [],
   "source": []
  },
  {
   "cell_type": "code",
   "execution_count": null,
   "id": "5754b1ac-88c0-4877-a61f-3cc8ddc86172",
   "metadata": {},
   "outputs": [],
   "source": []
  },
  {
   "cell_type": "code",
   "execution_count": null,
   "id": "25779207-2969-4c8c-bd95-7d6d0aa67950",
   "metadata": {},
   "outputs": [],
   "source": []
  },
  {
   "cell_type": "code",
   "execution_count": 22,
   "id": "acead8ba-6b32-4b2f-adbc-9453ca01a063",
   "metadata": {
    "scrolled": true
   },
   "outputs": [
    {
     "name": "stdout",
     "output_type": "stream",
     "text": [
      "Checking netlist: C:\\Users\\User\\OneDrive\\Documents\\GitHub\\SLiCAP_python\\files\\examples\\Chapter5\\SLiCAP/cir/halfswitch_LKY.cir\n"
     ]
    }
   ],
   "source": [
    "i2 = instruction()\n",
    "i2.setCircuit('halfswitch_LKY2.cir')"
   ]
  },
  {
   "cell_type": "code",
   "execution_count": 31,
   "id": "650d781f-e75e-4050-89d1-918b883d59f0",
   "metadata": {},
   "outputs": [],
   "source": [
    "i2.setSimType('symbolic');\n",
    "i2.setSource('I1') \n",
    "i2.setDetector ('V_out2')\n",
    "i2.setGainType('gain')\n",
    "i2.setDataType('poles')\n",
    "i2.setSimType('symbolic')\n",
    "result = i2.execute()"
   ]
  },
  {
   "cell_type": "code",
   "execution_count": 32,
   "id": "ccb08e05-f25b-4b77-a893-414f81bd2789",
   "metadata": {},
   "outputs": [
    {
     "name": "stdout",
     "output_type": "stream",
     "text": [
      "[B*C2 + C2*D*R_S + s**5*(A*C2*L1*La*Lb*ca*cb + C*C2*L1*La*Lb*R_S*ca*cb) + s**4*(A*(A2*L1*Lb*ca*cb + C2*L1*(La*ca*cb*rb + Lb*ca*cb*ra) + D2*L1*La*ca*cb) + A2*C*L1*Lb*R_S*ca*cb + B*C2*(L1*Lb*ca*cb + La*Lb*ca*cb) + C*(C2*L1*(La*R_S*ca*cb*rb + Lb*R_S*ca*cb*ra) + D2*L1*La*R_S*ca*cb) + C2*D*(L1*Lb*R_S*ca*cb + La*Lb*R_S*ca*cb)) + s**3*(A*(A2*L1*ca*cb*rb + B2*L1*ca*cb + C2*L1*(La*ca + Lb*cb + ca*cb*ra*rb) + D2*L1*ca*cb*ra) + A2*(B*Lb*ca*cb + C*L1*R_S*ca*cb*rb + D*Lb*R_S*ca*cb) + B*(C2*(L1*ca*cb*rb + La*ca*cb*rb + Lb*ca*cb*ra) + D2*(L1*ca*cb + La*ca*cb)) + B2*C*L1*R_S*ca*cb + C*(C2*L1*(La*R_S*ca + Lb*R_S*cb + R_S*ca*cb*ra*rb) + D2*L1*R_S*ca*cb*ra) + C2*D*(L1*R_S*ca*cb*rb + La*R_S*ca*cb*rb + Lb*R_S*ca*cb*ra) + D*D2*(L1*R_S*ca*cb + La*R_S*ca*cb)) + s**2*(A*(A2*L1*ca + C2*L1*(ca*ra + cb*rb) + D2*L1*cb) + A2*(B*ca*cb*rb + C*L1*R_S*ca + D*R_S*ca*cb*rb) + B*(B2*ca*cb + C2*(L1*ca + La*ca + Lb*cb + ca*cb*ra*rb) + D2*ca*cb*ra) + B2*D*R_S*ca*cb + C*(C2*L1*R_S*(ca*ra + cb*rb) + D2*L1*R_S*cb) + C2*D*(L1*R_S*ca + La*R_S*ca + Lb*R_S*cb + R_S*ca*cb*ra*rb) + D*D2*R_S*ca*cb*ra) + s*(A*C2*L1 + A2*(B*ca + D*R_S*ca) + B*(C2*(ca*ra + cb*rb) + D2*cb) + C*C2*L1*R_S + C2*D*R_S*(ca*ra + cb*rb) + D*D2*R_S*cb)]\n"
     ]
    }
   ],
   "source": [
    "print(result.poles)"
   ]
  },
  {
   "cell_type": "code",
   "execution_count": 47,
   "id": "06c00a28-5ce3-451e-9b7c-91189045942a",
   "metadata": {},
   "outputs": [
    {
     "data": {
      "text/plain": [
       "'{B*C2 + C2*D*R_S + s^5*(A*C2*L1*La*Lb*ca*cb + C*C2*L1*La*Lb*R_S*ca*cb) + s^4*(A*(A2*L1*Lb*ca*cb + C2*L1*(La*ca*cb*rb + Lb*ca*cb*ra) + D2*L1*La*ca*cb) + A2*C*L1*Lb*R_S*ca*cb + B*C2*(L1*Lb*ca*cb + La*Lb*ca*cb) + C*(C2*L1*(La*R_S*ca*cb*rb + Lb*R_S*ca*cb*ra) + D2*L1*La*R_S*ca*cb) + C2*D*(L1*Lb*R_S*ca*cb + La*Lb*R_S*ca*cb)) + s^3*(A*(A2*L1*ca*cb*rb + B2*L1*ca*cb + C2*L1*(La*ca + Lb*cb + ca*cb*ra*rb) + D2*L1*ca*cb*ra) + A2*(B*Lb*ca*cb + C*L1*R_S*ca*cb*rb + D*Lb*R_S*ca*cb) + B*(C2*(L1*ca*cb*rb + La*ca*cb*rb + Lb*ca*cb*ra) + D2*(L1*ca*cb + La*ca*cb)) + B2*C*L1*R_S*ca*cb + C*(C2*L1*(La*R_S*ca + Lb*R_S*cb + R_S*ca*cb*ra*rb) + D2*L1*R_S*ca*cb*ra) + C2*D*(L1*R_S*ca*cb*rb + La*R_S*ca*cb*rb + Lb*R_S*ca*cb*ra) + D*D2*(L1*R_S*ca*cb + La*R_S*ca*cb)) + s^2*(A*(A2*L1*ca + C2*L1*(ca*ra + cb*rb) + D2*L1*cb) + A2*(B*ca*cb*rb + C*L1*R_S*ca + D*R_S*ca*cb*rb) + B*(B2*ca*cb + C2*(L1*ca + La*ca + Lb*cb + ca*cb*ra*rb) + D2*ca*cb*ra) + B2*D*R_S*ca*cb + C*(C2*L1*R_S*(ca*ra + cb*rb) + D2*L1*R_S*cb) + C2*D*(L1*R_S*ca + La*R_S*ca + Lb*R_S*cb + R_S*ca*cb*ra*rb) + D*D2*R_S*ca*cb*ra) + s*(A*C2*L1 + A2*(B*ca + D*R_S*ca) + B*(C2*(ca*ra + cb*rb) + D2*cb) + C*C2*L1*R_S + C2*D*R_S*(ca*ra + cb*rb) + D*D2*R_S*cb)}'"
      ]
     },
     "execution_count": 47,
     "metadata": {},
     "output_type": "execute_result"
    }
   ],
   "source": [
    "mcode(result.poles)"
   ]
  },
  {
   "cell_type": "code",
   "execution_count": null,
   "id": "623c27c3-5742-48e0-8d7b-aa2721b2c5ca",
   "metadata": {},
   "outputs": [],
   "source": []
  },
  {
   "cell_type": "code",
   "execution_count": 25,
   "id": "2ae29fdc-e36c-4666-81cd-19cb95a6ef92",
   "metadata": {},
   "outputs": [
    {
     "name": "stdout",
     "output_type": "stream",
     "text": [
      "Checking netlist: C:\\Users\\User\\OneDrive\\Documents\\GitHub\\SLiCAP_python\\files\\examples\\Chapter5\\SLiCAP/cir/halfswitch_LKY.cir\n"
     ]
    }
   ],
   "source": [
    "i3 = instruction()\n",
    "i3.setCircuit('halfswitch_LKY.cir')"
   ]
  },
  {
   "cell_type": "code",
   "execution_count": 28,
   "id": "ccb7e807-96bc-4b18-9320-fe1a46ab69eb",
   "metadata": {},
   "outputs": [],
   "source": [
    "i3.setSimType('symbolic');\n",
    "i3.setSource('I1') \n",
    "i3.setDetector ('V_out2')\n",
    "i3.setGainType('gain')\n",
    "i3.setDataType('zeros')\n",
    "i3.setSimType('symbolic')\n",
    "resultz = i3.execute()"
   ]
  },
  {
   "cell_type": "code",
   "execution_count": 30,
   "id": "8e63a16b-28dc-43c1-88cb-a48ec40d6c26",
   "metadata": {},
   "outputs": [
    {
     "name": "stdout",
     "output_type": "stream",
     "text": [
      "[(-sqrt(cb)*sqrt(-4*Lb + cb*rb**2) - cb*rb)/(2*Lb*cb), (sqrt(cb)*sqrt(-4*Lb + cb*rb**2) - cb*rb)/(2*Lb*cb), 0]\n"
     ]
    }
   ],
   "source": [
    "print(resultz.zeros)"
   ]
  },
  {
   "cell_type": "code",
   "execution_count": null,
   "id": "1aadabb7-8227-44fb-92ac-ce6ee1540168",
   "metadata": {},
   "outputs": [],
   "source": []
  }
 ],
 "metadata": {
  "kernelspec": {
   "display_name": "Python 3 (ipykernel)",
   "language": "python",
   "name": "python3"
  },
  "language_info": {
   "codemirror_mode": {
    "name": "ipython",
    "version": 3
   },
   "file_extension": ".py",
   "mimetype": "text/x-python",
   "name": "python",
   "nbconvert_exporter": "python",
   "pygments_lexer": "ipython3",
   "version": "3.9.18"
  }
 },
 "nbformat": 4,
 "nbformat_minor": 5
}
