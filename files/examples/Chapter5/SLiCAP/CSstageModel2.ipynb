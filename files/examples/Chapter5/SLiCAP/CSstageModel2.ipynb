{
 "cells": [
  {
   "cell_type": "code",
   "execution_count": 1,
   "id": "cb32638d-a3d2-4ae3-9149-33dd6dd821e8",
   "metadata": {},
   "outputs": [
    {
     "name": "stdout",
     "output_type": "stream",
     "text": [
      "Succesfully self-tested the Maxima command.\n",
      "SLiCAP Version matches with the latest release of SLiCAP on github.\n",
      "Running from an Ipython enviroment, importing SLiCAPnotebook.\n",
      "Sarting Maxima client on port 53118\n",
      "Maxima CAS client is active and functions have been uploaded.\n",
      "Compiling library: SLiCAP.lib.\n",
      "Compiling library: SLiCAPmodels.lib.\n"
     ]
    },
    {
     "data": {
      "text/plain": [
       "<SLiCAP.SLiCAP.SLiCAPproject at 0x29701f51dc0>"
      ]
     },
     "execution_count": 1,
     "metadata": {},
     "output_type": "execute_result"
    }
   ],
   "source": [
    "from SLiCAP import *\n",
    "initProject(\"CSstage small-signal dynamic behavior\")"
   ]
  },
  {
   "cell_type": "code",
   "execution_count": 16,
   "id": "58e3e32e-f9a3-40e4-b68f-6b117eca4fe9",
   "metadata": {},
   "outputs": [
    {
     "name": "stdout",
     "output_type": "stream",
     "text": [
      "Checking netlist: C:\\Users\\User\\Documents\\GitHub\\SLiCAP_python\\files\\examples\\Chapter5\\SLiCAP/cir/CSstageModel3.cir\n"
     ]
    }
   ],
   "source": [
    "from CSstageEKV import gm, go, cgs, cgb, cdg, cdb\n",
    "\n",
    "# Uncomment the next line if you want to overwrite the main html index page\n",
    "#prj = initProject('CSstageSmallSignal');\n",
    "\n",
    "# Generate netlist\n",
    "#makeNetlist('CSstageModel.asc', 'CS stage MOS small-signal model');\n",
    "\n",
    "i1 = instruction()\n",
    "i1.setCircuit('CSstageModel3.cir')\n",
    "# This creates an new index page in the html report and links to new pages\n",
    "# will now be placed on this index page\n",
    "i1.defPar('g_m', gm)\n",
    "i1.defPar('g_o', go)\n",
    "i1.defPar('c_gs', cgs)\n",
    "i1.defPar('c_gb', cgb)\n",
    "i1.defPar('c_dg', cdg)\n",
    "i1.defPar('c_db', cdb)"
   ]
  },
  {
   "cell_type": "code",
   "execution_count": 10,
   "id": "c5bfd6ef-25bf-4829-90f6-159adf215bcd",
   "metadata": {
    "tags": []
   },
   "outputs": [
    {
     "name": "stdout",
     "output_type": "stream",
     "text": [
      "Error: could note open 'C:\\Users\\User\\Documents\\GitHub\\SLiCAP_python\\files\\examples\\Chapter5\\SLiCAP/cir/CSstageModel2.cir'.\n"
     ]
    },
    {
     "data": {
      "text/plain": [
       "'<table><caption>Table: Parameter definitions in \\'R1\\'.</caption>\\n<tr><th class=\"left\">Name</th><th class=\"left\">Symbolic</th><th class=\"left\">Numeric</th></tr>\\n<tr><td class=\"left\">$$R_{L}$$</td><td class=\"left\">$$1.0 \\\\cdot 10^{4}$$</td><td class=\"left\">$$1.0 \\\\cdot 10^{4}$$</td></tr>\\n<tr><td class=\"left\">$$R_{s}$$</td><td class=\"left\">$$50$$</td><td class=\"left\">$$50.0$$</td></tr>\\n<tr><td class=\"left\">$$c_{db}$$</td><td class=\"left\">$$1.8 \\\\cdot 10^{-15}$$</td><td class=\"left\">$$1.8 \\\\cdot 10^{-15}$$</td></tr>\\n<tr><td class=\"left\">$$c_{dg}$$</td><td class=\"left\">$$4.6 \\\\cdot 10^{-15}$$</td><td class=\"left\">$$4.6 \\\\cdot 10^{-15}$$</td></tr>\\n<tr><td class=\"left\">$$c_{gb}$$</td><td class=\"left\">$$1.608 \\\\cdot 10^{-15}$$</td><td class=\"left\">$$1.608 \\\\cdot 10^{-15}$$</td></tr>\\n<tr><td class=\"left\">$$c_{gs}$$</td><td class=\"left\">$$1.496 \\\\cdot 10^{-14}$$</td><td class=\"left\">$$1.496 \\\\cdot 10^{-14}$$</td></tr>\\n<tr><td class=\"left\">$$g_{m}$$</td><td class=\"left\">$$0.00157$$</td><td class=\"left\">$$0.00157$$</td></tr>\\n<tr><td class=\"left\">$$g_{o}$$</td><td class=\"left\">$$6.173 \\\\cdot 10^{-6}$$</td><td class=\"left\">$$6.173 \\\\cdot 10^{-6}$$</td></tr>\\n</table>\\n<table><caption>Table: Parameters without definition in \\'R1.</caption>\\n\\n<tr><th class=\"left\">Name</th></tr>\\n<tr><td class=\"left\">$$R_{S}$$</td></tr>\\n</table>\\n'"
      ]
     },
     "execution_count": 10,
     "metadata": {},
     "output_type": "execute_result"
    }
   ],
   "source": [
    "\n",
    "htmlPage('Circuit data')\n",
    "head2html('Circuit diagram')\n",
    "img2html('CSstageModel.svg', 600)\n",
    "netlist2html('CSstageModel2.cir')\n",
    "elementData2html(i1.circuit)\n",
    "params2html(i1.circuit)"
   ]
  },
  {
   "cell_type": "code",
   "execution_count": 11,
   "id": "68342c55-7952-4605-97c1-2ac1f9dce23c",
   "metadata": {},
   "outputs": [
    {
     "name": "stdout",
     "output_type": "stream",
     "text": [
      "Error in plot data of 'magZtModel.svg'.\n"
     ]
    },
    {
     "name": "stderr",
     "output_type": "stream",
     "text": [
      "No handles with labels found to put in legend.\n"
     ]
    },
    {
     "data": {
      "image/png": "[encoded data removed]",
      "text/plain": [
       "<Figure size 504x360 with 1 Axes>"
      ]
     },
     "metadata": {
      "needs_background": "light"
     },
     "output_type": "display_data"
    },
    {
     "ename": "NameError",
     "evalue": "name 'LTmag' is not defined",
     "output_type": "error",
     "traceback": [
      "\u001b[1;31m---------------------------------------------------------------------------\u001b[0m",
      "\u001b[1;31mNameError\u001b[0m                                 Traceback (most recent call last)",
      "\u001b[1;32m~\\AppData\\Local\\Temp/ipykernel_15684/2007973046.py\u001b[0m in \u001b[0;36m<module>\u001b[1;34m\u001b[0m\n\u001b[0;32m     12\u001b[0m \u001b[0mhead2html\u001b[0m\u001b[1;33m(\u001b[0m\u001b[1;34m'Bode plots'\u001b[0m\u001b[1;33m)\u001b[0m\u001b[1;33m\u001b[0m\u001b[1;33m\u001b[0m\u001b[0m\n\u001b[0;32m     13\u001b[0m \u001b[0mmagZtModel\u001b[0m \u001b[1;33m=\u001b[0m \u001b[0mplotSweep\u001b[0m\u001b[1;33m(\u001b[0m\u001b[1;34m'magZtModel'\u001b[0m\u001b[1;33m,\u001b[0m \u001b[1;34m'magnitude'\u001b[0m\u001b[1;33m,\u001b[0m \u001b[0mgainModel\u001b[0m\u001b[1;33m,\u001b[0m \u001b[1;36m1\u001b[0m\u001b[1;33m,\u001b[0m \u001b[1;36m100e9\u001b[0m\u001b[1;33m,\u001b[0m \u001b[1;36m200\u001b[0m\u001b[1;33m,\u001b[0m \u001b[0mfuncType\u001b[0m \u001b[1;33m=\u001b[0m \u001b[1;34m'mag'\u001b[0m\u001b[1;33m,\u001b[0m \u001b[0mshow\u001b[0m\u001b[1;33m=\u001b[0m\u001b[1;32mTrue\u001b[0m\u001b[1;33m)\u001b[0m\u001b[1;33m\u001b[0m\u001b[1;33m\u001b[0m\u001b[0m\n\u001b[1;32m---> 14\u001b[1;33m \u001b[0mtraces2fig\u001b[0m\u001b[1;33m(\u001b[0m\u001b[0mLTmag\u001b[0m\u001b[1;33m,\u001b[0m \u001b[0mmagZtModel\u001b[0m\u001b[1;33m)\u001b[0m\u001b[1;33m\u001b[0m\u001b[1;33m\u001b[0m\u001b[0m\n\u001b[0m\u001b[0;32m     15\u001b[0m \u001b[0mmagZtModel\u001b[0m\u001b[1;33m.\u001b[0m\u001b[0mplot\u001b[0m\u001b[1;33m(\u001b[0m\u001b[1;33m)\u001b[0m\u001b[1;33m\u001b[0m\u001b[1;33m\u001b[0m\u001b[0m\n\u001b[0;32m     16\u001b[0m \u001b[0mfig2html\u001b[0m\u001b[1;33m(\u001b[0m\u001b[0mmagZtModel\u001b[0m\u001b[1;33m,\u001b[0m \u001b[1;36m600\u001b[0m\u001b[1;33m)\u001b[0m\u001b[1;33m\u001b[0m\u001b[1;33m\u001b[0m\u001b[0m\n",
      "\u001b[1;31mNameError\u001b[0m: name 'LTmag' is not defined"
     ]
    }
   ],
   "source": [
    "htmlPage('CS stage small-signal dynamic behavior')\n",
    "i1.setSimType('numeric');\n",
    "i1.setGainType('gain');\n",
    "i1.setDataType('laplace');\n",
    "i1.setSource('V1');\n",
    "i1.setDetector('V_out');\n",
    "gainModel = i1.execute()\n",
    "\n",
    "head2html('Numeric expression')\n",
    "eqn2html('Z_t', normalizeRational(gainModel.laplace))\n",
    "\n",
    "head2html('Bode plots')\n",
    "magZtModel = plotSweep('magZtModel', 'magnitude', gainModel, 1, 100e9, 200, funcType = 'mag', show=True)\n",
    "traces2fig(LTmag, magZtModel)\n",
    "magZtModel.plot()\n",
    "fig2html(magZtModel, 600)\n",
    "phaseZtModel = plotSweep('phaseZtModel', 'phase', gainModel, 1, 100e9, 200, funcType = 'phase', show=True)\n",
    "traces2fig(LTphase, phaseZtModel)\n",
    "phaseZtModel.plot()\n",
    "fig2html(phaseZtModel, 600)\n",
    "\n",
    "i1.setDataType('pz')\n",
    "pz2html(i1.execute())"
   ]
  },
  {
   "cell_type": "code",
   "execution_count": 12,
   "id": "7480abdc-fd11-4ebf-b4ac-acf458da73d4",
   "metadata": {},
   "outputs": [],
   "source": [
    "# Let us define an instruction to display the symbolic MNA matrix equation.\n",
    "# This is done by defining attributes of the instruction object 'i1'\n",
    "i1.setSimType('symbolic');\n",
    "i1.setGainType('vi');\n",
    "i1.setDataType('matrix');"
   ]
  },
  {
   "cell_type": "code",
   "execution_count": 13,
   "id": "b4b6aec6-09f7-433f-b371-99aa86ab299f",
   "metadata": {},
   "outputs": [],
   "source": [
    "# We execute the instruction and assign the result to a variable 'MNA'\n",
    "MNA = i1.execute();"
   ]
  },
  {
   "cell_type": "code",
   "execution_count": 14,
   "id": "5d8816dd-5506-4054-b170-ed2740a36a66",
   "metadata": {},
   "outputs": [
    {
     "data": {
      "text/html": [
       "<h3><a id=\"MNA\"></a>Matrix equation:</h3>\n",
       "\\begin{equation}\n",
       "\\left[\\begin{matrix}0\\\\0\\\\0\\\\0\\end{matrix}\\right]=\\left[\\begin{matrix}0 & 1 & 0 & 0\\\\1 & \\frac{1}{R_{S}} & - \\frac{1}{R_{S}} & 0\\\\0 & - \\frac{1}{R_{S}} & c_{dg} s + c_{gb} s + c_{gs} s + \\frac{1}{R_{S}} & - c_{dg} s\\\\0 & 0 & - c_{dg} s + g_{m} & c_{db} s + c_{dg} s + g_{o}\\end{matrix}\\right]\\cdot\\left[\\begin{matrix}I_{V1}\\\\V_{N001}\\\\V_{N002}\\\\V_{out}\\end{matrix}\\right]\n",
       "\\end{equation}\n"
      ],
      "text/plain": [
       "<IPython.core.display.HTML object>"
      ]
     },
     "execution_count": 14,
     "metadata": {},
     "output_type": "execute_result"
    }
   ],
   "source": [
    "# We will put the instruction on a new HTML page and display it in this notebook\n",
    "htmlPage('Matrix equations')\n",
    "# Let us put some explaining text in the report:\n",
    "text2html('The MNA matrix equation for the RC network is:')\n",
    "HTML(matrices2html(MNA, label = 'MNA', labelText = 'MNA equation of the network'))"
   ]
  },
  {
   "cell_type": "code",
   "execution_count": 15,
   "id": "8e7b7d92-67c3-4c5f-835b-056b5b4bcba0",
   "metadata": {},
   "outputs": [
    {
     "data": {
      "text/html": [
       "$$<a id=\"gainLaplace\"></a>\n",
       "\\begin{equation}\n",
       "\\frac{V_{out}}{V_{1}}=\\frac{c_{dg} s - g_{m}}{R_{S} s^{2} \\left(c_{db} c_{dg} + c_{gb} \\left(c_{db} + c_{dg}\\right) + c_{gs} \\left(c_{db} + c_{dg}\\right)\\right) + g_{o} + s \\left(R_{S} c_{dg} g_{m} + R_{S} c_{gb} g_{o} + R_{S} c_{gs} g_{o} + c_{db} + c_{dg} \\left(R_{S} g_{o} + 1\\right)\\right)}\n",
       "\\end{equation}\n",
       "$$"
      ],
      "text/plain": [
       "<IPython.core.display.HTML object>"
      ]
     },
     "execution_count": 15,
     "metadata": {},
     "output_type": "execute_result"
    }
   ],
   "source": [
    "i1.setSource('V1')    # 'V1' is the identifier of the independent source that we assign as signal source\n",
    "i1.setDetector('V_out') # 'V_out' is the voltage at node 'out' with respect to ground (node '0')\n",
    "# The transfer from source to load is called 'gain'. Later we will discuss more transfer types.\n",
    "i1.setGainType('gain')\n",
    "# The data that we would like to obtain is the Laplace transfer of the gain. SLiCAP has many different \n",
    "# data types. The data type for an instruction is also an attribute of the instruction object:\n",
    "i1.setDataType('laplace')\n",
    "# SLiCAP performs symbolic calculations, even when the data is numeric. In those case SLiCAP calculates\n",
    "# with rationals. Only in a limited number of cases SLiCAP calculates with floats.\n",
    "# Numeric values or combined numeric/symbolic expressions can be assigned to circuit parameters. In cases\n",
    "# in which the simulation type is set to 'numeric' such definitions are substituted recursively.\n",
    "#\n",
    "# Let us display the transfer symbolically. In this case we have no parameters defined, so 'numeric' will\n",
    "# give the same answer as 'symbolic'.\n",
    "i1.setSimType('symbolic')\n",
    "# Let us execute the (modified) instruction 'i1' and assign the result to the variable gain:\n",
    "gain = i1.execute()\n",
    "# The laplace transform can now be found in the attribute 'laplace' of 'gain'.\n",
    "HTML(eqn2html('V_out/V_1', gain.laplace, label = 'gainLaplace', labelText = 'Laplace transfer function'))"
   ]
  },
  {
   "cell_type": "code",
   "execution_count": 8,
   "id": "1e0c6ce9-8142-4139-b9e5-00db059ac187",
   "metadata": {},
   "outputs": [
    {
     "data": {
      "text/html": [
       "$$<a id=\"gainLaplace\"></a>\n",
       "\\begin{equation}\n",
       "\\frac{V_{out}}{I_{V1}}=\\frac{c_{dg} s - g_{m}}{g_{o} + s \\left(c_{db} + c_{dg}\\right)}\n",
       "\\end{equation}\n",
       "$$"
      ],
      "text/plain": [
       "<IPython.core.display.HTML object>"
      ]
     },
     "execution_count": 8,
     "metadata": {},
     "output_type": "execute_result"
    }
   ],
   "source": [
    "i1.setSource('V1')    # 'V1' is the identifier of the independent source that we assign as signal source\n",
    "i1.setDetector('V_out') # 'V_out' is the voltage at node 'out' with respect to ground (node '0')\n",
    "# The transfer from source to load is called 'gain'. Later we will discuss more transfer types.\n",
    "i1.setGainType('gain')\n",
    "# The data that we would like to obtain is the Laplace transfer of the gain. SLiCAP has many different \n",
    "# data types. The data type for an instruction is also an attribute of the instruction object:\n",
    "i1.setDataType('laplace')\n",
    "# SLiCAP performs symbolic calculations, even when the data is numeric. In those case SLiCAP calculates\n",
    "# with rationals. Only in a limited number of cases SLiCAP calculates with floats.\n",
    "# Numeric values or combined numeric/symbolic expressions can be assigned to circuit parameters. In cases\n",
    "# in which the simulation type is set to 'numeric' such definitions are substituted recursively.\n",
    "#\n",
    "# Let us display the transfer symbolically. In this case we have no parameters defined, so 'numeric' will\n",
    "# give the same answer as 'symbolic'.\n",
    "i1.setSimType('symbolic')\n",
    "# Let us execute the (modified) instruction 'i1' and assign the result to the variable gain:\n",
    "gain = i1.execute()\n",
    "# The laplace transform can now be found in the attribute 'laplace' of 'gain'.\n",
    "HTML(eqn2html('V_out/I_V1', gain.laplace, label = 'gainLaplace', labelText = 'Laplace transfer function'))"
   ]
  },
  {
   "cell_type": "code",
   "execution_count": 9,
   "id": "630d0b88-7605-4fa9-88cf-89de2eb570b3",
   "metadata": {},
   "outputs": [],
   "source": [
    "Help()"
   ]
  },
  {
   "cell_type": "code",
   "execution_count": null,
   "id": "8bf12834-7ea9-4726-924f-9b3142a0d24e",
   "metadata": {},
   "outputs": [],
   "source": []
  }
 ],
 "metadata": {
  "kernelspec": {
   "display_name": "Python 3 (ipykernel)",
   "language": "python",
   "name": "python3"
  },
  "language_info": {
   "codemirror_mode": {
    "name": "ipython",
    "version": 3
   },
   "file_extension": ".py",
   "mimetype": "text/x-python",
   "name": "python",
   "nbconvert_exporter": "python",
   "pygments_lexer": "ipython3",
   "version": "3.9.7"
  }
 },
 "nbformat": 4,
 "nbformat_minor": 5
}
